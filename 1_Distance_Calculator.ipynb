{
  "cells": [
    {
      "cell_type": "markdown",
      "source": [
        "  Describe how did you handle the data and all licenses that were respected."
      ],
      "metadata": {
        "id": "iRKUAbjoNyMm"
      }
    },
    {
      "cell_type": "markdown",
      "metadata": {
        "id": "qVQq8GE2ibsL"
      },
      "source": [
        "## Setup"
      ]
    },
    {
      "cell_type": "code",
      "source": [
        "!pip install geopandas== 0.12\n",
        "!pip install matplotlib==3.6\n",
        "!pip install networkx==2.8\n",
        "!pip install numpy==1.23\n",
        "!pip install pandas==1.5\n",
        "!pip install pyproj==3.4\n",
        "!pip install Shapely==1.7\n",
        "!pip install osmnx"
      ],
      "metadata": {
        "id": "XuOjKiA7LRJS"
      },
      "execution_count": null,
      "outputs": []
    },
    {
      "cell_type": "code",
      "execution_count": null,
      "metadata": {
        "id": "0vNWtqYyjv0Y"
      },
      "outputs": [],
      "source": [
        "import warnings"
      ]
    },
    {
      "cell_type": "code",
      "source": [
        "try:\n",
        "    import geopy\n",
        "except ModuleNotFoundError as e:\n",
        "    %pip install geopy==2.2.0\n",
        "    import geopy\n",
        "if geopy.__version__ != \"2.2.0\":\n",
        "    !pip install -U geopy==2.2.0\n",
        "    import geopy"
      ],
      "metadata": {
        "id": "LIL05_Da9leE"
      },
      "execution_count": null,
      "outputs": []
    },
    {
      "cell_type": "code",
      "source": [
        "#If you can't run osmnx\n",
        "#!apt install libspatialindex-dev\n",
        "try:\n",
        "  import osmnx  as ox\n",
        "except ModuleNotFoundError as e:\n",
        "  !pip install osmnx\n",
        "  import osmnx  as ox"
      ],
      "metadata": {
        "id": "RcE547bK9-OU",
        "colab": {
          "base_uri": "https://localhost:8080/"
        },
        "outputId": "51e57b5c-c43c-4cee-b363-7124ff23d1ee"
      },
      "execution_count": null,
      "outputs": [
        {
          "output_type": "stream",
          "name": "stdout",
          "text": [
            "Reading package lists... Done\n",
            "Building dependency tree       \n",
            "Reading state information... Done\n",
            "libspatialindex-dev is already the newest version (1.8.5-5).\n",
            "The following package was automatically installed and is no longer required:\n",
            "  libnvidia-common-460\n",
            "Use 'apt autoremove' to remove it.\n",
            "0 upgraded, 0 newly installed, 0 to remove and 21 not upgraded.\n",
            "Looking in indexes: https://pypi.org/simple, https://us-python.pkg.dev/colab-wheels/public/simple/\n",
            "Requirement already satisfied: osmnx in /usr/local/lib/python3.8/dist-packages (1.1.2)\n",
            "Requirement already satisfied: Rtree>=0.9 in /usr/local/lib/python3.8/dist-packages (from osmnx) (1.0.1)\n",
            "Requirement already satisfied: numpy>=1.21 in /usr/local/lib/python3.8/dist-packages (from osmnx) (1.24.1)\n",
            "Requirement already satisfied: requests>=2.26 in /usr/local/lib/python3.8/dist-packages (from osmnx) (2.28.2)\n",
            "Requirement already satisfied: Shapely<2.0,>=1.7 in /usr/local/lib/python3.8/dist-packages (from osmnx) (1.8.5.post1)\n",
            "Requirement already satisfied: networkx>=2.6 in /usr/local/lib/python3.8/dist-packages (from osmnx) (2.8.8)\n",
            "Requirement already satisfied: matplotlib>=3.4 in /usr/local/lib/python3.8/dist-packages (from osmnx) (3.6.3)\n",
            "Requirement already satisfied: geopandas>=0.10 in /usr/local/lib/python3.8/dist-packages (from osmnx) (0.12.2)\n",
            "Requirement already satisfied: pyproj>=3.2 in /usr/local/lib/python3.8/dist-packages (from osmnx) (3.4.1)\n",
            "Requirement already satisfied: pandas>=1.3 in /usr/local/lib/python3.8/dist-packages (from osmnx) (1.5.2)\n",
            "Requirement already satisfied: packaging in /usr/local/lib/python3.8/dist-packages (from geopandas>=0.10->osmnx) (21.3)\n",
            "Requirement already satisfied: fiona>=1.8 in /usr/local/lib/python3.8/dist-packages (from geopandas>=0.10->osmnx) (1.8.22)\n",
            "Requirement already satisfied: kiwisolver>=1.0.1 in /usr/local/lib/python3.8/dist-packages (from matplotlib>=3.4->osmnx) (1.4.4)\n",
            "Requirement already satisfied: python-dateutil>=2.7 in /usr/local/lib/python3.8/dist-packages (from matplotlib>=3.4->osmnx) (2.8.2)\n",
            "Requirement already satisfied: contourpy>=1.0.1 in /usr/local/lib/python3.8/dist-packages (from matplotlib>=3.4->osmnx) (1.0.7)\n",
            "Requirement already satisfied: fonttools>=4.22.0 in /usr/local/lib/python3.8/dist-packages (from matplotlib>=3.4->osmnx) (4.38.0)\n",
            "Requirement already satisfied: cycler>=0.10 in /usr/local/lib/python3.8/dist-packages (from matplotlib>=3.4->osmnx) (0.11.0)\n",
            "Requirement already satisfied: pillow>=6.2.0 in /usr/local/lib/python3.8/dist-packages (from matplotlib>=3.4->osmnx) (7.1.2)\n",
            "Requirement already satisfied: pyparsing>=2.2.1 in /usr/local/lib/python3.8/dist-packages (from matplotlib>=3.4->osmnx) (3.0.9)\n",
            "Requirement already satisfied: pytz>=2020.1 in /usr/local/lib/python3.8/dist-packages (from pandas>=1.3->osmnx) (2022.7)\n",
            "Requirement already satisfied: certifi in /usr/local/lib/python3.8/dist-packages (from pyproj>=3.2->osmnx) (2022.12.7)\n",
            "Requirement already satisfied: urllib3<1.27,>=1.21.1 in /usr/local/lib/python3.8/dist-packages (from requests>=2.26->osmnx) (1.24.3)\n",
            "Requirement already satisfied: idna<4,>=2.5 in /usr/local/lib/python3.8/dist-packages (from requests>=2.26->osmnx) (2.10)\n",
            "Requirement already satisfied: charset-normalizer<4,>=2 in /usr/local/lib/python3.8/dist-packages (from requests>=2.26->osmnx) (2.1.1)\n",
            "Requirement already satisfied: click-plugins>=1.0 in /usr/local/lib/python3.8/dist-packages (from fiona>=1.8->geopandas>=0.10->osmnx) (1.1.1)\n",
            "Requirement already satisfied: cligj>=0.5 in /usr/local/lib/python3.8/dist-packages (from fiona>=1.8->geopandas>=0.10->osmnx) (0.7.2)\n",
            "Requirement already satisfied: setuptools in /usr/local/lib/python3.8/dist-packages (from fiona>=1.8->geopandas>=0.10->osmnx) (57.4.0)\n",
            "Requirement already satisfied: attrs>=17 in /usr/local/lib/python3.8/dist-packages (from fiona>=1.8->geopandas>=0.10->osmnx) (22.2.0)\n",
            "Requirement already satisfied: click>=4.0 in /usr/local/lib/python3.8/dist-packages (from fiona>=1.8->geopandas>=0.10->osmnx) (7.1.2)\n",
            "Requirement already satisfied: six>=1.7 in /usr/local/lib/python3.8/dist-packages (from fiona>=1.8->geopandas>=0.10->osmnx) (1.15.0)\n",
            "Requirement already satisfied: munch in /usr/local/lib/python3.8/dist-packages (from fiona>=1.8->geopandas>=0.10->osmnx) (2.5.0)\n"
          ]
        }
      ]
    },
    {
      "cell_type": "code",
      "execution_count": null,
      "metadata": {
        "id": "NJYWZlhKilnr",
        "colab": {
          "base_uri": "https://localhost:8080/"
        },
        "outputId": "17704952-a57f-4e85-aedd-2aaf8a47dee2"
      },
      "outputs": [
        {
          "output_type": "stream",
          "name": "stderr",
          "text": [
            "/usr/local/lib/python3.8/dist-packages/geopandas/_compat.py:123: UserWarning: The Shapely GEOS version (3.10.3-CAPI-1.16.1) is incompatible with the GEOS version PyGEOS was compiled with (3.10.4-CAPI-1.16.2). Conversions between both will be slow.\n",
            "  warnings.warn(\n"
          ]
        }
      ],
      "source": [
        "try:\n",
        "  import geopandas as gpd\n",
        "except ModuleNotFoundError as e:\n",
        "  %pip install geopandas\n",
        "  import geopandas as gpd"
      ]
    },
    {
      "cell_type": "code",
      "execution_count": null,
      "metadata": {
        "id": "Oqqdb00TiYHs"
      },
      "outputs": [],
      "source": [
        "try:\n",
        "  import pygeos\n",
        "except ModuleNotFoundError as e:\n",
        "  %pip install pygeos\n",
        "  import pygeos"
      ]
    },
    {
      "cell_type": "code",
      "execution_count": null,
      "metadata": {
        "id": "GepspjnbilqO"
      },
      "outputs": [],
      "source": [
        "%pip install igraph\n",
        "import igraph"
      ]
    },
    {
      "cell_type": "code",
      "source": [
        "#Always after geopandas!!!\n",
        "try:\n",
        "  import pyrosm\n",
        "except ModuleNotFoundError as e:\n",
        "  %pip install pyrosm\n",
        "  import pyrosm"
      ],
      "metadata": {
        "id": "rSXX3AEHBZuD"
      },
      "execution_count": null,
      "outputs": []
    },
    {
      "cell_type": "code",
      "execution_count": null,
      "metadata": {
        "id": "4dS7Fh9nipc_"
      },
      "outputs": [],
      "source": [
        "import requests\n",
        "import geopandas as gpd\n",
        "import fiona\n",
        "import urllib\n",
        "import os\n",
        "import zipfile, io\n",
        "import urllib3\n",
        "import ssl\n",
        "import shutil\n",
        "from matplotlib import pyplot as plt\n",
        "import networkx as nx\n",
        "from geopy.geocoders import Nominatim\n"
      ]
    },
    {
      "cell_type": "markdown",
      "metadata": {
        "id": "ScK8pMmFvmva"
      },
      "source": [
        "Now for the functions required to interact with Istat using colab:"
      ]
    },
    {
      "cell_type": "code",
      "execution_count": null,
      "metadata": {
        "id": "ZpnLhvyrvmUn"
      },
      "outputs": [],
      "source": [
        "\n",
        "class CustomHttpAdapter(requests.adapters.HTTPAdapter):\n",
        "  def __init__(self, ssl_context=None, **kwargs):\n",
        "    self.ssl_context = ssl_context\n",
        "    super().__init__(**kwargs)\n",
        "\n",
        "  def init_poolmanager(self, connections, maxsize, block=False):\n",
        "    self.poolmanager = urllib3.poolmanager.PoolManager(num_pools=connections, maxsize=maxsize, block=block, ssl_context=self.ssl_context)\n",
        "\n",
        "def get_legacy_session():\n",
        "  ctx = ssl.create_default_context(ssl.Purpose.SERVER_AUTH)\n",
        "  ctx.options |= 0x4  \n",
        "  session = requests.session()\n",
        "  session.mount('https://', CustomHttpAdapter(ctx))\n",
        "  return session\n",
        "\n",
        "def download_file(url):\n",
        "# source: https://stackoverflow.com/a/33488338\n",
        "  local_filename = url.split('/')[-1]\n",
        "  with get_legacy_session() as s:\n",
        "    r = s.get(url, stream=True)\n",
        "    r.raw.decode_content = True\n",
        "    with open(local_filename, 'wb') as f:\n",
        "      shutil.copyfileobj(r.raw, f)\n",
        "  return local_filename"
      ]
    },
    {
      "cell_type": "code",
      "execution_count": null,
      "metadata": {
        "id": "kGOQmDGfwOuK"
      },
      "outputs": [],
      "source": [
        "if not os.path.exists('Limiti01012022'):\n",
        "    zip_file_url = 'https://www.istat.it/storage/cartografia/confini_amministrativi/non_generalizzati/Limiti01012022.zip'\n",
        "    zip_file_name = \"Limiti01012022.zip\"\n",
        "    \n",
        "    try: \n",
        "      urllib.request.urlretrieve(zip_file_url ,zip_file_name) \n",
        "    \n",
        "    except:\n",
        "      zip_file_name = download_file(zip_file_url)\n",
        "\n",
        "    z = zipfile.ZipFile(zip_file_name)\n",
        "    # unzip the file\n",
        "    z.extractall()"
      ]
    },
    {
      "cell_type": "code",
      "execution_count": null,
      "metadata": {
        "id": "MjyNew5ZwQCe",
        "colab": {
          "base_uri": "https://localhost:8080/"
        },
        "outputId": "c0e9e0ca-e3a4-4aaa-8508-d031e14c25be"
      },
      "outputs": [
        {
          "output_type": "stream",
          "name": "stdout",
          "text": [
            "Com01012022_WGS84.dbf\n",
            "Com01012022_WGS84.prj\n",
            "Com01012022_WGS84.shx\n",
            "Com01012022_WGS84.shp\n"
          ]
        }
      ],
      "source": [
        "os.listdir('Limiti01012022')\n",
        "os.chdir('Limiti01012022')\n",
        "os.chdir('Com01012022')\n",
        "\n",
        "for root, dirs, files in os.walk(\".\"):  \n",
        "    for filename in files:\n",
        "        print(filename)"
      ]
    },
    {
      "cell_type": "code",
      "execution_count": null,
      "metadata": {
        "id": "5RnHM7TrwRJo"
      },
      "outputs": [],
      "source": [
        "cities=gpd.read_file('Com01012022_WGS84.shp')"
      ]
    },
    {
      "cell_type": "markdown",
      "metadata": {
        "id": "woLUayO0jYqu"
      },
      "source": [
        "## Start"
      ]
    },
    {
      "cell_type": "markdown",
      "metadata": {
        "id": "arC51AMrjG1B"
      },
      "source": [
        "I want to compute the distance between two cities, assuming one travel by car.\n",
        "First, we set as input one location and we localize it, plotting it and finding the province it belongs to. I'm using simplemaps's list of italian cities, available here:\n",
        "https://simplemaps.com/data/it-cities"
      ]
    },
    {
      "cell_type": "markdown",
      "metadata": {
        "id": "gdhqIKWq-fQ3"
      },
      "source": [
        "For now I try only cities belonging to the same region, as I tried using the whole country but it would require many Gb of RAM and storing capacities."
      ]
    },
    {
      "cell_type": "code",
      "execution_count": null,
      "metadata": {
        "id": "gSjj-vGAjV7s",
        "colab": {
          "base_uri": "https://localhost:8080/"
        },
        "outputId": "f012aca1-7c36-4a3b-deeb-d546924c124c"
      },
      "outputs": [
        {
          "name": "stdout",
          "output_type": "stream",
          "text": [
            "Starting address: Modena\n"
          ]
        }
      ],
      "source": [
        "start = input(\"Starting address: \")\n",
        "point_1 = gpd.tools.geocode(start, provider=\"arcgis\")    "
      ]
    },
    {
      "cell_type": "markdown",
      "metadata": {
        "id": "xOAxMI2vraCQ"
      },
      "source": [
        "Here, make sure that we are selecting an italian city!!"
      ]
    },
    {
      "cell_type": "markdown",
      "metadata": {
        "id": "WcSXQxIXrmRh"
      },
      "source": [
        "Nominatim is an API which allows us to know the province, region and country of any given location."
      ]
    },
    {
      "cell_type": "code",
      "execution_count": null,
      "metadata": {
        "id": "xeNOuccnsAVp",
        "colab": {
          "base_uri": "https://localhost:8080/"
        },
        "outputId": "b3cb3b63-db70-48c2-d1f8-306353d2c2d7"
      },
      "outputs": [
        {
          "output_type": "stream",
          "name": "stdout",
          "text": [
            "Provincia: Modena\n"
          ]
        }
      ],
      "source": [
        "geolocator = Nominatim(user_agent=\"geoapiExercises\")\n",
        "location = geolocator.reverse(str(float(point_1.geometry.y))+\",\"+ str(float(point_1.geometry.x)))\n",
        "\n",
        "start_address = location.raw['address']\n",
        "#We get the province.\n",
        "\n",
        "if start_address['country'] != 'Italia':\n",
        "  print('Restart! Not an italian city')\n",
        "print('Provincia:', start_address['county'])"
      ]
    },
    {
      "cell_type": "code",
      "execution_count": null,
      "metadata": {
        "id": "RPe7YJEU-xWQ",
        "colab": {
          "base_uri": "https://localhost:8080/"
        },
        "outputId": "02b17e78-b4ca-43f2-da0b-80c3486c18ee"
      },
      "outputs": [
        {
          "output_type": "execute_result",
          "data": {
            "text/plain": [
              "{'house_number': '2',\n",
              " 'road': 'Via Emilia Est',\n",
              " 'suburb': 'Musicisti',\n",
              " 'city': 'Modena',\n",
              " 'county': 'Modena',\n",
              " 'ISO3166-2-lvl6': 'IT-MO',\n",
              " 'state': 'Emilia-Romagna',\n",
              " 'ISO3166-2-lvl4': 'IT-45',\n",
              " 'postcode': '41124',\n",
              " 'country': 'Italia',\n",
              " 'country_code': 'it'}"
            ]
          },
          "metadata": {},
          "execution_count": 25
        }
      ],
      "source": [
        "start_address"
      ]
    },
    {
      "cell_type": "code",
      "execution_count": null,
      "metadata": {
        "id": "R70DEG7ZtPNP"
      },
      "outputs": [],
      "source": [
        "city_start = cities[cities['COMUNE'] == start_address['city']]\n",
        "city_start.plot()\n",
        "print('Starting City: ', start_address['city'])\n",
        "plt.show()\n"
      ]
    },
    {
      "cell_type": "markdown",
      "metadata": {
        "id": "34OQlxtJ7161"
      },
      "source": [
        "Now, I take a local map of car roads in order to be able to find the shortest route between two cities; the next step will be to compute its cost."
      ]
    },
    {
      "cell_type": "code",
      "execution_count": null,
      "metadata": {
        "id": "ieG1QHnz-S6M"
      },
      "outputs": [],
      "source": [
        "# ox.config(log_console=True)\n",
        "# gdf = ox.geocode_to_gdf('Italy')\n",
        "# gdf.plot()"
      ]
    },
    {
      "cell_type": "code",
      "execution_count": null,
      "metadata": {
        "id": "JajPmv5Z9rAR"
      },
      "outputs": [],
      "source": [
        "area = start_address['county']\n",
        "#USE COUNTY FOR TRIAL RUNS, STATE FOR THE ACTUAL DEMO.\n",
        "area"
      ]
    },
    {
      "cell_type": "code",
      "execution_count": null,
      "metadata": {
        "id": "hfDJrHmo5_Pf"
      },
      "outputs": [],
      "source": [
        "G = ox.graph_from_place(area, network_type='drive') #Only need to be ran once."
      ]
    },
    {
      "cell_type": "code",
      "execution_count": null,
      "metadata": {
        "id": "4MD-jnJT79q5"
      },
      "outputs": [],
      "source": [
        "G = ox.add_edge_speeds(G)\n",
        "G = ox.add_edge_travel_times(G)\n",
        "ox.save_graphml(G, \"region_roads.graphml\")"
      ]
    },
    {
      "cell_type": "code",
      "execution_count": null,
      "metadata": {
        "id": "ImbRNhdS8Hnl"
      },
      "outputs": [],
      "source": [
        "G = ox.load_graphml(\"region_roads.graphml\")"
      ]
    },
    {
      "cell_type": "code",
      "execution_count": null,
      "metadata": {
        "id": "9pzj5hRZ3Juq"
      },
      "outputs": [],
      "source": [
        "point_nearest_start = ox.distance.nearest_nodes(G,Y=location[1][0], X=location[1][1])"
      ]
    },
    {
      "cell_type": "markdown",
      "metadata": {
        "id": "VeoHM-7GwDAs"
      },
      "source": [
        "## End"
      ]
    },
    {
      "cell_type": "code",
      "execution_count": null,
      "metadata": {
        "id": "9FpJda5zvQVj"
      },
      "outputs": [],
      "source": [
        "end = input(\"Destination: \")\n",
        "point_2 = gpd.tools.geocode(end, provider=\"arcgis\")"
      ]
    },
    {
      "cell_type": "code",
      "execution_count": null,
      "metadata": {
        "id": "wI4SIsCQwV9S"
      },
      "outputs": [],
      "source": [
        "geolocator = Nominatim(user_agent=\"geoapiExercises\")\n",
        "location2 = geolocator.reverse(str(float(point_2.geometry.y))+\",\"+ str(float(point_2.geometry.x)))\n",
        "\n",
        "end_address = location2.raw['address']"
      ]
    },
    {
      "cell_type": "code",
      "execution_count": null,
      "metadata": {
        "id": "ZB55K8k9_3bZ"
      },
      "outputs": [],
      "source": [
        "location2.raw"
      ]
    },
    {
      "cell_type": "code",
      "execution_count": null,
      "metadata": {
        "id": "zyNBxQG8_Bdn"
      },
      "outputs": [],
      "source": [
        "if start_address['county'] !=  end_address['county']:\n",
        "  print('Not from the same province!')"
      ]
    },
    {
      "cell_type": "code",
      "execution_count": null,
      "metadata": {
        "id": "hfh109yXwaGH"
      },
      "outputs": [],
      "source": [
        "city_end = cities[cities['COMUNE'] == end_address['town']]\n",
        "city_end.plot()\n",
        "print('Arriving city: ', end_address['town'])\n",
        "plt.show()"
      ]
    },
    {
      "cell_type": "code",
      "execution_count": null,
      "metadata": {
        "id": "TWWi5ZU-7KXB"
      },
      "outputs": [],
      "source": [
        "point_nearest_end = ox.distance.nearest_nodes(G,Y=location2[1][0], X=location2[1][1])"
      ]
    },
    {
      "cell_type": "markdown",
      "metadata": {
        "id": "T31UU0Hq8zR9"
      },
      "source": [
        "## Travel"
      ]
    },
    {
      "cell_type": "code",
      "execution_count": null,
      "metadata": {
        "id": "QFk3B0-251tZ"
      },
      "outputs": [],
      "source": [
        "distance = point_1.to_crs('epsg:32632').geometry.distance(point_2.geometry.to_crs('epsg:32632')).values[0] / 1000\n",
        "distance = round(distance, 3)\n",
        "print('Distance: ', distance, 'km')"
      ]
    },
    {
      "cell_type": "markdown",
      "metadata": {
        "id": "vmQObAoi8_i3"
      },
      "source": [
        "Here I plot the shortest route by distance."
      ]
    },
    {
      "cell_type": "code",
      "execution_count": null,
      "metadata": {
        "id": "feBF_3Jr8bFu"
      },
      "outputs": [],
      "source": [
        "shortest_path_distance = ox.shortest_path(G, point_nearest_start, point_nearest_end, weight='length')\n",
        "travel_time = nx.shortest_path_length(G, point_nearest_start, point_nearest_end, weight='travel_time')\n",
        "minutes = travel_time // 60 \n",
        "seconds = round(travel_time % 60*0.6)\n",
        "\n",
        "km_distance = round(nx.shortest_path_length(G, point_nearest_start, point_nearest_end, weight='length')/1000, 3)"
      ]
    },
    {
      "cell_type": "code",
      "execution_count": null,
      "metadata": {
        "id": "mIRmBE5d83-V"
      },
      "outputs": [],
      "source": [
        "#print('Expected Travel time: ', minutes, 'minutes and ', seconds, 'seconds')\n",
        "print('Distance: ', km_distance,'km')\n",
        "fig, ax = ox.plot_graph_route(G, shortest_path_distance, route_color='green', route_linewidth=6, node_size=0)\n",
        "plt.show()"
      ]
    },
    {
      "cell_type": "markdown",
      "metadata": {
        "id": "eiVQXohtrJ43"
      },
      "source": [
        "Now, I want to compute the travel cost; assuming one goes by car, I searched online for answers and for this project I'm assuming an average consumption of 1 liter of fuel for each 15 km travelled and a fuel cost of 1.65 € per liter.\n",
        "\n",
        "Highway assumes an average speed of 100 km/h, freeway 70 km/h.\n",
        "The main drawback is that going through highways has a price, which I found to be around 0.09€/km on average (of course, the exact price will change based on which part of the country you are travelling in, especially on the Northern regions)."
      ]
    },
    {
      "cell_type": "markdown",
      "source": [
        "Sources:\n",
        "https://www.autostrade.it/en/il-pedaggio/come-si-calcola-il-pedaggio\n",
        "\n",
        "https://www.trend-online.com/risparmio/autostrade-piu-care-italia-quali-sono-km/\n",
        "\n",
        "https://www.globalpetrolprices.com/Italy/gasoline_prices/"
      ],
      "metadata": {
        "id": "VqhRw5C6Ejsm"
      }
    },
    {
      "cell_type": "code",
      "execution_count": null,
      "metadata": {
        "id": "7WHXK3SZtNLv"
      },
      "outputs": [],
      "source": [
        "h_minute_time = round(km_distance*60//100)\n",
        "h_seconds_time = round((km_distance * 60) % 100*0.6)\n",
        "h_time= str(h_minute_time) + ' minutes, ' + str(h_seconds_time) + ' seconds '\n",
        "\n",
        "f_minute_time = round(km_distance*60//70)\n",
        "f_seconds_time = round((km_distance * 60) % 65*0.6)\n",
        "f_time= str(f_minute_time) + ' minutes, ' + str(f_seconds_time) + ' seconds '\n",
        "\n",
        "price = round(1.65/15 * km_distance,2)\n",
        "f_cost = price\n",
        "h_cost = price + round(0.09*km_distance,2)\n",
        "\n",
        "print('Car travel information:\\nHighway price = ', h_cost, '€', '; Highway time =', h_time)\n",
        "print('Freeway price = ', f_cost,'€ ; Freeway time = ', f_time)"
      ]
    },
    {
      "cell_type": "markdown",
      "source": [
        "Optional: create isochrones by price based on distance!!"
      ],
      "metadata": {
        "id": "Bf0X4bNaFT78"
      }
    },
    {
      "cell_type": "code",
      "source": [],
      "metadata": {
        "id": "SHhFug77kIcR"
      },
      "execution_count": null,
      "outputs": []
    },
    {
      "cell_type": "markdown",
      "source": [
        "Alternative: Pyrosm maps!!!\n",
        "RICHIEDE COMUNQUE TROPPA RAM"
      ],
      "metadata": {
        "id": "cmKxhHMd9B61"
      }
    },
    {
      "cell_type": "code",
      "source": [
        "region_list = {'Piemonte': '01_Piemonte_poly.osm.pbf', \"Valle d'Aosta\":\"02_Valle d'Aosta - Vallée d'Aoste_poly.osm.pbf\", \n",
        "               'Lombardia': '03_Lombardia_poly.osm.pbf', 'Trentino-Alto Adige/Südtirol': '04_Trentino-Alto Adige-Südtirol_poly.osm.pbf',\n",
        "               'Veneto': '05_Veneto_poly.osm.pbf', 'Friuli-Venezia Giulia': '06_Friuli-Venezia Giulia_poly.osm.pbf', 'Liguria':'07_Liguria_poly.osm.pbf',\n",
        "               'Emilia-Romagna':'08_Emilia-Romagna_poly.osm.pbf', 'Toscana':'09_Toscana_poly.osm.pbf', 'Umbria':'10_Umbria_poly.osm.pbf',\n",
        "               'Marche':'11_Marche_poly.osm.pbf', 'Lazio':'12_Lazio_poly.osm.pbf', 'Abruzzo':'13_Abruzzo_poly.osm.pbf', 'Molise':'14_Molise_poly.osm.pbf',\n",
        "               'Campania':'15_Campania_poly.osm.pbf', 'Puglia':'16_Puglia_poly.osm.pbf', 'Basilicata':'17_Basilicata_poly.osm.pbf',\n",
        "               'Calabria':'18_Calabria_poly.osm.pbf','Sicilia':'19_Sicilia_poly.osm.pbf', 'Sardegna':'20_Sardigna-Sardegna_poly.osm.pbf'}"
      ],
      "metadata": {
        "id": "rerZszur9PdJ"
      },
      "execution_count": null,
      "outputs": []
    },
    {
      "cell_type": "code",
      "source": [
        "url_download_region_pbf = 'https://osmit-estratti-test.wmcloud.org/dati/poly/regioni/pbf/' + region_list[start_address['state']]\n",
        "urllib.request.urlretrieve(url_download_region_pbf ,\"region_osm.pbf\")\n",
        "\n",
        "osm = pyrosm.OSM(\"region_osm.pbf\") "
      ],
      "metadata": {
        "id": "QrvaAI8e9Agi"
      },
      "execution_count": null,
      "outputs": []
    },
    {
      "cell_type": "code",
      "source": [
        "nodes, edges = osm.get_network(nodes=True, network_type=\"driving\")"
      ],
      "metadata": {
        "id": "EyQuKEcE9i4X"
      },
      "execution_count": null,
      "outputs": []
    },
    {
      "cell_type": "code",
      "source": [
        "G = osm.to_graph(nodes, edges, graph_type=\"networkx\")\n",
        "route = ox.shortest_path(G, point_nearest_start, point_nearest_end, weight='length')\n",
        "fig, ax = ox.plot_graph_route(G, route, route_linewidth=6, node_size=0, bgcolor='k')\n",
        "plt.show()"
      ],
      "metadata": {
        "colab": {
          "base_uri": "https://localhost:8080/",
          "height": 217
        },
        "id": "wD3MpiMQ9i88",
        "outputId": "972aafce-f5ed-4e30-9a8c-8131f24f2a6e"
      },
      "execution_count": null,
      "outputs": [
        {
          "output_type": "error",
          "ename": "NameError",
          "evalue": "ignored",
          "traceback": [
            "\u001b[0;31m---------------------------------------------------------------------------\u001b[0m",
            "\u001b[0;31mNameError\u001b[0m                                 Traceback (most recent call last)",
            "\u001b[0;32m<ipython-input-1-acc353f50933>\u001b[0m in \u001b[0;36m<module>\u001b[0;34m\u001b[0m\n\u001b[0;32m----> 1\u001b[0;31m \u001b[0mG\u001b[0m \u001b[0;34m=\u001b[0m \u001b[0mosm\u001b[0m\u001b[0;34m.\u001b[0m\u001b[0mto_graph\u001b[0m\u001b[0;34m(\u001b[0m\u001b[0mnodes\u001b[0m\u001b[0;34m,\u001b[0m \u001b[0medges\u001b[0m\u001b[0;34m,\u001b[0m \u001b[0mgraph_type\u001b[0m\u001b[0;34m=\u001b[0m\u001b[0;34m\"networkx\"\u001b[0m\u001b[0;34m)\u001b[0m\u001b[0;34m\u001b[0m\u001b[0;34m\u001b[0m\u001b[0m\n\u001b[0m\u001b[1;32m      2\u001b[0m \u001b[0mroute\u001b[0m \u001b[0;34m=\u001b[0m \u001b[0mox\u001b[0m\u001b[0;34m.\u001b[0m\u001b[0mshortest_path\u001b[0m\u001b[0;34m(\u001b[0m\u001b[0mG\u001b[0m\u001b[0;34m,\u001b[0m \u001b[0mpoint_nearest_start\u001b[0m\u001b[0;34m,\u001b[0m \u001b[0mpoint_nearest_end\u001b[0m\u001b[0;34m,\u001b[0m \u001b[0mweight\u001b[0m\u001b[0;34m=\u001b[0m\u001b[0;34m'length'\u001b[0m\u001b[0;34m)\u001b[0m\u001b[0;34m\u001b[0m\u001b[0;34m\u001b[0m\u001b[0m\n\u001b[1;32m      3\u001b[0m \u001b[0mfig\u001b[0m\u001b[0;34m,\u001b[0m \u001b[0max\u001b[0m \u001b[0;34m=\u001b[0m \u001b[0mox\u001b[0m\u001b[0;34m.\u001b[0m\u001b[0mplot_graph_route\u001b[0m\u001b[0;34m(\u001b[0m\u001b[0mG\u001b[0m\u001b[0;34m,\u001b[0m \u001b[0mroute\u001b[0m\u001b[0;34m,\u001b[0m \u001b[0mroute_linewidth\u001b[0m\u001b[0;34m=\u001b[0m\u001b[0;36m6\u001b[0m\u001b[0;34m,\u001b[0m \u001b[0mnode_size\u001b[0m\u001b[0;34m=\u001b[0m\u001b[0;36m0\u001b[0m\u001b[0;34m,\u001b[0m \u001b[0mbgcolor\u001b[0m\u001b[0;34m=\u001b[0m\u001b[0;34m'k'\u001b[0m\u001b[0;34m)\u001b[0m\u001b[0;34m\u001b[0m\u001b[0;34m\u001b[0m\u001b[0m\n\u001b[1;32m      4\u001b[0m \u001b[0mplt\u001b[0m\u001b[0;34m.\u001b[0m\u001b[0mshow\u001b[0m\u001b[0;34m(\u001b[0m\u001b[0;34m)\u001b[0m\u001b[0;34m\u001b[0m\u001b[0;34m\u001b[0m\u001b[0m\n",
            "\u001b[0;31mNameError\u001b[0m: name 'osm' is not defined"
          ]
        }
      ]
    },
    {
      "cell_type": "code",
      "source": [
        "trip_times = [30, 45, 60, 75, 90]\n",
        "\n",
        "f_travel_speed = 65  #Freeway\n",
        "h_travel_speed = 100 #highway\n",
        "\n",
        "center_node = point_nearest_start\n",
        "\n",
        "#Freeway: \n",
        "meters_per_minute = f_travel_speed * 1000 / 60  # km per hour to m per minute\n",
        "for orig,dest, p, data in G_proj.edges(data=True, keys=True):\n",
        "    data[\"time\"] = data[\"length\"] / meters_per_minute\n",
        "\n",
        "for trip_time in sorted(trip_times, reverse=True):\n",
        "    subgraph = nx.ego_graph(G_proj, center_node, radius=trip_time, distance=\"time\")\n",
        "    node_points = [Point((data[\"x\"], data[\"y\"])) for node, data in subgraph.nodes(data=True)]\n",
        "    bounding_poly = gpd.GeoSeries(node_points).unary_union.convex_hull\n",
        "    isochrone_polys.append(bounding_poly)\n",
        "\n",
        "crs_proj = ox.graph_to_gdfs(G_proj)[0].crs\n"
      ],
      "metadata": {
        "id": "8iPeei2hkX2O"
      },
      "execution_count": null,
      "outputs": []
    },
    {
      "cell_type": "code",
      "source": [
        "data = {'trip_time': sorted(trip_times, reverse=True), 'geometry': isochrone_polys}\n",
        "isochrones = gpd.GeoDataFrame(data,crs=crs_proj)\n",
        "print('Freeway Isochrones')\n",
        "isochrones.explore(column='trip_time',cmap='Reds')\n"
      ],
      "metadata": {
        "id": "gpEPBzBik8Bg"
      },
      "execution_count": null,
      "outputs": []
    },
    {
      "cell_type": "markdown",
      "source": [
        "I do the same for highway."
      ],
      "metadata": {
        "id": "RGz_pAfOk-mP"
      }
    },
    {
      "cell_type": "code",
      "source": [
        "meters_per_minute = h_travel_speed * 1000 / 60  # km per hour to m per minute\n",
        "for orig,dest, p, data in G_proj.edges(data=True, keys=True):\n",
        "    data[\"time\"] = data[\"length\"] / meters_per_minute\n",
        "\n",
        "for trip_time in sorted(trip_times, reverse=True):\n",
        "    subgraph = nx.ego_graph(G_proj, center_node, radius=trip_time, distance=\"time\")\n",
        "    node_points = [Point((data[\"x\"], data[\"y\"])) for node, data in subgraph.nodes(data=True)]\n",
        "    bounding_poly = gpd.GeoSeries(node_points).unary_union.convex_hull\n",
        "    isochrone_polys.append(bounding_poly)\n",
        "\n",
        "crs_proj = ox.graph_to_gdfs(G_proj)[0].crs"
      ],
      "metadata": {
        "id": "rPT3C6bblDO9"
      },
      "execution_count": null,
      "outputs": []
    },
    {
      "cell_type": "code",
      "source": [
        "data = {'trip_time': sorted(trip_times, reverse=True), 'geometry': isochrone_polys}\n",
        "isochrones = gpd.GeoDataFrame(data,crs=crs_proj)\n",
        "isochrones.explore(column='trip_time',cmap='Greens')\n",
        "print('Highway Isochrones')"
      ],
      "metadata": {
        "id": "gjThSqsBlDld"
      },
      "execution_count": null,
      "outputs": []
    }
  ],
  "metadata": {
    "colab": {
      "provenance": [],
      "authorship_tag": "ABX9TyOpRPlMFcV+BsBhccrnLEH7"
    },
    "kernelspec": {
      "display_name": "Python 3",
      "name": "python3"
    },
    "language_info": {
      "name": "python"
    },
    "gpuClass": "standard"
  },
  "nbformat": 4,
  "nbformat_minor": 0
}