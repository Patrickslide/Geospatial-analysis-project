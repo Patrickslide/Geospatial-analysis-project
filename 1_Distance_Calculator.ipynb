{
  "cells": [
    {
      "cell_type": "markdown",
      "metadata": {
        "id": "view-in-github",
        "colab_type": "text"
      },
      "source": [
        "<a href=\"https://colab.research.google.com/github/Patrickslide/Geospatial-analysis-project/blob/main/1_Distance_Calculator.ipynb\" target=\"_parent\"><img src=\"https://colab.research.google.com/assets/colab-badge.svg\" alt=\"Open In Colab\"/></a>"
      ]
    },
    {
      "cell_type": "markdown",
      "metadata": {
        "id": "qVQq8GE2ibsL"
      },
      "source": [
        "## Setup"
      ]
    },
    {
      "cell_type": "code",
      "execution_count": 2,
      "metadata": {
        "colab": {
          "base_uri": "https://localhost:8080/"
        },
        "id": "lbixJPK503DO",
        "outputId": "3cf0d426-eb61-4700-eb35-fd7de45ca15e"
      },
      "outputs": [
        {
          "output_type": "stream",
          "name": "stdout",
          "text": [
            "Looking in indexes: https://pypi.org/simple, https://us-python.pkg.dev/colab-wheels/public/simple/\n",
            "Collecting PyQt5\n",
            "  Downloading PyQt5-5.15.7-cp37-abi3-manylinux1_x86_64.whl (8.4 MB)\n",
            "\u001b[2K     \u001b[90m━━━━━━━━━━━━━━━━━━━━━━━━━━━━━━━━━━━━━━━━\u001b[0m \u001b[32m8.4/8.4 MB\u001b[0m \u001b[31m15.0 MB/s\u001b[0m eta \u001b[36m0:00:00\u001b[0m\n",
            "\u001b[?25hCollecting PyQt5-sip<13,>=12.11\n",
            "  Downloading PyQt5_sip-12.11.0-cp38-cp38-manylinux1_x86_64.whl (361 kB)\n",
            "\u001b[2K     \u001b[90m━━━━━━━━━━━━━━━━━━━━━━━━━━━━━━━━━━━━━━━\u001b[0m \u001b[32m361.4/361.4 KB\u001b[0m \u001b[31m8.1 MB/s\u001b[0m eta \u001b[36m0:00:00\u001b[0m\n",
            "\u001b[?25hCollecting PyQt5-Qt5>=5.15.0\n",
            "  Downloading PyQt5_Qt5-5.15.2-py3-none-manylinux2014_x86_64.whl (59.9 MB)\n",
            "\u001b[2K     \u001b[90m━━━━━━━━━━━━━━━━━━━━━━━━━━━━━━━━━━━━━━━━\u001b[0m \u001b[32m59.9/59.9 MB\u001b[0m \u001b[31m8.8 MB/s\u001b[0m eta \u001b[36m0:00:00\u001b[0m\n",
            "\u001b[?25hInstalling collected packages: PyQt5-Qt5, PyQt5-sip, PyQt5\n",
            "Successfully installed PyQt5-5.15.7 PyQt5-Qt5-5.15.2 PyQt5-sip-12.11.0\n"
          ]
        }
      ],
      "source": [
        "pip install PyQt5\n"
      ]
    },
    {
      "cell_type": "code",
      "execution_count": 3,
      "metadata": {
        "id": "0vNWtqYyjv0Y"
      },
      "outputs": [],
      "source": [
        "import warnings"
      ]
    },
    {
      "cell_type": "code",
      "execution_count": 4,
      "metadata": {
        "id": "GgjgbuHblE10"
      },
      "outputs": [],
      "source": [
        "# # try:\n",
        "#   import mapclassify\n",
        "# except ModuleNotFoundError as e:\n",
        "#   !pip install mapclassify\n",
        "#   import mapclassify"
      ]
    },
    {
      "cell_type": "code",
      "execution_count": 5,
      "metadata": {
        "id": "Oqqdb00TiYHs",
        "colab": {
          "base_uri": "https://localhost:8080/"
        },
        "outputId": "405f3481-2cc7-4ff2-9295-1b3f4aca0c54"
      },
      "outputs": [
        {
          "output_type": "stream",
          "name": "stdout",
          "text": [
            "Looking in indexes: https://pypi.org/simple, https://us-python.pkg.dev/colab-wheels/public/simple/\n",
            "Collecting pygeos\n",
            "  Downloading pygeos-0.14-cp38-cp38-manylinux_2_17_x86_64.manylinux2014_x86_64.whl (2.2 MB)\n",
            "\u001b[2K     \u001b[90m━━━━━━━━━━━━━━━━━━━━━━━━━━━━━━━━━━━━━━━━\u001b[0m \u001b[32m2.2/2.2 MB\u001b[0m \u001b[31m35.6 MB/s\u001b[0m eta \u001b[36m0:00:00\u001b[0m\n",
            "\u001b[?25hRequirement already satisfied: numpy>=1.13 in /usr/local/lib/python3.8/dist-packages (from pygeos) (1.21.6)\n",
            "Installing collected packages: pygeos\n",
            "Successfully installed pygeos-0.14\n"
          ]
        }
      ],
      "source": [
        "try:\n",
        "  import pygeos\n",
        "except ModuleNotFoundError as e:\n",
        "  !pip install pygeos\n",
        "  import pygeos"
      ]
    },
    {
      "cell_type": "code",
      "execution_count": null,
      "metadata": {
        "colab": {
          "base_uri": "https://localhost:8080/"
        },
        "id": "A4FABGrLic78",
        "outputId": "73a33155-38ea-493c-babe-57472eab8a37"
      },
      "outputs": [
        {
          "output_type": "stream",
          "name": "stdout",
          "text": [
            "Looking in indexes: https://pypi.org/simple, https://us-python.pkg.dev/colab-wheels/public/simple/\n",
            "Collecting pyrosm\n",
            "  Downloading pyrosm-0.6.1.tar.gz (2.1 MB)\n",
            "\u001b[2K     \u001b[90m━━━━━━━━━━━━━━━━━━━━━━━━━━━━━━━━━━━━━━━━\u001b[0m \u001b[32m2.1/2.1 MB\u001b[0m \u001b[31m31.7 MB/s\u001b[0m eta \u001b[36m0:00:00\u001b[0m\n",
            "\u001b[?25h  Installing build dependencies ... \u001b[?25l\u001b[?25hdone\n",
            "  Getting requirements to build wheel ... \u001b[?25l\u001b[?25hdone\n",
            "  Preparing metadata (pyproject.toml) ... \u001b[?25l\u001b[?25hdone\n",
            "Collecting geopandas>=0.8.0\n",
            "  Downloading geopandas-0.12.2-py3-none-any.whl (1.1 MB)\n",
            "\u001b[2K     \u001b[90m━━━━━━━━━━━━━━━━━━━━━━━━━━━━━━━━━━━━━━━━\u001b[0m \u001b[32m1.1/1.1 MB\u001b[0m \u001b[31m56.0 MB/s\u001b[0m eta \u001b[36m0:00:00\u001b[0m\n",
            "\u001b[?25hCollecting python-rapidjson\n",
            "  Downloading python_rapidjson-1.9-cp38-cp38-manylinux_2_17_x86_64.manylinux2014_x86_64.whl (1.6 MB)\n",
            "\u001b[2K     \u001b[90m━━━━━━━━━━━━━━━━━━━━━━━━━━━━━━━━━━━━━━━━\u001b[0m \u001b[32m1.6/1.6 MB\u001b[0m \u001b[31m11.8 MB/s\u001b[0m eta \u001b[36m0:00:00\u001b[0m\n",
            "\u001b[?25hCollecting pyrobuf\n",
            "  Using cached pyrobuf-0.9.3-cp38-cp38-linux_x86_64.whl\n",
            "Requirement already satisfied: setuptools>=18.0 in /usr/local/lib/python3.8/dist-packages (from pyrosm) (57.4.0)\n",
            "Requirement already satisfied: pygeos in /usr/local/lib/python3.8/dist-packages (from pyrosm) (0.14)\n",
            "Collecting cykhash\n",
            "  Using cached cykhash-2.0.0-cp38-cp38-linux_x86_64.whl\n",
            "Requirement already satisfied: pandas>=1.0.0 in /usr/local/lib/python3.8/dist-packages (from geopandas>=0.8.0->pyrosm) (1.3.5)\n",
            "Requirement already satisfied: packaging in /usr/local/lib/python3.8/dist-packages (from geopandas>=0.8.0->pyrosm) (21.3)\n",
            "Collecting fiona>=1.8\n",
            "  Downloading Fiona-1.8.22-cp38-cp38-manylinux_2_17_x86_64.manylinux2014_x86_64.whl (16.6 MB)\n",
            "\u001b[2K     \u001b[90m━━━━━━━━━━━━━━━━━━━━━━━━━━━━━━━━━━━━━━━━\u001b[0m \u001b[32m16.6/16.6 MB\u001b[0m \u001b[31m63.4 MB/s\u001b[0m eta \u001b[36m0:00:00\u001b[0m\n",
            "\u001b[?25hRequirement already satisfied: shapely>=1.7 in /usr/local/lib/python3.8/dist-packages (from geopandas>=0.8.0->pyrosm) (2.0.0)\n",
            "Collecting pyproj>=2.6.1.post1\n",
            "  Downloading pyproj-3.4.1-cp38-cp38-manylinux_2_17_x86_64.manylinux2014_x86_64.whl (7.8 MB)\n",
            "\u001b[2K     \u001b[90m━━━━━━━━━━━━━━━━━━━━━━━━━━━━━━━━━━━━━━━━\u001b[0m \u001b[32m7.8/7.8 MB\u001b[0m \u001b[31m85.2 MB/s\u001b[0m eta \u001b[36m0:00:00\u001b[0m\n",
            "\u001b[?25hRequirement already satisfied: numpy>=1.13 in /usr/local/lib/python3.8/dist-packages (from pygeos->pyrosm) (1.21.6)\n",
            "Requirement already satisfied: cython>=0.23 in /usr/local/lib/python3.8/dist-packages (from pyrobuf->pyrosm) (0.29.32)\n",
            "Requirement already satisfied: jinja2>=2.8 in /usr/local/lib/python3.8/dist-packages (from pyrobuf->pyrosm) (2.11.3)\n",
            "Collecting cligj>=0.5\n",
            "  Downloading cligj-0.7.2-py3-none-any.whl (7.1 kB)\n",
            "Requirement already satisfied: six>=1.7 in /usr/local/lib/python3.8/dist-packages (from fiona>=1.8->geopandas>=0.8.0->pyrosm) (1.15.0)\n",
            "Collecting click-plugins>=1.0\n",
            "  Downloading click_plugins-1.1.1-py2.py3-none-any.whl (7.5 kB)\n",
            "Requirement already satisfied: attrs>=17 in /usr/local/lib/python3.8/dist-packages (from fiona>=1.8->geopandas>=0.8.0->pyrosm) (22.2.0)\n",
            "Requirement already satisfied: certifi in /usr/local/lib/python3.8/dist-packages (from fiona>=1.8->geopandas>=0.8.0->pyrosm) (2022.12.7)\n",
            "Requirement already satisfied: click>=4.0 in /usr/local/lib/python3.8/dist-packages (from fiona>=1.8->geopandas>=0.8.0->pyrosm) (7.1.2)\n",
            "Collecting munch\n",
            "  Downloading munch-2.5.0-py2.py3-none-any.whl (10 kB)\n",
            "Requirement already satisfied: MarkupSafe>=0.23 in /usr/local/lib/python3.8/dist-packages (from jinja2>=2.8->pyrobuf->pyrosm) (2.0.1)\n",
            "Requirement already satisfied: python-dateutil>=2.7.3 in /usr/local/lib/python3.8/dist-packages (from pandas>=1.0.0->geopandas>=0.8.0->pyrosm) (2.8.2)\n",
            "Requirement already satisfied: pytz>=2017.3 in /usr/local/lib/python3.8/dist-packages (from pandas>=1.0.0->geopandas>=0.8.0->pyrosm) (2022.7)\n",
            "Requirement already satisfied: pyparsing!=3.0.5,>=2.0.2 in /usr/local/lib/python3.8/dist-packages (from packaging->geopandas>=0.8.0->pyrosm) (3.0.9)\n",
            "Building wheels for collected packages: pyrosm\n"
          ]
        }
      ],
      "source": [
        "try:\n",
        "  import pyrosm\n",
        "except ModuleNotFoundError as e:\n",
        "  !pip install pyrosm\n",
        "  import pyrosm"
      ]
    },
    {
      "cell_type": "code",
      "execution_count": null,
      "metadata": {
        "id": "BL6cfgSl2tY-"
      },
      "outputs": [],
      "source": [
        "# try:\n",
        "#     import mapclassify\n",
        "# except ModuleNotFoundError as e:\n",
        "#     !pip install mapclassify\n",
        "#     import mapclassify\n"
      ]
    },
    {
      "cell_type": "code",
      "execution_count": null,
      "metadata": {
        "id": "MJk2RUtsj1xp"
      },
      "outputs": [],
      "source": [
        "try:\n",
        "  import numpy\n",
        "except ModuleNotFoundError as e:\n",
        "  !pip install numpy\n",
        "  import numpy"
      ]
    },
    {
      "cell_type": "code",
      "execution_count": null,
      "metadata": {
        "id": "-6G0UsKqyybP"
      },
      "outputs": [],
      "source": [
        "try:\n",
        "  import shapely\n",
        "except ModuleNotFoundError as e:\n",
        "  !pip install shapely\n",
        "  import shapely"
      ]
    },
    {
      "cell_type": "code",
      "execution_count": null,
      "metadata": {
        "id": "t3_A1FR0jqT-"
      },
      "outputs": [],
      "source": [
        "try:\n",
        "  import osmnx as ox\n",
        "except ModuleNotFoundError as e:\n",
        "  !pip install osmnx\n",
        "  import osmnx as ox"
      ]
    },
    {
      "cell_type": "code",
      "execution_count": null,
      "metadata": {
        "id": "NJYWZlhKilnr"
      },
      "outputs": [],
      "source": [
        "try:\n",
        "  import geopandas\n",
        "except ModuleNotFoundError as e:\n",
        "  !pip install geopandas\n",
        "  import geopandas"
      ]
    },
    {
      "cell_type": "code",
      "execution_count": null,
      "metadata": {
        "id": "GepspjnbilqO"
      },
      "outputs": [],
      "source": [
        "try:\n",
        "  import python-igraph\n",
        "except ModuleNotFoundError as e:\n",
        "  !pip install python-igraph\n",
        "  import python-igraph"
      ]
    },
    {
      "cell_type": "code",
      "execution_count": null,
      "metadata": {
        "id": "4dS7Fh9nipc_"
      },
      "outputs": [],
      "source": [
        "import requests\n",
        "import geopandas as gpd\n",
        "import fiona\n",
        "import urllib\n",
        "import os\n",
        "import zipfile, io\n",
        "import urllib3\n",
        "import ssl\n",
        "import shutil\n",
        "import matplotlib\n",
        "from matplotlib import pyplot as plt\n",
        "import networkx as nx\n"
      ]
    },
    {
      "cell_type": "markdown",
      "metadata": {
        "id": "ScK8pMmFvmva"
      },
      "source": [
        "Now for the functions required to interact with Istat using colab:"
      ]
    },
    {
      "cell_type": "code",
      "execution_count": null,
      "metadata": {
        "id": "ZpnLhvyrvmUn"
      },
      "outputs": [],
      "source": [
        "\n",
        "class CustomHttpAdapter(requests.adapters.HTTPAdapter):\n",
        "  def __init__(self, ssl_context=None, **kwargs):\n",
        "    self.ssl_context = ssl_context\n",
        "    super().__init__(**kwargs)\n",
        "\n",
        "  def init_poolmanager(self, connections, maxsize, block=False):\n",
        "    self.poolmanager = urllib3.poolmanager.PoolManager(num_pools=connections, maxsize=maxsize, block=block, ssl_context=self.ssl_context)\n",
        "\n",
        "def get_legacy_session():\n",
        "  ctx = ssl.create_default_context(ssl.Purpose.SERVER_AUTH)\n",
        "  ctx.options |= 0x4  \n",
        "  session = requests.session()\n",
        "  session.mount('https://', CustomHttpAdapter(ctx))\n",
        "  return session\n",
        "\n",
        "def download_file(url):\n",
        "# source: https://stackoverflow.com/a/33488338\n",
        "  local_filename = url.split('/')[-1]\n",
        "  with get_legacy_session() as s:\n",
        "    r = s.get(url, stream=True)\n",
        "    r.raw.decode_content = True\n",
        "    with open(local_filename, 'wb') as f:\n",
        "      shutil.copyfileobj(r.raw, f)\n",
        "  return local_filename"
      ]
    },
    {
      "cell_type": "code",
      "execution_count": null,
      "metadata": {
        "id": "kGOQmDGfwOuK"
      },
      "outputs": [],
      "source": [
        "if not os.path.exists('Limiti01012022'):\n",
        "    zip_file_url = 'https://www.istat.it/storage/cartografia/confini_amministrativi/non_generalizzati/Limiti01012022.zip'\n",
        "    zip_file_name = \"Limiti01012022.zip\"\n",
        "    \n",
        "    try: \n",
        "      urllib.request.urlretrieve(zip_file_url ,zip_file_name) \n",
        "    \n",
        "    except:\n",
        "      zip_file_name = download_file(zip_file_url)\n",
        "\n",
        "    z = zipfile.ZipFile(zip_file_name)\n",
        "    # unzip the file\n",
        "    z.extractall()"
      ]
    },
    {
      "cell_type": "code",
      "execution_count": null,
      "metadata": {
        "id": "MjyNew5ZwQCe"
      },
      "outputs": [],
      "source": [
        "os.listdir('Limiti01012022')\n",
        "os.chdir('Limiti01012022')\n",
        "os.chdir('Com01012022')\n",
        "\n",
        "for root, dirs, files in os.walk(\".\"):  \n",
        "    for filename in files:\n",
        "        print(filename)"
      ]
    },
    {
      "cell_type": "code",
      "execution_count": null,
      "metadata": {
        "id": "5RnHM7TrwRJo"
      },
      "outputs": [],
      "source": [
        "cities=gpd.read_file('Com01012022_WGS84.shp')"
      ]
    },
    {
      "cell_type": "markdown",
      "metadata": {
        "id": "woLUayO0jYqu"
      },
      "source": [
        "## Start"
      ]
    },
    {
      "cell_type": "markdown",
      "metadata": {
        "id": "arC51AMrjG1B"
      },
      "source": [
        "I want to compute the distance between two cities, assuming one travel by car.\n",
        "First, we set as input one location and we localize it, plotting it and finding the province it belongs to. I'm using simplemaps's list of italian cities, available here:\n",
        "https://simplemaps.com/data/it-cities"
      ]
    },
    {
      "cell_type": "markdown",
      "metadata": {
        "id": "gdhqIKWq-fQ3"
      },
      "source": [
        "For now I try only cities belonging to the same region, as I tried using the whole country but it would require many Gb of RAM and storing capacities."
      ]
    },
    {
      "cell_type": "code",
      "execution_count": null,
      "metadata": {
        "id": "gSjj-vGAjV7s"
      },
      "outputs": [],
      "source": [
        "start = input(\"Starting address: \")\n",
        "point_1 = gpd.tools.geocode(start, provider=\"arcgis\")    "
      ]
    },
    {
      "cell_type": "markdown",
      "metadata": {
        "id": "xOAxMI2vraCQ"
      },
      "source": [
        "Here, make sure that we are selecting an italian city!!"
      ]
    },
    {
      "cell_type": "markdown",
      "metadata": {
        "id": "WcSXQxIXrmRh"
      },
      "source": [
        "Nominatim is an API which allows us to know the province, region and country of any given location."
      ]
    },
    {
      "cell_type": "code",
      "execution_count": null,
      "metadata": {
        "id": "xeNOuccnsAVp"
      },
      "outputs": [],
      "source": [
        "from geopy.geocoders import Nominatim\n",
        "geolocator = Nominatim(user_agent=\"geoapiExercises\")\n",
        "location = geolocator.reverse(str(float(point_1.geometry.y))+\",\"+ str(float(point_1.geometry.x)))\n",
        "\n",
        "start_address = location.raw['address']\n",
        "#We get the province.\n",
        "\n",
        "if start_address['country'] != 'Italia':\n",
        "  print('Restart! Not an italian city')\n",
        "print('Provincia:', start_address['county'])"
      ]
    },
    {
      "cell_type": "code",
      "execution_count": null,
      "metadata": {
        "id": "RPe7YJEU-xWQ"
      },
      "outputs": [],
      "source": [
        "start_address"
      ]
    },
    {
      "cell_type": "code",
      "execution_count": null,
      "metadata": {
        "id": "1DEl0dk-3LdU"
      },
      "outputs": [],
      "source": [
        "location"
      ]
    },
    {
      "cell_type": "code",
      "execution_count": null,
      "metadata": {
        "id": "R70DEG7ZtPNP"
      },
      "outputs": [],
      "source": [
        "city_start = cities[cities['COMUNE'] == start_address['city']]\n",
        "city_start.plot()\n",
        "print('Starting City: ', start_address['city'])\n",
        "plt.show()\n"
      ]
    },
    {
      "cell_type": "markdown",
      "metadata": {
        "id": "34OQlxtJ7161"
      },
      "source": [
        "Now, I take a local map of car roads in order to be able to find the shortest route between two cities; the next step will be to compute its cost."
      ]
    },
    {
      "cell_type": "code",
      "execution_count": null,
      "metadata": {
        "id": "ieG1QHnz-S6M"
      },
      "outputs": [],
      "source": [
        "# ox.config(log_console=True)\n",
        "# gdf = ox.geocode_to_gdf('Italy')\n",
        "# gdf.plot()"
      ]
    },
    {
      "cell_type": "code",
      "execution_count": null,
      "metadata": {
        "id": "JajPmv5Z9rAR"
      },
      "outputs": [],
      "source": [
        "area = start_address['county']\n",
        "#USE COUNTY FOR TRIAL RUNS, STATE FOR THE ACTUAL DEMO.\n",
        "area"
      ]
    },
    {
      "cell_type": "code",
      "execution_count": null,
      "metadata": {
        "id": "hfDJrHmo5_Pf"
      },
      "outputs": [],
      "source": [
        "G = ox.graph_from_place(area, network_type='drive') #Only need to be ran once."
      ]
    },
    {
      "cell_type": "code",
      "execution_count": null,
      "metadata": {
        "colab": {
          "background_save": true
        },
        "id": "4MD-jnJT79q5"
      },
      "outputs": [],
      "source": [
        "G = ox.add_edge_speeds(G)\n",
        "G = ox.add_edge_travel_times(G)\n",
        "ox.save_graphml(G, \"region_roads.graphml\")"
      ]
    },
    {
      "cell_type": "code",
      "execution_count": null,
      "metadata": {
        "id": "ImbRNhdS8Hnl"
      },
      "outputs": [],
      "source": [
        "G = ox.load_graphml(\"region_roads.graphml\")"
      ]
    },
    {
      "cell_type": "code",
      "execution_count": null,
      "metadata": {
        "colab": {
          "background_save": true
        },
        "id": "9pzj5hRZ3Juq"
      },
      "outputs": [],
      "source": [
        "point_nearest_start = ox.distance.nearest_nodes(G,Y=location[1][0], X=location[1][1])"
      ]
    },
    {
      "cell_type": "markdown",
      "metadata": {
        "id": "VeoHM-7GwDAs"
      },
      "source": [
        "## End"
      ]
    },
    {
      "cell_type": "code",
      "execution_count": null,
      "metadata": {
        "id": "9FpJda5zvQVj"
      },
      "outputs": [],
      "source": [
        "start = input(\"Destination: \")\n",
        "point_2 = gpd.tools.geocode(start, provider=\"arcgis\")"
      ]
    },
    {
      "cell_type": "code",
      "execution_count": null,
      "metadata": {
        "id": "wI4SIsCQwV9S"
      },
      "outputs": [],
      "source": [
        "geolocator = Nominatim(user_agent=\"geoapiExercises\")\n",
        "location2 = geolocator.reverse(str(float(point_2.geometry.y))+\",\"+ str(float(point_2.geometry.x)))\n",
        "\n",
        "end_address = location2.raw['address']"
      ]
    },
    {
      "cell_type": "code",
      "execution_count": null,
      "metadata": {
        "id": "ZB55K8k9_3bZ"
      },
      "outputs": [],
      "source": [
        "location2.raw"
      ]
    },
    {
      "cell_type": "code",
      "execution_count": null,
      "metadata": {
        "id": "zyNBxQG8_Bdn"
      },
      "outputs": [],
      "source": [
        "if start_address['county'] !=  end_address['county']:\n",
        "  print('Not from the same province!')"
      ]
    },
    {
      "cell_type": "code",
      "execution_count": null,
      "metadata": {
        "id": "hfh109yXwaGH"
      },
      "outputs": [],
      "source": [
        "city_end = cities[cities['COMUNE'] == end_address['town']]\n",
        "city_end.plot()\n",
        "print('Arriving city: ', end_address['town'])\n",
        "plt.show()"
      ]
    },
    {
      "cell_type": "code",
      "execution_count": null,
      "metadata": {
        "id": "0mynwYyv_-C7"
      },
      "outputs": [],
      "source": [
        "# province_end = provinces[provinces['DEN_PROV'] == end_address['county']]\n",
        "# province_end"
      ]
    },
    {
      "cell_type": "code",
      "execution_count": null,
      "metadata": {
        "id": "TWWi5ZU-7KXB"
      },
      "outputs": [],
      "source": [
        "point_nearest_end = ox.distance.nearest_nodes(G,Y=location[1][0], X=location[1][1])"
      ]
    },
    {
      "cell_type": "markdown",
      "metadata": {
        "id": "T31UU0Hq8zR9"
      },
      "source": [
        "## Travel"
      ]
    },
    {
      "cell_type": "code",
      "execution_count": null,
      "metadata": {
        "id": "QFk3B0-251tZ"
      },
      "outputs": [],
      "source": [
        "distance = point_1.to_crs('epsg:32632').geometry.distance(point_2.geometry.to_crs('epsg:32632')).values[0] / 1000\n",
        "distance = round(distance, 3)\n",
        "print('Distance: ', distance, 'km')"
      ]
    },
    {
      "cell_type": "markdown",
      "metadata": {
        "id": "vmQObAoi8_i3"
      },
      "source": [
        "Here I plot the shortest route by distance."
      ]
    },
    {
      "cell_type": "code",
      "execution_count": null,
      "metadata": {
        "id": "feBF_3Jr8bFu"
      },
      "outputs": [],
      "source": [
        "shortest_path_distance = ox.shortest_path(G, point_nearest_start, point_nearest_end, weight='length')\n",
        "travel_time = nx.shortest_path_length(G, point_nearest_start, point_nearest_end, weight='travel_time')\n",
        "minutes = (travel_time * 60) // 100 \n",
        "seconds = round((travel_time * 60) % 100*0.6)\n",
        "\n",
        "km_distance = round(nx.shortest_path_length(G, point_nearest_start, point_nearest_end, weight='length')/1000, 3)"
      ]
    },
    {
      "cell_type": "code",
      "execution_count": null,
      "metadata": {
        "id": "mIRmBE5d83-V"
      },
      "outputs": [],
      "source": [
        "print('Expected Travel time: ', minutes, 'minutes and ', seconds, 'seconds')      #nx distance\n",
        "print('Distance: ', km_distance,'km')\n",
        "fig, ax = ox.plot_graph_route(G, shortest_path_distance, route_color='green', route_linewidth=6, node_size=0)"
      ]
    },
    {
      "cell_type": "markdown",
      "metadata": {
        "id": "eiVQXohtrJ43"
      },
      "source": [
        "Now, I want to compute the travel cost; assuming one goes by car, I searched online for answers and for this project I'm assuming an average consumption of 1 liter of fuel for each 12.5 km travelled and a cost of fuel of 1.65 $ per liter.\n",
        "\n",
        "Highway assumes an average speed of 100 km/h, freeway 70 km/h."
      ]
    },
    {
      "cell_type": "code",
      "execution_count": null,
      "metadata": {
        "id": "7WHXK3SZtNLv"
      },
      "outputs": [],
      "source": [
        "road_type = input('highway or freeway?')\n",
        "\n",
        "if road_type.lower() == 'highway':\n",
        "  minute_time = km_distance*60//100\n",
        "  seconds_time = round((travel_time * 60) % 100*0.6)\n",
        "  time= str(minute_time) + 'minutes, ' + str(seconds_time) + 'seconds'\n",
        "\n",
        "if road_type.lower() == 'freeway':\n",
        "  minute_time = km_distance*60//70\n",
        "  seconds_time = round((travel_time * 60) % 100*0.6)\n",
        "  time= str(minute_time) + 'minutes, ' + str(seconds_time) + 'seconds'"
      ]
    },
    {
      "cell_type": "code",
      "execution_count": null,
      "metadata": {
        "id": "6aan22lqszmI"
      },
      "outputs": [],
      "source": [
        "price = 1.65\n",
        "cost = 1.65*km_distance\n",
        "print('Car travel information: time =', time, 'price = ', price, '€')"
      ]
    }
  ],
  "metadata": {
    "colab": {
      "collapsed_sections": [
        "qVQq8GE2ibsL"
      ],
      "provenance": [],
      "authorship_tag": "ABX9TyPC8c3BVPlRIc9p7j+Ep3J1",
      "include_colab_link": true
    },
    "kernelspec": {
      "display_name": "Python 3",
      "name": "python3"
    },
    "language_info": {
      "name": "python"
    }
  },
  "nbformat": 4,
  "nbformat_minor": 0
}