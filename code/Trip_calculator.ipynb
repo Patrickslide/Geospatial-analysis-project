{
  "nbformat": 4,
  "nbformat_minor": 0,
  "metadata": {
    "colab": {
      "provenance": []
    },
    "kernelspec": {
      "name": "python3",
      "display_name": "Python 3"
    },
    "language_info": {
      "name": "python"
    }
  },
  "cells": [
    {
      "cell_type": "markdown",
      "source": [
        "## Setup"
      ],
      "metadata": {
        "id": "r9f3TF-LLjOo"
      }
    },
    {
      "cell_type": "code",
      "execution_count": 3,
      "metadata": {
        "id": "62Z09_UcBMhR",
        "colab": {
          "base_uri": "https://localhost:8080/"
        },
        "outputId": "c25393e3-5b98-4748-abeb-5fde88616d57"
      },
      "outputs": [
        {
          "output_type": "stream",
          "name": "stdout",
          "text": [
            "Looking in indexes: https://pypi.org/simple, https://us-python.pkg.dev/colab-wheels/public/simple/\n",
            "\u001b[31mERROR: Could not find a version that satisfies the requirement geopandas== (from versions: 0.1.0.dev-a7b594e, 0.1.0.dev-a91e8ab, 0.1.0.dev-abb4137, 0.1.0.dev-c770a5c, 0.1.0.dev-fea5c40, 0.1.0.dev-1edddad, 0.1.0.dev-2be7de8, 0.1.0.dev-2d642e0, 0.1.0.dev-3ebcae0, 0.1.0.dev-6c816f0, 0.1.0.dev-40ec104, 0.1.0.dev-53f669a, 0.1.0.dev-120d5ee, 0.1.0.dev-189a35c, 0.1.0.dev-7788a17, 0.1.0.dev-8144a45, 0.1.0.dev-120828c, 0.1.dev0, 0.1.0, 0.1.1, 0.2, 0.2.1, 0.3.0, 0.4.0, 0.4.1, 0.5.0, 0.5.1, 0.6.0rc1, 0.6.0, 0.6.1, 0.6.2, 0.6.3, 0.7.0, 0.8.0, 0.8.1, 0.8.2, 0.9.0, 0.10.0, 0.10.1, 0.10.2, 0.11.0, 0.11.1, 0.12.0, 0.12.1, 0.12.2)\u001b[0m\u001b[31m\n",
            "\u001b[0m\u001b[31mERROR: No matching distribution found for geopandas==\u001b[0m\u001b[31m\n",
            "\u001b[0m\u001b[31mERROR: Invalid requirement: '==3.6'\u001b[0m\u001b[31m\n",
            "\u001b[0mLooking in indexes: https://pypi.org/simple, https://us-python.pkg.dev/colab-wheels/public/simple/\n",
            "Collecting networkx==2.8\n",
            "  Downloading networkx-2.8-py3-none-any.whl (2.0 MB)\n",
            "\u001b[2K     \u001b[90m━━━━━━━━━━━━━━━━━━━━━━━━━━━━━━━━━━━━━━━━\u001b[0m \u001b[32m2.0/2.0 MB\u001b[0m \u001b[31m11.7 MB/s\u001b[0m eta \u001b[36m0:00:00\u001b[0m\n",
            "\u001b[?25hInstalling collected packages: networkx\n",
            "  Attempting uninstall: networkx\n",
            "    Found existing installation: networkx 3.0\n",
            "    Uninstalling networkx-3.0:\n",
            "      Successfully uninstalled networkx-3.0\n",
            "Successfully installed networkx-2.8\n",
            "Looking in indexes: https://pypi.org/simple, https://us-python.pkg.dev/colab-wheels/public/simple/\n",
            "Collecting numpy==1.23\n",
            "  Downloading numpy-1.23.0-cp38-cp38-manylinux_2_17_x86_64.manylinux2014_x86_64.whl (17.1 MB)\n",
            "\u001b[2K     \u001b[90m━━━━━━━━━━━━━━━━━━━━━━━━━━━━━━━━━━━━━━━━\u001b[0m \u001b[32m17.1/17.1 MB\u001b[0m \u001b[31m39.2 MB/s\u001b[0m eta \u001b[36m0:00:00\u001b[0m\n",
            "\u001b[?25hInstalling collected packages: numpy\n",
            "  Attempting uninstall: numpy\n",
            "    Found existing installation: numpy 1.21.6\n",
            "    Uninstalling numpy-1.21.6:\n",
            "      Successfully uninstalled numpy-1.21.6\n",
            "\u001b[31mERROR: pip's dependency resolver does not currently take into account all the packages that are installed. This behaviour is the source of the following dependency conflicts.\n",
            "scipy 1.7.3 requires numpy<1.23.0,>=1.16.5, but you have numpy 1.23.0 which is incompatible.\u001b[0m\u001b[31m\n",
            "\u001b[0mSuccessfully installed numpy-1.23.0\n",
            "Looking in indexes: https://pypi.org/simple, https://us-python.pkg.dev/colab-wheels/public/simple/\n",
            "Collecting pandas==1.5\n",
            "  Downloading pandas-1.5.0-cp38-cp38-manylinux_2_17_x86_64.manylinux2014_x86_64.whl (12.2 MB)\n",
            "\u001b[2K     \u001b[90m━━━━━━━━━━━━━━━━━━━━━━━━━━━━━━━━━━━━━━━━\u001b[0m \u001b[32m12.2/12.2 MB\u001b[0m \u001b[31m47.7 MB/s\u001b[0m eta \u001b[36m0:00:00\u001b[0m\n",
            "\u001b[?25hRequirement already satisfied: numpy>=1.20.3 in /usr/local/lib/python3.8/dist-packages (from pandas==1.5) (1.23.0)\n",
            "Requirement already satisfied: python-dateutil>=2.8.1 in /usr/local/lib/python3.8/dist-packages (from pandas==1.5) (2.8.2)\n",
            "Requirement already satisfied: pytz>=2020.1 in /usr/local/lib/python3.8/dist-packages (from pandas==1.5) (2022.7.1)\n",
            "Requirement already satisfied: six>=1.5 in /usr/local/lib/python3.8/dist-packages (from python-dateutil>=2.8.1->pandas==1.5) (1.15.0)\n",
            "Installing collected packages: pandas\n",
            "  Attempting uninstall: pandas\n",
            "    Found existing installation: pandas 1.3.5\n",
            "    Uninstalling pandas-1.3.5:\n",
            "      Successfully uninstalled pandas-1.3.5\n",
            "Successfully installed pandas-1.5.0\n",
            "Looking in indexes: https://pypi.org/simple, https://us-python.pkg.dev/colab-wheels/public/simple/\n",
            "Collecting pyproj==3.4\n",
            "  Downloading pyproj-3.4.0-cp38-cp38-manylinux_2_17_x86_64.manylinux2014_x86_64.whl (7.8 MB)\n",
            "\u001b[2K     \u001b[90m━━━━━━━━━━━━━━━━━━━━━━━━━━━━━━━━━━━━━━━━\u001b[0m \u001b[32m7.8/7.8 MB\u001b[0m \u001b[31m58.9 MB/s\u001b[0m eta \u001b[36m0:00:00\u001b[0m\n",
            "\u001b[?25hRequirement already satisfied: certifi in /usr/local/lib/python3.8/dist-packages (from pyproj==3.4) (2022.12.7)\n",
            "Installing collected packages: pyproj\n",
            "Successfully installed pyproj-3.4.0\n",
            "Looking in indexes: https://pypi.org/simple, https://us-python.pkg.dev/colab-wheels/public/simple/\n",
            "Collecting Shapely==1.7\n",
            "  Downloading Shapely-1.7.0-cp38-cp38-manylinux1_x86_64.whl (1.8 MB)\n",
            "\u001b[2K     \u001b[90m━━━━━━━━━━━━━━━━━━━━━━━━━━━━━━━━━━━━━━━━\u001b[0m \u001b[32m1.8/1.8 MB\u001b[0m \u001b[31m30.7 MB/s\u001b[0m eta \u001b[36m0:00:00\u001b[0m\n",
            "\u001b[?25hInstalling collected packages: Shapely\n",
            "  Attempting uninstall: Shapely\n",
            "    Found existing installation: shapely 2.0.1\n",
            "    Uninstalling shapely-2.0.1:\n",
            "      Successfully uninstalled shapely-2.0.1\n",
            "Successfully installed Shapely-1.7.0\n",
            "Looking in indexes: https://pypi.org/simple, https://us-python.pkg.dev/colab-wheels/public/simple/\n",
            "Collecting osmnx\n",
            "  Downloading osmnx-1.2.2-py2.py3-none-any.whl (92 kB)\n",
            "\u001b[2K     \u001b[90m━━━━━━━━━━━━━━━━━━━━━━━━━━━━━━━━━━━━━━━━\u001b[0m \u001b[32m92.5/92.5 KB\u001b[0m \u001b[31m5.3 MB/s\u001b[0m eta \u001b[36m0:00:00\u001b[0m\n",
            "\u001b[?25hRequirement already satisfied: numpy>=1.22 in /usr/local/lib/python3.8/dist-packages (from osmnx) (1.23.0)\n",
            "Collecting geopandas>=0.11\n",
            "  Downloading geopandas-0.12.2-py3-none-any.whl (1.1 MB)\n",
            "\u001b[2K     \u001b[90m━━━━━━━━━━━━━━━━━━━━━━━━━━━━━━━━━━━━━━━━\u001b[0m \u001b[32m1.1/1.1 MB\u001b[0m \u001b[31m34.6 MB/s\u001b[0m eta \u001b[36m0:00:00\u001b[0m\n",
            "\u001b[?25hRequirement already satisfied: pyproj>=3.3 in /usr/local/lib/python3.8/dist-packages (from osmnx) (3.4.0)\n",
            "Collecting requests>=2.28\n",
            "  Downloading requests-2.28.2-py3-none-any.whl (62 kB)\n",
            "\u001b[2K     \u001b[90m━━━━━━━━━━━━━━━━━━━━━━━━━━━━━━━━━━━━━━━━\u001b[0m \u001b[32m62.8/62.8 KB\u001b[0m \u001b[31m7.9 MB/s\u001b[0m eta \u001b[36m0:00:00\u001b[0m\n",
            "\u001b[?25hRequirement already satisfied: pandas>=1.4 in /usr/local/lib/python3.8/dist-packages (from osmnx) (1.5.0)\n",
            "Collecting matplotlib>=3.5\n",
            "  Downloading matplotlib-3.6.3-cp38-cp38-manylinux_2_12_x86_64.manylinux2010_x86_64.whl (9.4 MB)\n",
            "\u001b[2K     \u001b[90m━━━━━━━━━━━━━━━━━━━━━━━━━━━━━━━━━━━━━━━━\u001b[0m \u001b[32m9.4/9.4 MB\u001b[0m \u001b[31m88.8 MB/s\u001b[0m eta \u001b[36m0:00:00\u001b[0m\n",
            "\u001b[?25hCollecting Shapely<2.0,>=1.8\n",
            "  Downloading Shapely-1.8.5.post1-cp38-cp38-manylinux_2_12_x86_64.manylinux2010_x86_64.whl (2.1 MB)\n",
            "\u001b[2K     \u001b[90m━━━━━━━━━━━━━━━━━━━━━━━━━━━━━━━━━━━━━━━━\u001b[0m \u001b[32m2.1/2.1 MB\u001b[0m \u001b[31m65.6 MB/s\u001b[0m eta \u001b[36m0:00:00\u001b[0m\n",
            "\u001b[?25hCollecting Rtree>=1.0\n",
            "  Downloading Rtree-1.0.1-cp38-cp38-manylinux_2_17_x86_64.manylinux2014_x86_64.whl (1.0 MB)\n",
            "\u001b[2K     \u001b[90m━━━━━━━━━━━━━━━━━━━━━━━━━━━━━━━━━━━━━━━━\u001b[0m \u001b[32m1.0/1.0 MB\u001b[0m \u001b[31m45.8 MB/s\u001b[0m eta \u001b[36m0:00:00\u001b[0m\n",
            "\u001b[?25hRequirement already satisfied: networkx>=2.8 in /usr/local/lib/python3.8/dist-packages (from osmnx) (2.8)\n",
            "Collecting fiona>=1.8\n",
            "  Downloading Fiona-1.9.0-cp38-cp38-manylinux_2_17_x86_64.manylinux2014_x86_64.whl (16.9 MB)\n",
            "\u001b[2K     \u001b[90m━━━━━━━━━━━━━━━━━━━━━━━━━━━━━━━━━━━━━━━━\u001b[0m \u001b[32m16.9/16.9 MB\u001b[0m \u001b[31m46.8 MB/s\u001b[0m eta \u001b[36m0:00:00\u001b[0m\n",
            "\u001b[?25hRequirement already satisfied: packaging in /usr/local/lib/python3.8/dist-packages (from geopandas>=0.11->osmnx) (23.0)\n",
            "Requirement already satisfied: pyparsing>=2.2.1 in /usr/local/lib/python3.8/dist-packages (from matplotlib>=3.5->osmnx) (3.0.9)\n",
            "Requirement already satisfied: kiwisolver>=1.0.1 in /usr/local/lib/python3.8/dist-packages (from matplotlib>=3.5->osmnx) (1.4.4)\n",
            "Collecting fonttools>=4.22.0\n",
            "  Downloading fonttools-4.38.0-py3-none-any.whl (965 kB)\n",
            "\u001b[2K     \u001b[90m━━━━━━━━━━━━━━━━━━━━━━━━━━━━━━━━━━━━━━\u001b[0m \u001b[32m965.4/965.4 KB\u001b[0m \u001b[31m46.1 MB/s\u001b[0m eta \u001b[36m0:00:00\u001b[0m\n",
            "\u001b[?25hRequirement already satisfied: python-dateutil>=2.7 in /usr/local/lib/python3.8/dist-packages (from matplotlib>=3.5->osmnx) (2.8.2)\n",
            "Collecting contourpy>=1.0.1\n",
            "  Downloading contourpy-1.0.7-cp38-cp38-manylinux_2_17_x86_64.manylinux2014_x86_64.whl (300 kB)\n",
            "\u001b[2K     \u001b[90m━━━━━━━━━━━━━━━━━━━━━━━━━━━━━━━━━━━━━━\u001b[0m \u001b[32m300.0/300.0 KB\u001b[0m \u001b[31m32.3 MB/s\u001b[0m eta \u001b[36m0:00:00\u001b[0m\n",
            "\u001b[?25hRequirement already satisfied: cycler>=0.10 in /usr/local/lib/python3.8/dist-packages (from matplotlib>=3.5->osmnx) (0.11.0)\n",
            "Requirement already satisfied: pillow>=6.2.0 in /usr/local/lib/python3.8/dist-packages (from matplotlib>=3.5->osmnx) (7.1.2)\n",
            "Requirement already satisfied: pytz>=2020.1 in /usr/local/lib/python3.8/dist-packages (from pandas>=1.4->osmnx) (2022.7.1)\n",
            "Requirement already satisfied: certifi in /usr/local/lib/python3.8/dist-packages (from pyproj>=3.3->osmnx) (2022.12.7)\n",
            "Requirement already satisfied: idna<4,>=2.5 in /usr/local/lib/python3.8/dist-packages (from requests>=2.28->osmnx) (2.10)\n",
            "Requirement already satisfied: charset-normalizer<4,>=2 in /usr/local/lib/python3.8/dist-packages (from requests>=2.28->osmnx) (2.1.1)\n",
            "Requirement already satisfied: urllib3<1.27,>=1.21.1 in /usr/local/lib/python3.8/dist-packages (from requests>=2.28->osmnx) (1.24.3)\n",
            "Collecting click~=8.0\n",
            "  Downloading click-8.1.3-py3-none-any.whl (96 kB)\n",
            "\u001b[2K     \u001b[90m━━━━━━━━━━━━━━━━━━━━━━━━━━━━━━━━━━━━━━━━\u001b[0m \u001b[32m96.6/96.6 KB\u001b[0m \u001b[31m12.9 MB/s\u001b[0m eta \u001b[36m0:00:00\u001b[0m\n",
            "\u001b[?25hCollecting click-plugins>=1.0\n",
            "  Downloading click_plugins-1.1.1-py2.py3-none-any.whl (7.5 kB)\n",
            "Collecting munch>=2.3.2\n",
            "  Downloading munch-2.5.0-py2.py3-none-any.whl (10 kB)\n",
            "Requirement already satisfied: attrs>=19.2.0 in /usr/local/lib/python3.8/dist-packages (from fiona>=1.8->geopandas>=0.11->osmnx) (22.2.0)\n",
            "Collecting cligj>=0.5\n",
            "  Downloading cligj-0.7.2-py3-none-any.whl (7.1 kB)\n",
            "Requirement already satisfied: six>=1.5 in /usr/local/lib/python3.8/dist-packages (from python-dateutil>=2.7->matplotlib>=3.5->osmnx) (1.15.0)\n",
            "Installing collected packages: Shapely, Rtree, requests, munch, fonttools, contourpy, click, matplotlib, cligj, click-plugins, fiona, geopandas, osmnx\n",
            "  Attempting uninstall: Shapely\n",
            "    Found existing installation: Shapely 1.7.0\n",
            "    Uninstalling Shapely-1.7.0:\n",
            "      Successfully uninstalled Shapely-1.7.0\n",
            "  Attempting uninstall: requests\n",
            "    Found existing installation: requests 2.25.1\n",
            "    Uninstalling requests-2.25.1:\n",
            "      Successfully uninstalled requests-2.25.1\n",
            "  Attempting uninstall: click\n",
            "    Found existing installation: click 7.1.2\n",
            "    Uninstalling click-7.1.2:\n",
            "      Successfully uninstalled click-7.1.2\n",
            "  Attempting uninstall: matplotlib\n",
            "    Found existing installation: matplotlib 3.2.2\n",
            "    Uninstalling matplotlib-3.2.2:\n",
            "      Successfully uninstalled matplotlib-3.2.2\n",
            "\u001b[31mERROR: pip's dependency resolver does not currently take into account all the packages that are installed. This behaviour is the source of the following dependency conflicts.\n",
            "flask 1.1.4 requires click<8.0,>=5.1, but you have click 8.1.3 which is incompatible.\u001b[0m\u001b[31m\n",
            "\u001b[0mSuccessfully installed Rtree-1.0.1 Shapely-1.8.5.post1 click-8.1.3 click-plugins-1.1.1 cligj-0.7.2 contourpy-1.0.7 fiona-1.9.0 fonttools-4.38.0 geopandas-0.12.2 matplotlib-3.6.3 munch-2.5.0 osmnx-1.2.2 requests-2.28.2\n"
          ]
        }
      ],
      "source": [
        "!pip install geopandas \n",
        "!pip install matplotlib == 3.6\n",
        "import matplotlib as plt\n",
        "!pip install networkx == 2.8\n",
        "!pip install numpy==1.23\n",
        "import numpy as np\n",
        "!pip install pandas==1.5\n",
        "import pandas as pd \n",
        "!pip install pyproj==3.4\n",
        "!pip install Shapely==1.7\n",
        "\n",
        "!pip install osmnx\n",
        "import osmnx as ox"
      ]
    },
    {
      "cell_type": "code",
      "source": [
        "import warnings\n",
        "try:\n",
        "    import geopy\n",
        "except ModuleNotFoundError as e:\n",
        "    %pip install geopy==2.2.0\n",
        "    import geopy\n",
        "if geopy.__version__ != \"2.2.0\":\n",
        "    !pip install -U geopy==2.2.0\n",
        "    import geopy"
      ],
      "metadata": {
        "id": "Q3c1sjrGLCw0",
        "colab": {
          "base_uri": "https://localhost:8080/",
          "height": 294
        },
        "outputId": "6d8cf5bc-dbe2-4105-cd60-c82fb0fbe032"
      },
      "execution_count": 5,
      "outputs": [
        {
          "output_type": "stream",
          "name": "stdout",
          "text": [
            "Looking in indexes: https://pypi.org/simple, https://us-python.pkg.dev/colab-wheels/public/simple/\n",
            "Collecting geopy==2.2.0\n",
            "  Downloading geopy-2.2.0-py3-none-any.whl (118 kB)\n",
            "\u001b[2K     \u001b[90m━━━━━━━━━━━━━━━━━━━━━━━━━━━━━━━━━━━━━━━\u001b[0m \u001b[32m118.9/118.9 KB\u001b[0m \u001b[31m5.0 MB/s\u001b[0m eta \u001b[36m0:00:00\u001b[0m\n",
            "\u001b[?25hRequirement already satisfied: geographiclib<2,>=1.49 in /usr/local/lib/python3.8/dist-packages (from geopy==2.2.0) (1.52)\n",
            "Installing collected packages: geopy\n",
            "  Attempting uninstall: geopy\n",
            "    Found existing installation: geopy 1.17.0\n",
            "    Uninstalling geopy-1.17.0:\n",
            "      Successfully uninstalled geopy-1.17.0\n",
            "Successfully installed geopy-2.2.0\n"
          ]
        },
        {
          "output_type": "display_data",
          "data": {
            "application/vnd.colab-display-data+json": {
              "pip_warning": {
                "packages": [
                  "geopy"
                ]
              }
            }
          },
          "metadata": {}
        }
      ]
    },
    {
      "cell_type": "code",
      "source": [
        "try:\n",
        "  import pyrosm\n",
        "except ModuleNotFoundError as e:\n",
        "  %pip install pyrosm\n",
        "  import pyrosm"
      ],
      "metadata": {
        "id": "T1LnehFiLSgw",
        "colab": {
          "base_uri": "https://localhost:8080/"
        },
        "outputId": "47eaec35-7852-4eff-ad38-c16a1a255cf8"
      },
      "execution_count": null,
      "outputs": [
        {
          "output_type": "stream",
          "name": "stdout",
          "text": [
            "Looking in indexes: https://pypi.org/simple, https://us-python.pkg.dev/colab-wheels/public/simple/\n",
            "Collecting pyrosm\n",
            "  Downloading pyrosm-0.6.1.tar.gz (2.1 MB)\n",
            "\u001b[2K     \u001b[90m━━━━━━━━━━━━━━━━━━━━━━━━━━━━━━━━━━━━━━━━\u001b[0m \u001b[32m2.1/2.1 MB\u001b[0m \u001b[31m30.0 MB/s\u001b[0m eta \u001b[36m0:00:00\u001b[0m\n",
            "\u001b[?25h"
          ]
        }
      ]
    },
    {
      "cell_type": "code",
      "source": [
        "import requests\n",
        "import fiona\n",
        "import urllib\n",
        "import os\n",
        "import zipfile, io\n",
        "import urllib3\n",
        "import ssl\n",
        "import shutil\n",
        "from matplotlib import pyplot as plt\n",
        "import networkx as nx\n",
        "from geopy.geocoders import Nominatim\n",
        "import networkx as nx\n",
        "from datetime import datetime\n",
        "from bs4 import BeautifulSoup\n",
        "from datetime import datetime, timedelta, date\n",
        "from geopandas import GeoDataFrame\n",
        "from shapely.geometry import Point\n",
        "import tilemapbase\n",
        "from pyrosm import OSM\n",
        "from pyrosm import get_data\n",
        "from google.colab import files\n",
        "import geopandas as gpd\n"
      ],
      "metadata": {
        "id": "CiBtCFq4LVbD"
      },
      "execution_count": null,
      "outputs": []
    },
    {
      "cell_type": "code",
      "source": [],
      "metadata": {
        "id": "TMMnpG_19CW3"
      },
      "execution_count": 4,
      "outputs": []
    },
    {
      "cell_type": "code",
      "source": [
        "\n",
        "class CustomHttpAdapter(requests.adapters.HTTPAdapter):\n",
        "  def __init__(self, ssl_context=None, **kwargs):\n",
        "    self.ssl_context = ssl_context\n",
        "    super().__init__(**kwargs)\n",
        "\n",
        "  def init_poolmanager(self, connections, maxsize, block=False):\n",
        "    self.poolmanager = urllib3.poolmanager.PoolManager(num_pools=connections, maxsize=maxsize, block=block, ssl_context=self.ssl_context)\n",
        "\n",
        "def get_legacy_session():\n",
        "  ctx = ssl.create_default_context(ssl.Purpose.SERVER_AUTH)\n",
        "  ctx.options |= 0x4  \n",
        "  session = requests.session()\n",
        "  session.mount('https://', CustomHttpAdapter(ctx))\n",
        "  return session\n",
        "\n",
        "def download_file(url):\n",
        "# source: https://stackoverflow.com/a/33488338\n",
        "  local_filename = url.split('/')[-1]\n",
        "  with get_legacy_session() as s:\n",
        "    r = s.get(url, stream=True)\n",
        "    r.raw.decode_content = True\n",
        "    with open(local_filename, 'wb') as f:\n",
        "      shutil.copyfileobj(r.raw, f)\n",
        "  return local_filename"
      ],
      "metadata": {
        "id": "OrXg-_6GLc-z"
      },
      "execution_count": null,
      "outputs": []
    },
    {
      "cell_type": "code",
      "source": [
        "if not os.path.exists('Limiti01012022'):\n",
        "    zip_file_url = 'https://www.istat.it/storage/cartografia/confini_amministrativi/non_generalizzati/Limiti01012022.zip'\n",
        "    zip_file_name = \"Limiti01012022.zip\"\n",
        "    \n",
        "    try: \n",
        "      urllib.request.urlretrieve(zip_file_url ,zip_file_name) \n",
        "    \n",
        "    except:\n",
        "      zip_file_name = download_file(zip_file_url)\n",
        "\n",
        "    z = zipfile.ZipFile(zip_file_name)\n",
        "    # unzip the file\n",
        "    z.extractall()"
      ],
      "metadata": {
        "id": "NtxEME7lLeFZ"
      },
      "execution_count": null,
      "outputs": []
    },
    {
      "cell_type": "code",
      "source": [
        "os.listdir('Limiti01012022')\n",
        "os.chdir('Limiti01012022')\n",
        "os.chdir('Com01012022')\n",
        "\n",
        "for root, dirs, files in os.walk(\".\"):  \n",
        "    for filename in files:\n",
        "        print(filename)\n",
        "\n",
        "cities=gpd.read_file('Com01012022_WGS84.shp')"
      ],
      "metadata": {
        "id": "URLdszADLfE2"
      },
      "execution_count": null,
      "outputs": []
    },
    {
      "cell_type": "markdown",
      "source": [
        "## Start"
      ],
      "metadata": {
        "id": "xNLyQdY1LlvT"
      }
    },
    {
      "cell_type": "code",
      "source": [
        "start = input(\"Starting address: \")\n",
        "point_1 = gpd.tools.geocode(start, provider=\"arcgis\")  \n"
      ],
      "metadata": {
        "id": "b4wg0JG9LiJ4"
      },
      "execution_count": null,
      "outputs": []
    },
    {
      "cell_type": "code",
      "source": [
        "geolocator = Nominatim(user_agent=\"geoapiExercises\")\n",
        "location = geolocator.reverse(str(float(point_1.geometry.y))+\",\"+ str(float(point_1.geometry.x)))\n",
        "\n",
        "start_address = location.raw['address']\n",
        "#We get the province.\n",
        "\n",
        "if start_address['country'] != 'Italia':\n",
        "  print('Restart! Not an italian city')\n",
        "print('Provincia:', start_address['county'])"
      ],
      "metadata": {
        "id": "qONLM4ZZLoZ8"
      },
      "execution_count": null,
      "outputs": []
    },
    {
      "cell_type": "code",
      "source": [
        "area = start_address['county']\n",
        "point_nearest_start = ox.distance.nearest_nodes(G,Y=location[1][0], X=location[1][1])"
      ],
      "metadata": {
        "id": "hFH106aGLp0f"
      },
      "execution_count": null,
      "outputs": []
    },
    {
      "cell_type": "markdown",
      "source": [
        "## End"
      ],
      "metadata": {
        "id": "HXjFpacGMD0r"
      }
    },
    {
      "cell_type": "code",
      "source": [
        "end = input(\"Destination: \")\n",
        "point_2 = gpd.tools.geocode(end, provider=\"arcgis\")end = input(\"Destination: \")\n",
        "point_2 = gpd.tools.geocode(end, provider=\"arcgis\")"
      ],
      "metadata": {
        "id": "WcATzxYtME2J"
      },
      "execution_count": null,
      "outputs": []
    },
    {
      "cell_type": "code",
      "source": [
        "geolocator = Nominatim(user_agent=\"geoapiExercises\")\n",
        "location2 = geolocator.reverse(str(float(point_2.geometry.y))+\",\"+ str(float(point_2.geometry.x)))\n",
        "\n",
        "end_address = location2.raw['address']\n",
        "print('Arriving city: ', end_address['town'])"
      ],
      "metadata": {
        "id": "gLVESYsVMGN7"
      },
      "execution_count": null,
      "outputs": []
    },
    {
      "cell_type": "code",
      "source": [
        "point_nearest_end = ox.distance.nearest_nodes(G,Y=location2[1][0], X=location2[1][1])"
      ],
      "metadata": {
        "id": "-BWousT-MISE"
      },
      "execution_count": null,
      "outputs": []
    },
    {
      "cell_type": "code",
      "source": [
        "shortest_path_distance = ox.shortest_path(G, point_nearest_start, point_nearest_end, weight='length')\n",
        "travel_time = nx.shortest_path_length(G, point_nearest_start, point_nearest_end, weight='travel_time')\n",
        "minutes = travel_time // 60 \n",
        "seconds = round(travel_time % 60*0.6)\n",
        "\n",
        "km_distance = round(nx.shortest_path_length(G, point_nearest_start, point_nearest_end, weight='length')/1000, 3)"
      ],
      "metadata": {
        "id": "5XmroN61Mau4"
      },
      "execution_count": null,
      "outputs": []
    },
    {
      "cell_type": "code",
      "source": [
        "print('Expected Travel time: ', minutes, 'minutes and ', seconds, 'seconds')\n",
        "print('Distance: ', km_distance,'km')"
      ],
      "metadata": {
        "id": "6hEiZoncMa0a"
      },
      "execution_count": null,
      "outputs": []
    },
    {
      "cell_type": "code",
      "source": [
        "h_minute_time = round(km_distance*60//100)\n",
        "h_seconds_time = round((km_distance * 60) % 100*0.6)\n",
        "h_time= str(h_minute_time) + ' minutes, ' + str(h_seconds_time) + ' seconds '\n",
        "\n",
        "f_minute_time = round(km_distance*60//70)\n",
        "f_seconds_time = round((km_distance * 60) % 65*0.6)\n",
        "f_time= str(f_minute_time) + ' minutes, ' + str(f_seconds_time) + ' seconds '\n",
        "\n",
        "price = round(1.65/15 * km_distance,2)\n",
        "f_cost = price\n",
        "h_cost = price + round(0.09*km_distance,2)\n",
        "\n",
        "print('Car travel information:\\nHighway price = ', h_cost, '€', '; Highway time =', h_time)\n",
        "print('Freeway price = ', f_cost,'€ ; Freeway time = ', f_time)"
      ],
      "metadata": {
        "colab": {
          "base_uri": "https://localhost:8080/",
          "height": 235
        },
        "id": "vSmlqR-hMs9f",
        "outputId": "69f9bc93-7639-4e0e-decb-d201ee67fe3d"
      },
      "execution_count": null,
      "outputs": [
        {
          "output_type": "error",
          "ename": "NameError",
          "evalue": "ignored",
          "traceback": [
            "\u001b[0;31m---------------------------------------------------------------------------\u001b[0m",
            "\u001b[0;31mNameError\u001b[0m                                 Traceback (most recent call last)",
            "\u001b[0;32m<ipython-input-1-8bd7686c9a06>\u001b[0m in \u001b[0;36m<module>\u001b[0;34m\u001b[0m\n\u001b[0;32m----> 1\u001b[0;31m \u001b[0mh_minute_time\u001b[0m \u001b[0;34m=\u001b[0m \u001b[0mround\u001b[0m\u001b[0;34m(\u001b[0m\u001b[0mkm_distance\u001b[0m\u001b[0;34m*\u001b[0m\u001b[0;36m60\u001b[0m\u001b[0;34m//\u001b[0m\u001b[0;36m100\u001b[0m\u001b[0;34m)\u001b[0m\u001b[0;34m\u001b[0m\u001b[0;34m\u001b[0m\u001b[0m\n\u001b[0m\u001b[1;32m      2\u001b[0m \u001b[0mh_seconds_time\u001b[0m \u001b[0;34m=\u001b[0m \u001b[0mround\u001b[0m\u001b[0;34m(\u001b[0m\u001b[0;34m(\u001b[0m\u001b[0mkm_distance\u001b[0m \u001b[0;34m*\u001b[0m \u001b[0;36m60\u001b[0m\u001b[0;34m)\u001b[0m \u001b[0;34m%\u001b[0m \u001b[0;36m100\u001b[0m\u001b[0;34m*\u001b[0m\u001b[0;36m0.6\u001b[0m\u001b[0;34m)\u001b[0m\u001b[0;34m\u001b[0m\u001b[0;34m\u001b[0m\u001b[0m\n\u001b[1;32m      3\u001b[0m \u001b[0mh_time\u001b[0m\u001b[0;34m=\u001b[0m \u001b[0mstr\u001b[0m\u001b[0;34m(\u001b[0m\u001b[0mh_minute_time\u001b[0m\u001b[0;34m)\u001b[0m \u001b[0;34m+\u001b[0m \u001b[0;34m' minutes, '\u001b[0m \u001b[0;34m+\u001b[0m \u001b[0mstr\u001b[0m\u001b[0;34m(\u001b[0m\u001b[0mh_seconds_time\u001b[0m\u001b[0;34m)\u001b[0m \u001b[0;34m+\u001b[0m \u001b[0;34m' seconds '\u001b[0m\u001b[0;34m\u001b[0m\u001b[0;34m\u001b[0m\u001b[0m\n\u001b[1;32m      4\u001b[0m \u001b[0;34m\u001b[0m\u001b[0m\n\u001b[1;32m      5\u001b[0m \u001b[0mf_minute_time\u001b[0m \u001b[0;34m=\u001b[0m \u001b[0mround\u001b[0m\u001b[0;34m(\u001b[0m\u001b[0mkm_distance\u001b[0m\u001b[0;34m*\u001b[0m\u001b[0;36m60\u001b[0m\u001b[0;34m//\u001b[0m\u001b[0;36m70\u001b[0m\u001b[0;34m)\u001b[0m\u001b[0;34m\u001b[0m\u001b[0;34m\u001b[0m\u001b[0m\n",
            "\u001b[0;31mNameError\u001b[0m: name 'km_distance' is not defined"
          ]
        }
      ]
    },
    {
      "cell_type": "code",
      "source": [],
      "metadata": {
        "id": "0e-OIi_0NK86"
      },
      "execution_count": null,
      "outputs": []
    },
    {
      "cell_type": "markdown",
      "source": [
        "## Accomodation"
      ],
      "metadata": {
        "id": "5pfhbLR9NJGw"
      }
    },
    {
      "cell_type": "code",
      "source": [
        "if 'town' in end_address:\n",
        "  area = end_address['town'] + ', '+end_address['county'] + ', Italy'\n",
        "  city = end_address['town']\n",
        "elif 'city' in end_address:\n",
        "  area = end_address['city'] + ', '+end_address['county'] + ', Italy'\n",
        "  city = end_address['city']"
      ],
      "metadata": {
        "id": "RccK34swNaRC"
      },
      "execution_count": null,
      "outputs": []
    },
    {
      "cell_type": "code",
      "source": [
        "G = ox.graph_from_place(area, network_type='all') #Only need to be ran once."
      ],
      "metadata": {
        "id": "Bs771HhyNbKU"
      },
      "execution_count": null,
      "outputs": []
    },
    {
      "cell_type": "code",
      "source": [
        "days = int(input('How many days from today?'))\n",
        "counter = int(input('how many of you are staying?'))\n",
        "\n",
        "in_Month = datetime.now().month\n",
        "in_Year = datetime.now().year\n",
        "in_day = datetime.now().day\n",
        "\n",
        "EndDate = datetime.now() + timedelta(days=days)\n",
        "out_month =  EndDate.month\n",
        "out_Year = EndDate.year\n",
        "out_day = EndDate.day"
      ],
      "metadata": {
        "id": "iO_QNin6NM17"
      },
      "execution_count": null,
      "outputs": []
    },
    {
      "cell_type": "code",
      "source": [
        "headers = {\"User-Agent\": \"Mozilla/5.0 (Windows NT 10.0; Win64; x64) AppleWebKit/537.36 (KHTML, like Gecko) Chrome/109.0.0.0 Safari/537.36\"}\n",
        "url = \"https://www.booking.com/searchresults.it.html?checkin_month={in_month}&checkin_monthday={in_day}&checkin_year={in_year}&checkout_month={out_month}&checkout_monthday={out_day}&checkout_year={out_year}&group_adults={people}&group_children=0&order=price&ss={city}%2C%20{country}\"\\\n",
        ".format(in_month=in_Month,\n",
        "       in_day=in_day,\n",
        "       in_year = in_Year,\n",
        "       out_month=out_month,\n",
        "       out_day=out_day,\n",
        "       out_year=out_Year,\n",
        "       people=counter,\n",
        "       city=city,\n",
        "       country='Italia')"
      ],
      "metadata": {
        "id": "0VMAm2etNOG0"
      },
      "execution_count": null,
      "outputs": []
    },
    {
      "cell_type": "code",
      "source": [
        "response = requests.get(url, headers=headers)\n",
        "soup = BeautifulSoup(response.text, \"lxml\")\n"
      ],
      "metadata": {
        "id": "OT19DKY1NQkd"
      },
      "execution_count": null,
      "outputs": []
    },
    {
      "cell_type": "code",
      "source": [
        "prices = soup.find_all(\"div\", class_ =\"e6e585da68\")\n",
        "prices_list = [price.get_text().split(\"\\n\") for price in prices]\n",
        "\n",
        "prcs = []\n",
        "final_prices = dict()\n",
        "t = 1\n",
        "while t < len(prices_list):\n",
        "  if any(map(str.isdigit, prices_list[t][0])) == True:\n",
        "    prcs.append(prices_list[t][0][-4:])\n",
        "  t+=1\n",
        "for i in range(len(prcs)):\n",
        "    final_prices[i] = prcs[i].replace('$','')\n",
        "    final_prices[i] = prcs[i].replace(' ','')\n",
        "    final_prices[i] = final_prices[i].replace('S','')\n",
        "    final_prices[i] = final_prices[i].replace('.','')\n",
        "final_prices = pd.DataFrame(final_prices, index=[\"Price\"]).T\n",
        "\n",
        "IDs = [i for i in range(len(final_prices['Price']))]\n",
        "final_prices[\"ID\"] = IDs\n",
        "\n",
        "names = soup.find_all(\"div\", class_ =\"fcab3ed991 a23c043802\")\n",
        "name_list = [name.get_text().split(\"\\n\") for name in names]\n",
        "Hotels = []\n",
        "for i in name_list:\n",
        "  Hotels.append(i[0])\n",
        "\n",
        "final_prices['Hotels'] = Hotels\n",
        "h_list = [i + ', '+ city for i in final_prices.Hotels]\n",
        "Hotel_data = gpd.tools.geocode(h_list, provider=\"arcgis\")\n",
        "Hotel_data['ID'] = final_prices['ID']\n",
        "Hotel_data = Hotel_data.merge(final_prices, on ='ID')\n",
        "Hotel_data['lon'] = Hotel_data.geometry.x\n",
        "Hotel_data['lat'] = Hotel_data.geometry.y\n",
        "Hotel_data = Hotel_data.drop(['ID','geometry','address'], axis=1)\n",
        "Hotel_data['Price'] = Hotel_data['Price'].str.replace(\"\\xa0\", \"\")\n",
        "Hotel_data['Price'] = pd.to_numeric(Hotel_data['Price'])\n",
        "Hotel_data.to_csv('hotels.csv', index =False)"
      ],
      "metadata": {
        "id": "g95nuqQgNTJh"
      },
      "execution_count": null,
      "outputs": []
    },
    {
      "cell_type": "code",
      "source": [
        "print('Mean accomodation cost:', Hotel_data['Price'].mean(), '€')"
      ],
      "metadata": {
        "id": "7NTENRckNUgW"
      },
      "execution_count": null,
      "outputs": []
    },
    {
      "cell_type": "code",
      "source": [
        "highway_cost = Hotel_data['Price'].mean() + h_cost\n",
        "freeway_cost = Hotel_data['Price'].mean() + f_cost\n",
        "\n",
        "print('Estimated cost if using freeway: ', highway_cost, '€',  'for ', days,'days and', counter, 'people')\n",
        "print('Estimated cost if using highway: ', freeway_cost, '€',  'for ', days,'days and', counter, 'people')"
      ],
      "metadata": {
        "id": "cEWTRIqXN_XG"
      },
      "execution_count": null,
      "outputs": []
    },
    {
      "cell_type": "code",
      "source": [
        "overpass_url = \"http://overpass-api.de/api/interpreter\"\n",
        "overpass_query = \"\"\"\n",
        "[out:json];\n",
        "area[name={}][admin_level=8];\n",
        "  (\n",
        "node[\"tourism\"=\"hotel\"](area); \n",
        "  way[\"tourism\"=\"hotel\"](area); \n",
        "  rel[\"tourism\"=\"hotel\"](area);\n",
        "node[\"tourism\"=\"hostel\"](area);\n",
        "  way[\"tourism\"=\"hostel\"](area);\n",
        "  relation[\"tourism\"=\"hostel\"](area);\n",
        "node[\"tourism\"=\"guest house\"](area);\n",
        "  way[\"tourism\"=\"guest house\"](area);\n",
        "  relation[\"tourism\"=\"guest house\"](area);\n",
        "    );\n",
        "out center;\n",
        "\n",
        "\"\"\".format(area)\n",
        "response = requests.get(overpass_url, \n",
        "                        params={'data': overpass_query})\n",
        "data = response.json()"
      ],
      "metadata": {
        "id": "6loYdH90N5L8"
      },
      "execution_count": null,
      "outputs": []
    },
    {
      "cell_type": "code",
      "source": [
        "import matplotlib.pyplot as plt\n",
        "coords = []\n",
        "for element in data['elements']:\n",
        "  if Hotel_data['Hotels'].str.contains(element['tags']['name']).any():\n",
        "      if element['type'] == 'node':\n",
        "        lon = element['lon']\n",
        "        lat = element['lat']\n",
        "        name = element['tags']['name']\n",
        "      if 'stars' in element['tags']:\n",
        "        star = int(element['tags']['stars'])\n",
        "      else:\n",
        "        star = 0\n",
        "      coords.append((lon, lat, name, star))\n",
        "    elif 'center' in element:\n",
        "      lon = element['center']['lon']\n",
        "      lat = element['center']['lat']\n",
        "     col = element['tags']['tourism']\n",
        "      name = element['tags']['name']\n",
        "      if 'stars' in element['tags']:\n",
        "        star = int(element['tags']['stars'])\n",
        "      else:\n",
        "        star = 0\n",
        "      coords.append((lon, lat, name, star))\n",
        "# Convert coordinates into numpy array\n",
        "X = pd.DataFrame(coords, columns=['lon','lat','turism', 'name', 'stars'])\n",
        "bbox = (X.lon.min(), X.lon.max(), X.lat.max())"
      ],
      "metadata": {
        "id": "n1ATuZt1N5Rk"
      },
      "execution_count": null,
      "outputs": []
    },
    {
      "cell_type": "code",
      "source": [
        "fig, ax = ox.plot_graph(G, show=False, close=False)\n",
        "plt.scatter(X.lon, X.lat, c=X.stars, cmap ='viridis')\n",
        "plt.suptitle('Accomodations in '+ city, fontsize=15)\n",
        "plt.colorbar(label ='Star rating', shrink=0.85)\n",
        "plt.show()"
      ],
      "metadata": {
        "id": "A-B1C45EOkZK"
      },
      "execution_count": null,
      "outputs": []
    }
  ]
}