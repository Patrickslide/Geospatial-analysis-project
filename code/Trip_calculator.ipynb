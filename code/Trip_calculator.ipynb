{
  "nbformat": 4,
  "nbformat_minor": 0,
  "metadata": {
    "colab": {
      "provenance": []
    },
    "kernelspec": {
      "name": "python3",
      "display_name": "Python 3"
    },
    "language_info": {
      "name": "python"
    }
  },
  "cells": [
    {
      "cell_type": "markdown",
      "source": [
        "## Setup"
      ],
      "metadata": {
        "id": "r9f3TF-LLjOo"
      }
    },
    {
      "cell_type": "code",
      "execution_count": 104,
      "metadata": {
        "id": "62Z09_UcBMhR",
        "colab": {
          "base_uri": "https://localhost:8080/",
          "height": 1000
        },
        "outputId": "9544fcb8-fba1-42b1-90ef-3ff8f8eb489f"
      },
      "outputs": [
        {
          "output_type": "stream",
          "name": "stdout",
          "text": [
            "Looking in indexes: https://pypi.org/simple, https://us-python.pkg.dev/colab-wheels/public/simple/\n",
            "Requirement already satisfied: geopandas in /usr/local/lib/python3.8/dist-packages (0.12.2)\n",
            "Requirement already satisfied: fiona>=1.8 in /usr/local/lib/python3.8/dist-packages (from geopandas) (1.9.0)\n",
            "Requirement already satisfied: pandas>=1.0.0 in /usr/local/lib/python3.8/dist-packages (from geopandas) (1.5.0)\n",
            "Requirement already satisfied: shapely>=1.7 in /usr/local/lib/python3.8/dist-packages (from geopandas) (1.8.5.post1)\n",
            "Requirement already satisfied: pyproj>=2.6.1.post1 in /usr/local/lib/python3.8/dist-packages (from geopandas) (3.4.0)\n",
            "Requirement already satisfied: packaging in /usr/local/lib/python3.8/dist-packages (from geopandas) (23.0)\n",
            "Requirement already satisfied: cligj>=0.5 in /usr/local/lib/python3.8/dist-packages (from fiona>=1.8->geopandas) (0.7.2)\n",
            "Requirement already satisfied: click~=8.0 in /usr/local/lib/python3.8/dist-packages (from fiona>=1.8->geopandas) (8.1.3)\n",
            "Requirement already satisfied: click-plugins>=1.0 in /usr/local/lib/python3.8/dist-packages (from fiona>=1.8->geopandas) (1.1.1)\n",
            "Requirement already satisfied: munch>=2.3.2 in /usr/local/lib/python3.8/dist-packages (from fiona>=1.8->geopandas) (2.5.0)\n",
            "Requirement already satisfied: attrs>=19.2.0 in /usr/local/lib/python3.8/dist-packages (from fiona>=1.8->geopandas) (22.2.0)\n",
            "Requirement already satisfied: certifi in /usr/local/lib/python3.8/dist-packages (from fiona>=1.8->geopandas) (2022.12.7)\n",
            "Requirement already satisfied: python-dateutil>=2.8.1 in /usr/local/lib/python3.8/dist-packages (from pandas>=1.0.0->geopandas) (2.8.2)\n",
            "Requirement already satisfied: numpy>=1.20.3 in /usr/local/lib/python3.8/dist-packages (from pandas>=1.0.0->geopandas) (1.23.0)\n",
            "Requirement already satisfied: pytz>=2020.1 in /usr/local/lib/python3.8/dist-packages (from pandas>=1.0.0->geopandas) (2022.7.1)\n",
            "Requirement already satisfied: six in /usr/local/lib/python3.8/dist-packages (from munch>=2.3.2->fiona>=1.8->geopandas) (1.15.0)\n",
            "Looking in indexes: https://pypi.org/simple, https://us-python.pkg.dev/colab-wheels/public/simple/\n",
            "\u001b[31mERROR: Could not find a version that satisfies the requirement matplotlib== (from versions: 0.86, 0.86.1, 0.86.2, 0.91.0, 0.91.1, 1.0.1, 1.1.0, 1.1.1, 1.2.0, 1.2.1, 1.3.0, 1.3.1, 1.4.0, 1.4.1rc1, 1.4.1, 1.4.2, 1.4.3, 1.5.0, 1.5.1, 1.5.2, 1.5.3, 2.0.0b1, 2.0.0b2, 2.0.0b3, 2.0.0b4, 2.0.0rc1, 2.0.0rc2, 2.0.0, 2.0.1, 2.0.2, 2.1.0rc1, 2.1.0, 2.1.1, 2.1.2, 2.2.0rc1, 2.2.0, 2.2.2, 2.2.3, 2.2.4, 2.2.5, 3.0.0rc2, 3.0.0, 3.0.1, 3.0.2, 3.0.3, 3.1.0rc1, 3.1.0rc2, 3.1.0, 3.1.1, 3.1.2, 3.1.3, 3.2.0rc1, 3.2.0rc3, 3.2.0, 3.2.1, 3.2.2, 3.3.0rc1, 3.3.0, 3.3.1, 3.3.2, 3.3.3, 3.3.4, 3.4.0rc1, 3.4.0rc2, 3.4.0rc3, 3.4.0, 3.4.1, 3.4.2, 3.4.3, 3.5.0b1, 3.5.0rc1, 3.5.0, 3.5.1, 3.5.2, 3.5.3, 3.6.0rc1, 3.6.0rc2, 3.6.0, 3.6.1, 3.6.2, 3.6.3, 3.7.0rc1)\u001b[0m\u001b[31m\n",
            "\u001b[0m\u001b[31mERROR: No matching distribution found for matplotlib==\u001b[0m\u001b[31m\n",
            "\u001b[0mLooking in indexes: https://pypi.org/simple, https://us-python.pkg.dev/colab-wheels/public/simple/\n",
            "\u001b[31mERROR: Could not find a version that satisfies the requirement networkx== (from versions: 0.34, 0.35, 0.35.1, 0.36, 0.37, 0.99, 1.0rc1, 1.0, 1.0.1, 1.1, 1.2rc1, 1.2, 1.3rc1, 1.3, 1.4rc1, 1.4, 1.5rc1, 1.5, 1.6rc1, 1.6, 1.7rc1, 1.7, 1.8rc1, 1.8, 1.8.1, 1.9rc1, 1.9, 1.9.1, 1.10rc2, 1.10, 1.11rc1, 1.11rc2, 1.11, 2.0, 2.1, 2.2rc1, 2.2, 2.3rc3, 2.3rc4, 2.3, 2.4rc1, 2.4rc2, 2.4, 2.5rc1, 2.5, 2.5.1, 2.6rc1, 2.6rc2, 2.6, 2.6.1, 2.6.2, 2.6.3, 2.7rc1, 2.7, 2.7.1, 2.8rc1, 2.8, 2.8.1rc1, 2.8.1, 2.8.2, 2.8.3, 2.8.4, 2.8.5, 2.8.6, 2.8.7, 2.8.8, 3.0b1, 3.0rc1, 3.0)\u001b[0m\u001b[31m\n",
            "\u001b[0m\u001b[31mERROR: No matching distribution found for networkx==\u001b[0m\u001b[31m\n",
            "\u001b[0mLooking in indexes: https://pypi.org/simple, https://us-python.pkg.dev/colab-wheels/public/simple/\n",
            "\u001b[31mERROR: Could not find a version that satisfies the requirement numpy== (from versions: 1.3.0, 1.4.1, 1.5.0, 1.5.1, 1.6.0, 1.6.1, 1.6.2, 1.7.0, 1.7.1, 1.7.2, 1.8.0, 1.8.1, 1.8.2, 1.9.0, 1.9.1, 1.9.2, 1.9.3, 1.10.0.post2, 1.10.1, 1.10.2, 1.10.4, 1.11.0, 1.11.1, 1.11.2, 1.11.3, 1.12.0, 1.12.1, 1.13.0, 1.13.1, 1.13.3, 1.14.0, 1.14.1, 1.14.2, 1.14.3, 1.14.4, 1.14.5, 1.14.6, 1.15.0, 1.15.1, 1.15.2, 1.15.3, 1.15.4, 1.16.0, 1.16.1, 1.16.2, 1.16.3, 1.16.4, 1.16.5, 1.16.6, 1.17.0, 1.17.1, 1.17.2, 1.17.3, 1.17.4, 1.17.5, 1.18.0, 1.18.1, 1.18.2, 1.18.3, 1.18.4, 1.18.5, 1.19.0, 1.19.1, 1.19.2, 1.19.3, 1.19.4, 1.19.5, 1.20.0, 1.20.1, 1.20.2, 1.20.3, 1.21.0, 1.21.1, 1.21.2, 1.21.3, 1.21.4, 1.21.5, 1.21.6, 1.22.0, 1.22.1, 1.22.2, 1.22.3, 1.22.4, 1.23.0rc1, 1.23.0rc2, 1.23.0rc3, 1.23.0, 1.23.1, 1.23.2, 1.23.3, 1.23.4, 1.23.5, 1.24.0rc1, 1.24.0rc2, 1.24.0, 1.24.1)\u001b[0m\u001b[31m\n",
            "\u001b[0m\u001b[31mERROR: No matching distribution found for numpy==\u001b[0m\u001b[31m\n",
            "\u001b[0mLooking in indexes: https://pypi.org/simple, https://us-python.pkg.dev/colab-wheels/public/simple/\n",
            "Requirement already satisfied: pandas==1.5 in /usr/local/lib/python3.8/dist-packages (1.5.0)\n",
            "Requirement already satisfied: numpy>=1.20.3 in /usr/local/lib/python3.8/dist-packages (from pandas==1.5) (1.23.0)\n",
            "Requirement already satisfied: pytz>=2020.1 in /usr/local/lib/python3.8/dist-packages (from pandas==1.5) (2022.7.1)\n",
            "Requirement already satisfied: python-dateutil>=2.8.1 in /usr/local/lib/python3.8/dist-packages (from pandas==1.5) (2.8.2)\n",
            "Requirement already satisfied: six>=1.5 in /usr/local/lib/python3.8/dist-packages (from python-dateutil>=2.8.1->pandas==1.5) (1.15.0)\n",
            "Looking in indexes: https://pypi.org/simple, https://us-python.pkg.dev/colab-wheels/public/simple/\n",
            "Requirement already satisfied: pyproj==3.4 in /usr/local/lib/python3.8/dist-packages (3.4.0)\n",
            "Requirement already satisfied: certifi in /usr/local/lib/python3.8/dist-packages (from pyproj==3.4) (2022.12.7)\n",
            "Looking in indexes: https://pypi.org/simple, https://us-python.pkg.dev/colab-wheels/public/simple/\n",
            "Collecting Shapely==1.7\n",
            "  Using cached Shapely-1.7.0-cp38-cp38-manylinux1_x86_64.whl (1.8 MB)\n",
            "Installing collected packages: Shapely\n",
            "  Attempting uninstall: Shapely\n",
            "    Found existing installation: Shapely 1.8.5.post1\n",
            "    Uninstalling Shapely-1.8.5.post1:\n",
            "      Successfully uninstalled Shapely-1.8.5.post1\n",
            "\u001b[31mERROR: pip's dependency resolver does not currently take into account all the packages that are installed. This behaviour is the source of the following dependency conflicts.\n",
            "osmnx 1.2.2 requires Shapely<2.0,>=1.8, but you have shapely 1.7.0 which is incompatible.\u001b[0m\u001b[31m\n",
            "\u001b[0mSuccessfully installed Shapely-1.7.0\n",
            "Looking in indexes: https://pypi.org/simple, https://us-python.pkg.dev/colab-wheels/public/simple/\n",
            "Requirement already satisfied: osmnx in /usr/local/lib/python3.8/dist-packages (1.2.2)\n",
            "Requirement already satisfied: geopandas>=0.11 in /usr/local/lib/python3.8/dist-packages (from osmnx) (0.12.2)\n",
            "Collecting Shapely<2.0,>=1.8\n",
            "  Using cached Shapely-1.8.5.post1-cp38-cp38-manylinux_2_12_x86_64.manylinux2010_x86_64.whl (2.1 MB)\n",
            "Requirement already satisfied: requests>=2.28 in /usr/local/lib/python3.8/dist-packages (from osmnx) (2.28.2)\n",
            "Requirement already satisfied: networkx>=2.8 in /usr/local/lib/python3.8/dist-packages (from osmnx) (2.8)\n",
            "Requirement already satisfied: pyproj>=3.3 in /usr/local/lib/python3.8/dist-packages (from osmnx) (3.4.0)\n",
            "Requirement already satisfied: pandas>=1.4 in /usr/local/lib/python3.8/dist-packages (from osmnx) (1.5.0)\n",
            "Requirement already satisfied: Rtree>=1.0 in /usr/local/lib/python3.8/dist-packages (from osmnx) (1.0.1)\n",
            "Requirement already satisfied: numpy>=1.22 in /usr/local/lib/python3.8/dist-packages (from osmnx) (1.23.0)\n",
            "Requirement already satisfied: matplotlib>=3.5 in /usr/local/lib/python3.8/dist-packages (from osmnx) (3.6.3)\n",
            "Requirement already satisfied: packaging in /usr/local/lib/python3.8/dist-packages (from geopandas>=0.11->osmnx) (23.0)\n",
            "Requirement already satisfied: fiona>=1.8 in /usr/local/lib/python3.8/dist-packages (from geopandas>=0.11->osmnx) (1.9.0)\n",
            "Requirement already satisfied: kiwisolver>=1.0.1 in /usr/local/lib/python3.8/dist-packages (from matplotlib>=3.5->osmnx) (1.4.4)\n",
            "Requirement already satisfied: cycler>=0.10 in /usr/local/lib/python3.8/dist-packages (from matplotlib>=3.5->osmnx) (0.11.0)\n",
            "Requirement already satisfied: pillow>=6.2.0 in /usr/local/lib/python3.8/dist-packages (from matplotlib>=3.5->osmnx) (7.1.2)\n",
            "Requirement already satisfied: pyparsing>=2.2.1 in /usr/local/lib/python3.8/dist-packages (from matplotlib>=3.5->osmnx) (3.0.9)\n",
            "Requirement already satisfied: python-dateutil>=2.7 in /usr/local/lib/python3.8/dist-packages (from matplotlib>=3.5->osmnx) (2.8.2)\n",
            "Requirement already satisfied: contourpy>=1.0.1 in /usr/local/lib/python3.8/dist-packages (from matplotlib>=3.5->osmnx) (1.0.7)\n",
            "Requirement already satisfied: fonttools>=4.22.0 in /usr/local/lib/python3.8/dist-packages (from matplotlib>=3.5->osmnx) (4.38.0)\n",
            "Requirement already satisfied: pytz>=2020.1 in /usr/local/lib/python3.8/dist-packages (from pandas>=1.4->osmnx) (2022.7.1)\n",
            "Requirement already satisfied: certifi in /usr/local/lib/python3.8/dist-packages (from pyproj>=3.3->osmnx) (2022.12.7)\n",
            "Requirement already satisfied: urllib3<1.27,>=1.21.1 in /usr/local/lib/python3.8/dist-packages (from requests>=2.28->osmnx) (1.24.3)\n",
            "Requirement already satisfied: idna<4,>=2.5 in /usr/local/lib/python3.8/dist-packages (from requests>=2.28->osmnx) (2.10)\n",
            "Requirement already satisfied: charset-normalizer<4,>=2 in /usr/local/lib/python3.8/dist-packages (from requests>=2.28->osmnx) (2.1.1)\n",
            "Requirement already satisfied: cligj>=0.5 in /usr/local/lib/python3.8/dist-packages (from fiona>=1.8->geopandas>=0.11->osmnx) (0.7.2)\n",
            "Requirement already satisfied: munch>=2.3.2 in /usr/local/lib/python3.8/dist-packages (from fiona>=1.8->geopandas>=0.11->osmnx) (2.5.0)\n",
            "Requirement already satisfied: click-plugins>=1.0 in /usr/local/lib/python3.8/dist-packages (from fiona>=1.8->geopandas>=0.11->osmnx) (1.1.1)\n",
            "Requirement already satisfied: click~=8.0 in /usr/local/lib/python3.8/dist-packages (from fiona>=1.8->geopandas>=0.11->osmnx) (8.1.3)\n",
            "Requirement already satisfied: attrs>=19.2.0 in /usr/local/lib/python3.8/dist-packages (from fiona>=1.8->geopandas>=0.11->osmnx) (22.2.0)\n",
            "Requirement already satisfied: six>=1.5 in /usr/local/lib/python3.8/dist-packages (from python-dateutil>=2.7->matplotlib>=3.5->osmnx) (1.15.0)\n",
            "Installing collected packages: Shapely\n",
            "  Attempting uninstall: Shapely\n",
            "    Found existing installation: Shapely 1.7.0\n",
            "    Uninstalling Shapely-1.7.0:\n",
            "      Successfully uninstalled Shapely-1.7.0\n",
            "Successfully installed Shapely-1.8.5.post1\n"
          ]
        },
        {
          "output_type": "display_data",
          "data": {
            "application/vnd.colab-display-data+json": {
              "pip_warning": {
                "packages": [
                  "shapely"
                ]
              }
            }
          },
          "metadata": {}
        }
      ],
      "source": [
        "!pip install geopandas \n",
        "!pip install matplotlib==3.1.3\n",
        "import matplotlib as plt\n",
        "!pip install networkx== 2.8\n",
        "!pip install numpy== 1.23\n",
        "import numpy as np\n",
        "!pip install pandas==1.5\n",
        "import pandas as pd \n",
        "!pip install pyproj==3.4\n",
        "!pip install Shapely==1.7\n",
        "\n",
        "!pip install osmnx\n",
        "import osmnx as ox"
      ]
    },
    {
      "cell_type": "code",
      "source": [
        "!pip install matplotlib==3.1.3"
      ],
      "metadata": {
        "colab": {
          "base_uri": "https://localhost:8080/"
        },
        "id": "jITHVmjTHe7B",
        "outputId": "e5919568-a761-44f8-bbb4-ec3ead14a635"
      },
      "execution_count": 107,
      "outputs": [
        {
          "output_type": "stream",
          "name": "stdout",
          "text": [
            "Looking in indexes: https://pypi.org/simple, https://us-python.pkg.dev/colab-wheels/public/simple/\n",
            "Collecting matplotlib==3.1.3\n",
            "  Downloading matplotlib-3.1.3-cp38-cp38-manylinux1_x86_64.whl (13.1 MB)\n",
            "\u001b[2K     \u001b[90m━━━━━━━━━━━━━━━━━━━━━━━━━━━━━━━━━━━━━━━━\u001b[0m \u001b[32m13.1/13.1 MB\u001b[0m \u001b[31m76.3 MB/s\u001b[0m eta \u001b[36m0:00:00\u001b[0m\n",
            "\u001b[?25hRequirement already satisfied: cycler>=0.10 in /usr/local/lib/python3.8/dist-packages (from matplotlib==3.1.3) (0.11.0)\n",
            "Requirement already satisfied: kiwisolver>=1.0.1 in /usr/local/lib/python3.8/dist-packages (from matplotlib==3.1.3) (1.4.4)\n",
            "Requirement already satisfied: pyparsing!=2.0.4,!=2.1.2,!=2.1.6,>=2.0.1 in /usr/local/lib/python3.8/dist-packages (from matplotlib==3.1.3) (3.0.9)\n",
            "Requirement already satisfied: python-dateutil>=2.1 in /usr/local/lib/python3.8/dist-packages (from matplotlib==3.1.3) (2.8.2)\n",
            "Requirement already satisfied: numpy>=1.11 in /usr/local/lib/python3.8/dist-packages (from matplotlib==3.1.3) (1.23.0)\n",
            "Requirement already satisfied: six>=1.5 in /usr/local/lib/python3.8/dist-packages (from python-dateutil>=2.1->matplotlib==3.1.3) (1.15.0)\n",
            "Installing collected packages: matplotlib\n",
            "  Attempting uninstall: matplotlib\n",
            "    Found existing installation: matplotlib 3.1.1\n",
            "    Uninstalling matplotlib-3.1.1:\n",
            "      Successfully uninstalled matplotlib-3.1.1\n",
            "\u001b[31mERROR: pip's dependency resolver does not currently take into account all the packages that are installed. This behaviour is the source of the following dependency conflicts.\n",
            "osmnx 1.2.2 requires matplotlib>=3.5, but you have matplotlib 3.1.3 which is incompatible.\u001b[0m\u001b[31m\n",
            "\u001b[0mSuccessfully installed matplotlib-3.1.3\n"
          ]
        }
      ]
    },
    {
      "cell_type": "code",
      "source": [
        "import warnings\n",
        "try:\n",
        "    import geopy\n",
        "except ModuleNotFoundError as e:\n",
        "    %pip install geopy==2.2.0\n",
        "    import geopy\n",
        "if geopy.__version__ != \"2.2.0\":\n",
        "    !pip install -U geopy==2.2.0\n",
        "    import geopy"
      ],
      "metadata": {
        "id": "Q3c1sjrGLCw0",
        "colab": {
          "base_uri": "https://localhost:8080/",
          "height": 294
        },
        "outputId": "6d8cf5bc-dbe2-4105-cd60-c82fb0fbe032"
      },
      "execution_count": 5,
      "outputs": [
        {
          "output_type": "stream",
          "name": "stdout",
          "text": [
            "Looking in indexes: https://pypi.org/simple, https://us-python.pkg.dev/colab-wheels/public/simple/\n",
            "Collecting geopy==2.2.0\n",
            "  Downloading geopy-2.2.0-py3-none-any.whl (118 kB)\n",
            "\u001b[2K     \u001b[90m━━━━━━━━━━━━━━━━━━━━━━━━━━━━━━━━━━━━━━━\u001b[0m \u001b[32m118.9/118.9 KB\u001b[0m \u001b[31m5.0 MB/s\u001b[0m eta \u001b[36m0:00:00\u001b[0m\n",
            "\u001b[?25hRequirement already satisfied: geographiclib<2,>=1.49 in /usr/local/lib/python3.8/dist-packages (from geopy==2.2.0) (1.52)\n",
            "Installing collected packages: geopy\n",
            "  Attempting uninstall: geopy\n",
            "    Found existing installation: geopy 1.17.0\n",
            "    Uninstalling geopy-1.17.0:\n",
            "      Successfully uninstalled geopy-1.17.0\n",
            "Successfully installed geopy-2.2.0\n"
          ]
        },
        {
          "output_type": "display_data",
          "data": {
            "application/vnd.colab-display-data+json": {
              "pip_warning": {
                "packages": [
                  "geopy"
                ]
              }
            }
          },
          "metadata": {}
        }
      ]
    },
    {
      "cell_type": "code",
      "source": [
        "try:\n",
        "  import pyrosm\n",
        "except ModuleNotFoundError as e:\n",
        "  %pip install pyrosm\n",
        "  import pyrosm"
      ],
      "metadata": {
        "id": "T1LnehFiLSgw",
        "colab": {
          "base_uri": "https://localhost:8080/"
        },
        "outputId": "47eaec35-7852-4eff-ad38-c16a1a255cf8"
      },
      "execution_count": 6,
      "outputs": [
        {
          "output_type": "stream",
          "name": "stdout",
          "text": [
            "Looking in indexes: https://pypi.org/simple, https://us-python.pkg.dev/colab-wheels/public/simple/\n",
            "Collecting pyrosm\n",
            "  Downloading pyrosm-0.6.1.tar.gz (2.1 MB)\n",
            "\u001b[2K     \u001b[90m━━━━━━━━━━━━━━━━━━━━━━━━━━━━━━━━━━━━━━━━\u001b[0m \u001b[32m2.1/2.1 MB\u001b[0m \u001b[31m30.0 MB/s\u001b[0m eta \u001b[36m0:00:00\u001b[0m\n",
            "\u001b[?25h  Installing build dependencies ... \u001b[?25l\u001b[?25hdone\n",
            "  Getting requirements to build wheel ... \u001b[?25l\u001b[?25hdone\n",
            "  Preparing metadata (pyproject.toml) ... \u001b[?25l\u001b[?25hdone\n",
            "Collecting python-rapidjson\n",
            "  Downloading python_rapidjson-1.9-cp38-cp38-manylinux_2_17_x86_64.manylinux2014_x86_64.whl (1.6 MB)\n",
            "\u001b[2K     \u001b[90m━━━━━━━━━━━━━━━━━━━━━━━━━━━━━━━━━━━━━━━━\u001b[0m \u001b[32m1.6/1.6 MB\u001b[0m \u001b[31m59.2 MB/s\u001b[0m eta \u001b[36m0:00:00\u001b[0m\n",
            "\u001b[?25hRequirement already satisfied: setuptools>=18.0 in /usr/local/lib/python3.8/dist-packages (from pyrosm) (57.4.0)\n",
            "Requirement already satisfied: geopandas>=0.8.0 in /usr/local/lib/python3.8/dist-packages (from pyrosm) (0.12.2)\n",
            "Collecting cykhash\n",
            "  Using cached cykhash-2.0.0-cp38-cp38-linux_x86_64.whl\n",
            "Collecting pyrobuf\n",
            "  Using cached pyrobuf-0.9.3-cp38-cp38-linux_x86_64.whl\n",
            "Collecting pygeos\n",
            "  Downloading pygeos-0.14-cp38-cp38-manylinux_2_17_x86_64.manylinux2014_x86_64.whl (2.2 MB)\n",
            "\u001b[2K     \u001b[90m━━━━━━━━━━━━━━━━━━━━━━━━━━━━━━━━━━━━━━━━\u001b[0m \u001b[32m2.2/2.2 MB\u001b[0m \u001b[31m82.0 MB/s\u001b[0m eta \u001b[36m0:00:00\u001b[0m\n",
            "\u001b[?25hRequirement already satisfied: pyproj>=2.6.1.post1 in /usr/local/lib/python3.8/dist-packages (from geopandas>=0.8.0->pyrosm) (3.4.0)\n",
            "Requirement already satisfied: shapely>=1.7 in /usr/local/lib/python3.8/dist-packages (from geopandas>=0.8.0->pyrosm) (1.8.5.post1)\n",
            "Requirement already satisfied: fiona>=1.8 in /usr/local/lib/python3.8/dist-packages (from geopandas>=0.8.0->pyrosm) (1.9.0)\n",
            "Requirement already satisfied: pandas>=1.0.0 in /usr/local/lib/python3.8/dist-packages (from geopandas>=0.8.0->pyrosm) (1.5.0)\n",
            "Requirement already satisfied: packaging in /usr/local/lib/python3.8/dist-packages (from geopandas>=0.8.0->pyrosm) (23.0)\n",
            "Requirement already satisfied: numpy>=1.13 in /usr/local/lib/python3.8/dist-packages (from pygeos->pyrosm) (1.23.0)\n",
            "Requirement already satisfied: jinja2>=2.8 in /usr/local/lib/python3.8/dist-packages (from pyrobuf->pyrosm) (2.11.3)\n",
            "Requirement already satisfied: cython>=0.23 in /usr/local/lib/python3.8/dist-packages (from pyrobuf->pyrosm) (0.29.33)\n",
            "Requirement already satisfied: certifi in /usr/local/lib/python3.8/dist-packages (from fiona>=1.8->geopandas>=0.8.0->pyrosm) (2022.12.7)\n",
            "Requirement already satisfied: cligj>=0.5 in /usr/local/lib/python3.8/dist-packages (from fiona>=1.8->geopandas>=0.8.0->pyrosm) (0.7.2)\n",
            "Requirement already satisfied: click-plugins>=1.0 in /usr/local/lib/python3.8/dist-packages (from fiona>=1.8->geopandas>=0.8.0->pyrosm) (1.1.1)\n",
            "Requirement already satisfied: click~=8.0 in /usr/local/lib/python3.8/dist-packages (from fiona>=1.8->geopandas>=0.8.0->pyrosm) (8.1.3)\n",
            "Requirement already satisfied: munch>=2.3.2 in /usr/local/lib/python3.8/dist-packages (from fiona>=1.8->geopandas>=0.8.0->pyrosm) (2.5.0)\n",
            "Requirement already satisfied: attrs>=19.2.0 in /usr/local/lib/python3.8/dist-packages (from fiona>=1.8->geopandas>=0.8.0->pyrosm) (22.2.0)\n",
            "Requirement already satisfied: MarkupSafe>=0.23 in /usr/local/lib/python3.8/dist-packages (from jinja2>=2.8->pyrobuf->pyrosm) (2.0.1)\n",
            "Requirement already satisfied: python-dateutil>=2.8.1 in /usr/local/lib/python3.8/dist-packages (from pandas>=1.0.0->geopandas>=0.8.0->pyrosm) (2.8.2)\n",
            "Requirement already satisfied: pytz>=2020.1 in /usr/local/lib/python3.8/dist-packages (from pandas>=1.0.0->geopandas>=0.8.0->pyrosm) (2022.7.1)\n",
            "Requirement already satisfied: six in /usr/local/lib/python3.8/dist-packages (from munch>=2.3.2->fiona>=1.8->geopandas>=0.8.0->pyrosm) (1.15.0)\n",
            "Building wheels for collected packages: pyrosm\n",
            "  Building wheel for pyrosm (pyproject.toml) ... \u001b[?25l\u001b[?25hdone\n",
            "  Created wheel for pyrosm: filename=pyrosm-0.6.1-cp38-cp38-linux_x86_64.whl size=8137864 sha256=bae172e28224d40243fdab2b30d6886d3634b62d7ecced6f50788e4affca5c92\n",
            "  Stored in directory: /root/.cache/pip/wheels/58/60/9e/fa165b40f8ffb22b391c38e3e4bded072fcd75c6a3e811ee6e\n",
            "Successfully built pyrosm\n",
            "Installing collected packages: cykhash, python-rapidjson, pygeos, pyrobuf, pyrosm\n",
            "Successfully installed cykhash-2.0.0 pygeos-0.14 pyrobuf-0.9.3 pyrosm-0.6.1 python-rapidjson-1.9\n"
          ]
        }
      ]
    },
    {
      "cell_type": "code",
      "source": [
        "import requests\n",
        "import fiona\n",
        "import urllib\n",
        "import os\n",
        "import zipfile, io\n",
        "import urllib3\n",
        "import ssl\n",
        "import matplotlib.pyplot as plt\n",
        "import networkx as nx\n",
        "from geopy.geocoders import Nominatim\n",
        "import networkx as nx\n",
        "from datetime import datetime\n",
        "from bs4 import BeautifulSoup\n",
        "from datetime import datetime, timedelta, date\n",
        "from geopandas import GeoDataFrame\n",
        "from shapely.geometry import Point\n",
        "from pyrosm import OSM\n",
        "from pyrosm import get_data\n",
        "from google.colab import files\n",
        "import geopandas as gpd\n"
      ],
      "metadata": {
        "id": "CiBtCFq4LVbD"
      },
      "execution_count": 108,
      "outputs": []
    },
    {
      "cell_type": "code",
      "source": [
        "\n",
        "class CustomHttpAdapter(requests.adapters.HTTPAdapter):\n",
        "  def __init__(self, ssl_context=None, **kwargs):\n",
        "    self.ssl_context = ssl_context\n",
        "    super().__init__(**kwargs)\n",
        "\n",
        "  def init_poolmanager(self, connections, maxsize, block=False):\n",
        "    self.poolmanager = urllib3.poolmanager.PoolManager(num_pools=connections, maxsize=maxsize, block=block, ssl_context=self.ssl_context)\n",
        "\n",
        "def get_legacy_session():\n",
        "  ctx = ssl.create_default_context(ssl.Purpose.SERVER_AUTH)\n",
        "  ctx.options |= 0x4  \n",
        "  session = requests.session()\n",
        "  session.mount('https://', CustomHttpAdapter(ctx))\n",
        "  return session\n",
        "\n",
        "def download_file(url):\n",
        "# source: https://stackoverflow.com/a/33488338\n",
        "  local_filename = url.split('/')[-1]\n",
        "  with get_legacy_session() as s:\n",
        "    r = s.get(url, stream=True)\n",
        "    r.raw.decode_content = True\n",
        "    with open(local_filename, 'wb') as f:\n",
        "      shutil.copyfileobj(r.raw, f)\n",
        "  return local_filename"
      ],
      "metadata": {
        "id": "OrXg-_6GLc-z"
      },
      "execution_count": 9,
      "outputs": []
    },
    {
      "cell_type": "code",
      "source": [
        "if not os.path.exists('Limiti01012022'):\n",
        "    zip_file_url = 'https://www.istat.it/storage/cartografia/confini_amministrativi/non_generalizzati/Limiti01012022.zip'\n",
        "    zip_file_name = \"Limiti01012022.zip\"\n",
        "    \n",
        "    try: \n",
        "      urllib.request.urlretrieve(zip_file_url ,zip_file_name) \n",
        "    \n",
        "    except:\n",
        "      zip_file_name = download_file(zip_file_url)\n",
        "\n",
        "    z = zipfile.ZipFile(zip_file_name)\n",
        "    # unzip the file\n",
        "    z.extractall()"
      ],
      "metadata": {
        "id": "NtxEME7lLeFZ"
      },
      "execution_count": 10,
      "outputs": []
    },
    {
      "cell_type": "code",
      "source": [
        "os.listdir('Limiti01012022')\n",
        "os.chdir('Limiti01012022')\n",
        "os.chdir('Com01012022')\n",
        "\n",
        "for root, dirs, files in os.walk(\".\"):  \n",
        "    for filename in files:\n",
        "        print(filename)\n",
        "\n",
        "cities=gpd.read_file('Com01012022_WGS84.shp')"
      ],
      "metadata": {
        "id": "URLdszADLfE2",
        "colab": {
          "base_uri": "https://localhost:8080/"
        },
        "outputId": "a9dd794f-49e7-4dad-8d4a-c497ef4ca2ef"
      },
      "execution_count": 11,
      "outputs": [
        {
          "output_type": "stream",
          "name": "stdout",
          "text": [
            "Com01012022_WGS84.shx\n",
            "Com01012022_WGS84.prj\n",
            "Com01012022_WGS84.shp\n",
            "Com01012022_WGS84.dbf\n"
          ]
        }
      ]
    },
    {
      "cell_type": "markdown",
      "source": [
        "## Start"
      ],
      "metadata": {
        "id": "xNLyQdY1LlvT"
      }
    },
    {
      "cell_type": "code",
      "source": [
        "start = input(\"Starting address: \")\n",
        "point_1 = gpd.tools.geocode(start, provider=\"arcgis\")  \n"
      ],
      "metadata": {
        "id": "b4wg0JG9LiJ4",
        "colab": {
          "base_uri": "https://localhost:8080/"
        },
        "outputId": "4eb67412-3496-47bb-9201-4f5c3fcc7c9b"
      },
      "execution_count": 204,
      "outputs": [
        {
          "name": "stdout",
          "output_type": "stream",
          "text": [
            "Starting address: Sassuolo\n"
          ]
        }
      ]
    },
    {
      "cell_type": "code",
      "source": [
        "geolocator = Nominatim(user_agent=\"geoapiExercises\")\n",
        "location = geolocator.reverse(str(float(point_1.geometry.y))+\",\"+ str(float(point_1.geometry.x)))\n",
        "\n",
        "start_address = location.raw['address']\n",
        "\n",
        "if start_address['country'] != 'Italia':\n",
        "  print('Restart! Not an italian city')\n",
        "print('Provincia:', start_address['county'])"
      ],
      "metadata": {
        "id": "qONLM4ZZLoZ8",
        "colab": {
          "base_uri": "https://localhost:8080/"
        },
        "outputId": "41353d16-ab87-4c2d-e07a-11f4ffb7e150"
      },
      "execution_count": 205,
      "outputs": [
        {
          "output_type": "stream",
          "name": "stdout",
          "text": [
            "Provincia: Modena\n"
          ]
        }
      ]
    },
    {
      "cell_type": "code",
      "source": [
        "if 'town' in start_address:\n",
        "  area = start_address['town'] + ', '+start_address['county'] + ', Italy'\n",
        "  city = start_address['town']\n",
        "elif 'city' in start_address:\n",
        "  area = start_address['city'] + ', '+start_address['county'] + ', Italy'\n",
        "  city = start_address['city']"
      ],
      "metadata": {
        "id": "1EF-yJYq-8LL"
      },
      "execution_count": 206,
      "outputs": []
    },
    {
      "cell_type": "code",
      "source": [
        "G = ox.graph_from_place(area, network_type='all') #Only need to be ran once."
      ],
      "metadata": {
        "id": "3nTEeKBL-zwd"
      },
      "execution_count": 207,
      "outputs": []
    },
    {
      "cell_type": "code",
      "source": [
        "area = start_address['county']\n",
        "point_nearest_start = ox.distance.nearest_nodes(G,Y=location[1][0], X=location[1][1])"
      ],
      "metadata": {
        "id": "hFH106aGLp0f"
      },
      "execution_count": 208,
      "outputs": []
    },
    {
      "cell_type": "markdown",
      "source": [
        "## End"
      ],
      "metadata": {
        "id": "HXjFpacGMD0r"
      }
    },
    {
      "cell_type": "code",
      "source": [
        "end = input(\"Destination: \")\n",
        "point_2 = gpd.tools.geocode(end, provider=\"arcgis\")"
      ],
      "metadata": {
        "id": "WcATzxYtME2J",
        "colab": {
          "base_uri": "https://localhost:8080/"
        },
        "outputId": "552cecc8-53b5-4cc8-f2db-f4547aedd5ef"
      },
      "execution_count": 209,
      "outputs": [
        {
          "name": "stdout",
          "output_type": "stream",
          "text": [
            "Destination: Modena\n"
          ]
        }
      ]
    },
    {
      "cell_type": "code",
      "source": [
        "geolocator = Nominatim(user_agent=\"geoapiExercises\")\n",
        "location2 = geolocator.reverse(str(float(point_2.geometry.y))+\",\"+ str(float(point_2.geometry.x)))\n",
        "\n",
        "end_address = location2.raw['address']"
      ],
      "metadata": {
        "id": "gLVESYsVMGN7"
      },
      "execution_count": 211,
      "outputs": []
    },
    {
      "cell_type": "code",
      "source": [
        "if 'town' in end_address:\n",
        "  area = end_address['town'] + ', '+end_address['county'] + ', Italy'\n",
        "  city = end_address['town']\n",
        "elif 'city' in end_address:\n",
        "  area = end_address['city'] + ', '+end_address['county'] + ', Italy'\n",
        "  city = end_address['city']"
      ],
      "metadata": {
        "id": "L6t1312a_efn"
      },
      "execution_count": 212,
      "outputs": []
    },
    {
      "cell_type": "code",
      "source": [
        "if start_address['county'] !=  end_address['county']:\n",
        "  print('Not from the same province!')"
      ],
      "metadata": {
        "id": "PMcKZFoW_uUY"
      },
      "execution_count": 213,
      "outputs": []
    },
    {
      "cell_type": "code",
      "source": [
        "G = ox.graph_from_place(end_address['county'] + ' Italy', network_type='drive') #Only need to be ran once."
      ],
      "metadata": {
        "id": "tswqZXhp_gZT"
      },
      "execution_count": null,
      "outputs": []
    },
    {
      "cell_type": "code",
      "source": [
        "point_nearest_end = ox.distance.nearest_nodes(G, Y=location2[1][0], X=location2[1][1])"
      ],
      "metadata": {
        "id": "-BWousT-MISE"
      },
      "execution_count": 186,
      "outputs": []
    },
    {
      "cell_type": "code",
      "source": [
        "shortest_path_distance = ox.shortest_path(G, point_nearest_start, point_nearest_end, weight='length')\n",
        "travel_time = nx.shortest_path_length(G, point_nearest_start, point_nearest_end, weight='travel_time')\n",
        "minutes = travel_time // 60 \n",
        "seconds = round(travel_time % 60*0.6)\n",
        "\n",
        "km_distance = round(nx.shortest_path_length(G, point_nearest_start, point_nearest_end, weight='length')/1000, 3)"
      ],
      "metadata": {
        "id": "5XmroN61Mau4"
      },
      "execution_count": 187,
      "outputs": []
    },
    {
      "cell_type": "code",
      "source": [
        "h_minute_time = round(km_distance*60//100)\n",
        "h_seconds_time = round((km_distance * 60) % 100*0.6)\n",
        "h_time= str(h_minute_time) + ' minutes, ' + str(h_seconds_time) + ' seconds '\n",
        "\n",
        "f_minute_time = round(km_distance*60//70)\n",
        "f_seconds_time = round((km_distance * 60) % 65*0.6)\n",
        "f_time= str(f_minute_time) + ' minutes, ' + str(f_seconds_time) + ' seconds '\n",
        "\n",
        "price = round(1.65/15 * km_distance,2)\n",
        "f_cost = price\n",
        "h_cost = price + round(0.09*km_distance,2)\n",
        "\n",
        "print('Distance: ', km_distance,'km')\n",
        "print('Car travel information:\\nHighway price = ', h_cost, '€', '; Highway time =', h_time)\n",
        "print('Freeway price = ', f_cost,'€ ; Freeway time = ', f_time)"
      ],
      "metadata": {
        "colab": {
          "base_uri": "https://localhost:8080/"
        },
        "id": "vSmlqR-hMs9f",
        "outputId": "36a70ef9-1274-4d24-e8c5-95ea597f0b37"
      },
      "execution_count": 188,
      "outputs": [
        {
          "output_type": "stream",
          "name": "stdout",
          "text": [
            "Distance:  18.0 km\n",
            "Car travel information:\n",
            "Highway price =  3.6 € ; Highway time = 10 minutes, 48 seconds \n",
            "Freeway price =  1.98 € ; Freeway time =  15 minutes, 24 seconds \n"
          ]
        }
      ]
    },
    {
      "cell_type": "markdown",
      "source": [
        "## Accomodation"
      ],
      "metadata": {
        "id": "5pfhbLR9NJGw"
      }
    },
    {
      "cell_type": "code",
      "source": [
        "days = int(input('How many days? '))\n",
        "counter = int(input('how many of you are staying? '))\n",
        "\n",
        "in_Month = datetime.now().month\n",
        "in_Year = datetime.now().year\n",
        "in_day = datetime.now().day\n",
        "\n",
        "EndDate = datetime.now() + timedelta(days=days)\n",
        "out_month =  EndDate.month\n",
        "out_Year = EndDate.year\n",
        "out_day = EndDate.day"
      ],
      "metadata": {
        "id": "iO_QNin6NM17",
        "colab": {
          "base_uri": "https://localhost:8080/"
        },
        "outputId": "487acd2e-ade1-47d2-e55a-1298ac05c171"
      },
      "execution_count": 191,
      "outputs": [
        {
          "name": "stdout",
          "output_type": "stream",
          "text": [
            "How many days? 2\n",
            "how many of you are staying? 2\n"
          ]
        }
      ]
    },
    {
      "cell_type": "code",
      "source": [
        "headers = {\"User-Agent\": \"Mozilla/5.0 (Windows NT 10.0; Win64; x64) AppleWebKit/537.36 (KHTML, like Gecko) Chrome/109.0.0.0 Safari/537.36\"}\n",
        "url = \"https://www.booking.com/searchresults.it.html?checkin_month={in_month}&checkin_monthday={in_day}&checkin_year={in_year}&checkout_month={out_month}&checkout_monthday={out_day}&checkout_year={out_year}&group_adults={people}&group_children=0&order=price&ss={city}%2C%20{country}\"\\\n",
        ".format(in_month=in_Month,\n",
        "       in_day=in_day,\n",
        "       in_year = in_Year,\n",
        "       out_month=out_month,\n",
        "       out_day=out_day,\n",
        "       out_year=out_Year,\n",
        "       people=counter,\n",
        "       city=city,\n",
        "       country='Italia')"
      ],
      "metadata": {
        "id": "0VMAm2etNOG0"
      },
      "execution_count": 192,
      "outputs": []
    },
    {
      "cell_type": "code",
      "source": [
        "response = requests.get(url, headers=headers)\n",
        "soup = BeautifulSoup(response.text, \"lxml\")\n"
      ],
      "metadata": {
        "id": "OT19DKY1NQkd"
      },
      "execution_count": 193,
      "outputs": []
    },
    {
      "cell_type": "code",
      "source": [
        "prices = soup.find_all(\"div\", class_ =\"e6e585da68\")\n",
        "prices_list = [price.get_text().split(\"\\n\") for price in prices]\n",
        "\n",
        "prcs = []\n",
        "final_prices = dict()\n",
        "t = 1\n",
        "while t < len(prices_list):\n",
        "  if any(map(str.isdigit, prices_list[t][0])) == True:\n",
        "    prcs.append(prices_list[t][0][-4:])\n",
        "  t+=1\n",
        "for i in range(len(prcs)):\n",
        "    final_prices[i] = prcs[i].replace('$','')\n",
        "    final_prices[i] = prcs[i].replace(' ','')\n",
        "    final_prices[i] = final_prices[i].replace('S','')\n",
        "    final_prices[i] = final_prices[i].replace('.','')\n",
        "final_prices = pd.DataFrame(final_prices, index=[\"Price\"]).T\n",
        "final_prices['Price'] = final_prices['Price'].str.replace('$','')\n",
        "\n",
        "IDs = [i for i in range(len(final_prices['Price']))]\n",
        "final_prices[\"ID\"] = IDs\n",
        "\n",
        "names = soup.find_all(\"div\", class_ =\"fcab3ed991 a23c043802\")\n",
        "name_list = [name.get_text().split(\"\\n\") for name in names]\n",
        "Hotels = []\n",
        "for i in name_list:\n",
        "  Hotels.append(i[0])\n",
        "\n",
        "final_prices['Hotels'] = Hotels\n",
        "h_list = [i + ', '+ city for i in final_prices.Hotels]\n",
        "Hotel_data = gpd.tools.geocode(h_list, provider=\"arcgis\")\n",
        "Hotel_data['ID'] = final_prices['ID']\n",
        "Hotel_data = Hotel_data.merge(final_prices, on ='ID')\n",
        "Hotel_data['lon'] = Hotel_data.geometry.x\n",
        "Hotel_data['lat'] = Hotel_data.geometry.y\n",
        "Hotel_data = Hotel_data.drop(['ID','geometry','address'], axis=1)\n",
        "Hotel_data['Price'] = Hotel_data['Price'].str.replace(\"\\xa0\", \"\")\n",
        "Hotel_data['Price'] = pd.to_numeric(Hotel_data['Price'])\n",
        "Hotel_data.to_csv('hotels.csv', index =False)"
      ],
      "metadata": {
        "id": "g95nuqQgNTJh",
        "colab": {
          "base_uri": "https://localhost:8080/"
        },
        "outputId": "fcde51f0-f722-4275-b1e6-d61328f583b3"
      },
      "execution_count": 194,
      "outputs": [
        {
          "output_type": "stream",
          "name": "stderr",
          "text": [
            "<ipython-input-194-d317496b5c7e>:17: FutureWarning: The default value of regex will change from True to False in a future version. In addition, single character regular expressions will *not* be treated as literal strings when regex=True.\n",
            "  final_prices['Price'] = final_prices['Price'].str.replace('$','')\n"
          ]
        }
      ]
    },
    {
      "cell_type": "code",
      "source": [
        "print('Mean accomodation cost:', Hotel_data['Price'].mean(), '€')"
      ],
      "metadata": {
        "id": "7NTENRckNUgW",
        "colab": {
          "base_uri": "https://localhost:8080/"
        },
        "outputId": "efb8bc63-0622-4e81-f5b9-a67474ea7fcb"
      },
      "execution_count": 196,
      "outputs": [
        {
          "output_type": "stream",
          "name": "stdout",
          "text": [
            "Mean accomodation cost: 194.92 €\n"
          ]
        }
      ]
    },
    {
      "cell_type": "code",
      "source": [
        "highway_cost = round(Hotel_data['Price'].mean() + h_cost, 3)\n",
        "freeway_cost = round(Hotel_data['Price'].mean() + f_cost, 3)\n",
        "\n",
        "print('Estimated cost if using freeway: ', highway_cost, '€',  'for ', days,'days and', counter, 'people')\n",
        "print('Estimated cost if using highway: ', freeway_cost, '€',  'for ', days,'days and', counter, 'people')"
      ],
      "metadata": {
        "id": "cEWTRIqXN_XG",
        "colab": {
          "base_uri": "https://localhost:8080/"
        },
        "outputId": "4981f99c-01be-4d2a-8ffb-f71e51d9e352"
      },
      "execution_count": 197,
      "outputs": [
        {
          "output_type": "stream",
          "name": "stdout",
          "text": [
            "Estimated cost if using freeway:  198.52 € for  2 days and 2 people\n",
            "Estimated cost if using highway:  196.9 € for  2 days and 2 people\n"
          ]
        }
      ]
    },
    {
      "cell_type": "code",
      "source": [
        "overpass_url = \"http://overpass-api.de/api/interpreter\"\n",
        "overpass_query = \"\"\"\n",
        "[out:json];\n",
        "area[name={}][admin_level=8];\n",
        "  (\n",
        "node[\"tourism\"=\"hotel\"](area); \n",
        "  way[\"tourism\"=\"hotel\"](area); \n",
        "  rel[\"tourism\"=\"hotel\"](area);\n",
        "node[\"tourism\"=\"hostel\"](area);\n",
        "  way[\"tourism\"=\"hostel\"](area);\n",
        "  relation[\"tourism\"=\"hostel\"](area);\n",
        "node[\"tourism\"=\"guest house\"](area);\n",
        "  way[\"tourism\"=\"guest house\"](area);\n",
        "  relation[\"tourism\"=\"guest house\"](area);\n",
        "    );\n",
        "out center;\n",
        "\n",
        "\"\"\".format(city)\n",
        "response = requests.get(overpass_url, \n",
        "                        params={'data': overpass_query})\n",
        "data = response.json()"
      ],
      "metadata": {
        "id": "6loYdH90N5L8"
      },
      "execution_count": 202,
      "outputs": []
    },
    {
      "cell_type": "code",
      "source": [
        "data"
      ],
      "metadata": {
        "colab": {
          "base_uri": "https://localhost:8080/"
        },
        "id": "XoY5sCURMrnC",
        "outputId": "f8d9d320-1850-4604-a93d-7020920ea259"
      },
      "execution_count": 203,
      "outputs": [
        {
          "output_type": "execute_result",
          "data": {
            "text/plain": [
              "{'version': 0.6,\n",
              " 'generator': 'Overpass API 0.7.59 e21c39fe',\n",
              " 'osm3s': {'timestamp_osm_base': '2023-02-04T20:50:54Z',\n",
              "  'timestamp_areas_base': '2023-02-04T18:57:54Z',\n",
              "  'copyright': 'The data included in this document is from www.openstreetmap.org. The data is made available under ODbL.'},\n",
              " 'elements': [{'type': 'node',\n",
              "   'id': 3777812389,\n",
              "   'lat': 44.5185144,\n",
              "   'lon': 10.7687415,\n",
              "   'tags': {'addr:city': 'Sassuolo',\n",
              "    'addr:housenumber': '137',\n",
              "    'addr:postcode': '41049',\n",
              "    'addr:street': 'Via Salvarola',\n",
              "    'name': 'Hotel Terme Salvarola',\n",
              "    'tourism': 'hotel'}}]}"
            ]
          },
          "metadata": {},
          "execution_count": 203
        }
      ]
    },
    {
      "cell_type": "code",
      "source": [
        "coords = []\n",
        "for element in data['elements']:\n",
        "  if Hotel_data['Hotels'].str.contains(element['tags']['name']).any():\n",
        "      if element['type'] == 'node':\n",
        "        lon = element['lon']\n",
        "        lat = element['lat']\n",
        "        name = element['tags']['name']\n",
        "      if 'stars' in element['tags']:\n",
        "        star = int(element['tags']['stars'])\n",
        "      else:\n",
        "        star = 0\n",
        "      coords.append((lon, lat, name, star))\n",
        "      if 'stars' in element['tags']:\n",
        "        star = int(element['tags']['stars'])\n",
        "      else:\n",
        "        star = 0\n",
        "      coords.append((lon, lat, name, star))\n",
        "X = pd.DataFrame(coords, columns=['lon','lat','name', 'stars'])\n",
        "bbox = (X.lon.min(), X.lon.max(), X.lat.max())"
      ],
      "metadata": {
        "id": "n1ATuZt1N5Rk"
      },
      "execution_count": 198,
      "outputs": []
    },
    {
      "cell_type": "code",
      "source": [
        "#I don't need the whole map anymore, just the destination city.\n",
        "if 'town' in end_address:\n",
        "  area = end_address['town'] + ', '+end_address['county'] + ', Italy'\n",
        "  city = end_address['town']\n",
        "elif 'city' in end_address:\n",
        "  area = end_address['city'] + ', '+end_address['county'] + ', Italy'\n",
        "  city = end_address['city']\n",
        "G = ox.graph_from_place(area, network_type='all') #Only need to be ran once.\n"
      ],
      "metadata": {
        "id": "CRO1lEfeFn_0"
      },
      "execution_count": 199,
      "outputs": []
    },
    {
      "cell_type": "code",
      "source": [
        "X"
      ],
      "metadata": {
        "colab": {
          "base_uri": "https://localhost:8080/",
          "height": 49
        },
        "id": "K_257eu9Mo54",
        "outputId": "9cf3071c-ae75-4ec8-e7a8-4b06e78bc069"
      },
      "execution_count": 201,
      "outputs": [
        {
          "output_type": "execute_result",
          "data": {
            "text/plain": [
              "Empty DataFrame\n",
              "Columns: [lon, lat, name, stars]\n",
              "Index: []"
            ],
            "text/html": [
              "\n",
              "  <div id=\"df-76140f32-0856-4cad-b774-8d4af018126d\">\n",
              "    <div class=\"colab-df-container\">\n",
              "      <div>\n",
              "<style scoped>\n",
              "    .dataframe tbody tr th:only-of-type {\n",
              "        vertical-align: middle;\n",
              "    }\n",
              "\n",
              "    .dataframe tbody tr th {\n",
              "        vertical-align: top;\n",
              "    }\n",
              "\n",
              "    .dataframe thead th {\n",
              "        text-align: right;\n",
              "    }\n",
              "</style>\n",
              "<table border=\"1\" class=\"dataframe\">\n",
              "  <thead>\n",
              "    <tr style=\"text-align: right;\">\n",
              "      <th></th>\n",
              "      <th>lon</th>\n",
              "      <th>lat</th>\n",
              "      <th>name</th>\n",
              "      <th>stars</th>\n",
              "    </tr>\n",
              "  </thead>\n",
              "  <tbody>\n",
              "  </tbody>\n",
              "</table>\n",
              "</div>\n",
              "      <button class=\"colab-df-convert\" onclick=\"convertToInteractive('df-76140f32-0856-4cad-b774-8d4af018126d')\"\n",
              "              title=\"Convert this dataframe to an interactive table.\"\n",
              "              style=\"display:none;\">\n",
              "        \n",
              "  <svg xmlns=\"http://www.w3.org/2000/svg\" height=\"24px\"viewBox=\"0 0 24 24\"\n",
              "       width=\"24px\">\n",
              "    <path d=\"M0 0h24v24H0V0z\" fill=\"none\"/>\n",
              "    <path d=\"M18.56 5.44l.94 2.06.94-2.06 2.06-.94-2.06-.94-.94-2.06-.94 2.06-2.06.94zm-11 1L8.5 8.5l.94-2.06 2.06-.94-2.06-.94L8.5 2.5l-.94 2.06-2.06.94zm10 10l.94 2.06.94-2.06 2.06-.94-2.06-.94-.94-2.06-.94 2.06-2.06.94z\"/><path d=\"M17.41 7.96l-1.37-1.37c-.4-.4-.92-.59-1.43-.59-.52 0-1.04.2-1.43.59L10.3 9.45l-7.72 7.72c-.78.78-.78 2.05 0 2.83L4 21.41c.39.39.9.59 1.41.59.51 0 1.02-.2 1.41-.59l7.78-7.78 2.81-2.81c.8-.78.8-2.07 0-2.86zM5.41 20L4 18.59l7.72-7.72 1.47 1.35L5.41 20z\"/>\n",
              "  </svg>\n",
              "      </button>\n",
              "      \n",
              "  <style>\n",
              "    .colab-df-container {\n",
              "      display:flex;\n",
              "      flex-wrap:wrap;\n",
              "      gap: 12px;\n",
              "    }\n",
              "\n",
              "    .colab-df-convert {\n",
              "      background-color: #E8F0FE;\n",
              "      border: none;\n",
              "      border-radius: 50%;\n",
              "      cursor: pointer;\n",
              "      display: none;\n",
              "      fill: #1967D2;\n",
              "      height: 32px;\n",
              "      padding: 0 0 0 0;\n",
              "      width: 32px;\n",
              "    }\n",
              "\n",
              "    .colab-df-convert:hover {\n",
              "      background-color: #E2EBFA;\n",
              "      box-shadow: 0px 1px 2px rgba(60, 64, 67, 0.3), 0px 1px 3px 1px rgba(60, 64, 67, 0.15);\n",
              "      fill: #174EA6;\n",
              "    }\n",
              "\n",
              "    [theme=dark] .colab-df-convert {\n",
              "      background-color: #3B4455;\n",
              "      fill: #D2E3FC;\n",
              "    }\n",
              "\n",
              "    [theme=dark] .colab-df-convert:hover {\n",
              "      background-color: #434B5C;\n",
              "      box-shadow: 0px 1px 3px 1px rgba(0, 0, 0, 0.15);\n",
              "      filter: drop-shadow(0px 1px 2px rgba(0, 0, 0, 0.3));\n",
              "      fill: #FFFFFF;\n",
              "    }\n",
              "  </style>\n",
              "\n",
              "      <script>\n",
              "        const buttonEl =\n",
              "          document.querySelector('#df-76140f32-0856-4cad-b774-8d4af018126d button.colab-df-convert');\n",
              "        buttonEl.style.display =\n",
              "          google.colab.kernel.accessAllowed ? 'block' : 'none';\n",
              "\n",
              "        async function convertToInteractive(key) {\n",
              "          const element = document.querySelector('#df-76140f32-0856-4cad-b774-8d4af018126d');\n",
              "          const dataTable =\n",
              "            await google.colab.kernel.invokeFunction('convertToInteractive',\n",
              "                                                     [key], {});\n",
              "          if (!dataTable) return;\n",
              "\n",
              "          const docLinkHtml = 'Like what you see? Visit the ' +\n",
              "            '<a target=\"_blank\" href=https://colab.research.google.com/notebooks/data_table.ipynb>data table notebook</a>'\n",
              "            + ' to learn more about interactive tables.';\n",
              "          element.innerHTML = '';\n",
              "          dataTable['output_type'] = 'display_data';\n",
              "          await google.colab.output.renderOutput(dataTable, element);\n",
              "          const docLink = document.createElement('div');\n",
              "          docLink.innerHTML = docLinkHtml;\n",
              "          element.appendChild(docLink);\n",
              "        }\n",
              "      </script>\n",
              "    </div>\n",
              "  </div>\n",
              "  "
            ]
          },
          "metadata": {},
          "execution_count": 201
        }
      ]
    },
    {
      "cell_type": "code",
      "source": [
        "fig, ax = ox.plot_graph(G, show=False, close=False)\n",
        "plt.scatter(X.lon, X.lat, c=X.stars, cmap ='viridis')\n",
        "plt.suptitle('Accomodations in '+ city, fontsize=15)\n",
        "plt.colorbar(label ='Star rating', shrink=0.85)\n",
        "plt.show()"
      ],
      "metadata": {
        "id": "A-B1C45EOkZK",
        "colab": {
          "base_uri": "https://localhost:8080/",
          "height": 523
        },
        "outputId": "c5a177a2-1fa7-4faf-b144-5c0ca0d08b58"
      },
      "execution_count": 200,
      "outputs": [
        {
          "output_type": "display_data",
          "data": {
            "text/plain": [
              "<Figure size 576x576 with 2 Axes>"
            ],
            "image/png": "[encoded data removed]"
          },
          "metadata": {}
        }
      ]
    }
  ]
}