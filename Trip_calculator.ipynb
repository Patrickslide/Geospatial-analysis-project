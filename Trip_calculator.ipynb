{
  "nbformat": 4,
  "nbformat_minor": 0,
  "metadata": {
    "colab": {
      "provenance": [],
      "authorship_tag": "ABX9TyOJEiLAr8PRFWBBO2ftG1Vx"
    },
    "kernelspec": {
      "name": "python3",
      "display_name": "Python 3"
    },
    "language_info": {
      "name": "python"
    }
  },
  "cells": [
    {
      "cell_type": "markdown",
      "source": [
        "## Setup"
      ],
      "metadata": {
        "id": "r9f3TF-LLjOo"
      }
    },
    {
      "cell_type": "code",
      "execution_count": null,
      "metadata": {
        "id": "62Z09_UcBMhR"
      },
      "outputs": [],
      "source": [
        "!pip install geopandas== 0.12\n",
        "import geopandas as gpd\n",
        "!pip install matplotlib==3.6\n",
        "import matplotlib as plt\n",
        "!pip install networkx==2.8\n",
        "!pip install numpy==1.23\n",
        "import numpy as np\n",
        "!pip install pandas==1.5\n",
        "import pandas as pd \n",
        "!pip install pyproj==3.4\n",
        "!pip install Shapely==1.7\n",
        "\n",
        "!pip install osmnx\n",
        "import osmnx as ox"
      ]
    },
    {
      "cell_type": "code",
      "source": [
        "import warnings\n",
        "try:\n",
        "    import geopy\n",
        "except ModuleNotFoundError as e:\n",
        "    %pip install geopy==2.2.0\n",
        "    import geopy\n",
        "if geopy.__version__ != \"2.2.0\":\n",
        "    !pip install -U geopy==2.2.0\n",
        "    import geopy"
      ],
      "metadata": {
        "id": "Q3c1sjrGLCw0"
      },
      "execution_count": null,
      "outputs": []
    },
    {
      "cell_type": "code",
      "source": [
        "try:\n",
        "  import pyrosm\n",
        "except ModuleNotFoundError as e:\n",
        "  %pip install pyrosm\n",
        "  import pyrosm"
      ],
      "metadata": {
        "id": "T1LnehFiLSgw"
      },
      "execution_count": null,
      "outputs": []
    },
    {
      "cell_type": "code",
      "source": [
        "import requests\n",
        "import fiona\n",
        "import urllib\n",
        "import os\n",
        "import zipfile, io\n",
        "import urllib3\n",
        "import ssl\n",
        "import shutil\n",
        "from matplotlib import pyplot as plt\n",
        "import networkx as nx\n",
        "from geopy.geocoders import Nominatim\n",
        "import networkx as nx\n",
        "from datetime import datetime\n",
        "from bs4 import BeautifulSoup\n",
        "from datetime import datetime, timedelta, date\n",
        "from geopandas import GeoDataFrame\n",
        "from shapely.geometry import Point\n",
        "import tilemapbase\n",
        "from pyrosm import OSM\n",
        "from pyrosm import get_data\n",
        "from google.colab import files"
      ],
      "metadata": {
        "id": "CiBtCFq4LVbD"
      },
      "execution_count": null,
      "outputs": []
    },
    {
      "cell_type": "code",
      "source": [
        "\n",
        "class CustomHttpAdapter(requests.adapters.HTTPAdapter):\n",
        "  def __init__(self, ssl_context=None, **kwargs):\n",
        "    self.ssl_context = ssl_context\n",
        "    super().__init__(**kwargs)\n",
        "\n",
        "  def init_poolmanager(self, connections, maxsize, block=False):\n",
        "    self.poolmanager = urllib3.poolmanager.PoolManager(num_pools=connections, maxsize=maxsize, block=block, ssl_context=self.ssl_context)\n",
        "\n",
        "def get_legacy_session():\n",
        "  ctx = ssl.create_default_context(ssl.Purpose.SERVER_AUTH)\n",
        "  ctx.options |= 0x4  \n",
        "  session = requests.session()\n",
        "  session.mount('https://', CustomHttpAdapter(ctx))\n",
        "  return session\n",
        "\n",
        "def download_file(url):\n",
        "# source: https://stackoverflow.com/a/33488338\n",
        "  local_filename = url.split('/')[-1]\n",
        "  with get_legacy_session() as s:\n",
        "    r = s.get(url, stream=True)\n",
        "    r.raw.decode_content = True\n",
        "    with open(local_filename, 'wb') as f:\n",
        "      shutil.copyfileobj(r.raw, f)\n",
        "  return local_filename"
      ],
      "metadata": {
        "id": "OrXg-_6GLc-z"
      },
      "execution_count": null,
      "outputs": []
    },
    {
      "cell_type": "code",
      "source": [
        "if not os.path.exists('Limiti01012022'):\n",
        "    zip_file_url = 'https://www.istat.it/storage/cartografia/confini_amministrativi/non_generalizzati/Limiti01012022.zip'\n",
        "    zip_file_name = \"Limiti01012022.zip\"\n",
        "    \n",
        "    try: \n",
        "      urllib.request.urlretrieve(zip_file_url ,zip_file_name) \n",
        "    \n",
        "    except:\n",
        "      zip_file_name = download_file(zip_file_url)\n",
        "\n",
        "    z = zipfile.ZipFile(zip_file_name)\n",
        "    # unzip the file\n",
        "    z.extractall()"
      ],
      "metadata": {
        "id": "NtxEME7lLeFZ"
      },
      "execution_count": null,
      "outputs": []
    },
    {
      "cell_type": "code",
      "source": [
        "os.listdir('Limiti01012022')\n",
        "os.chdir('Limiti01012022')\n",
        "os.chdir('Com01012022')\n",
        "\n",
        "for root, dirs, files in os.walk(\".\"):  \n",
        "    for filename in files:\n",
        "        print(filename)\n",
        "\n",
        "cities=gpd.read_file('Com01012022_WGS84.shp')"
      ],
      "metadata": {
        "id": "URLdszADLfE2"
      },
      "execution_count": null,
      "outputs": []
    },
    {
      "cell_type": "markdown",
      "source": [
        "## Start"
      ],
      "metadata": {
        "id": "xNLyQdY1LlvT"
      }
    },
    {
      "cell_type": "code",
      "source": [
        "start = input(\"Starting address: \")\n",
        "point_1 = gpd.tools.geocode(start, provider=\"arcgis\")  \n"
      ],
      "metadata": {
        "id": "b4wg0JG9LiJ4"
      },
      "execution_count": null,
      "outputs": []
    },
    {
      "cell_type": "code",
      "source": [
        "geolocator = Nominatim(user_agent=\"geoapiExercises\")\n",
        "location = geolocator.reverse(str(float(point_1.geometry.y))+\",\"+ str(float(point_1.geometry.x)))\n",
        "\n",
        "start_address = location.raw['address']\n",
        "#We get the province.\n",
        "\n",
        "if start_address['country'] != 'Italia':\n",
        "  print('Restart! Not an italian city')\n",
        "print('Provincia:', start_address['county'])"
      ],
      "metadata": {
        "id": "qONLM4ZZLoZ8"
      },
      "execution_count": null,
      "outputs": []
    },
    {
      "cell_type": "code",
      "source": [
        "area = start_address['county']\n",
        "point_nearest_start = ox.distance.nearest_nodes(G,Y=location[1][0], X=location[1][1])"
      ],
      "metadata": {
        "id": "hFH106aGLp0f"
      },
      "execution_count": null,
      "outputs": []
    },
    {
      "cell_type": "markdown",
      "source": [
        "## End"
      ],
      "metadata": {
        "id": "HXjFpacGMD0r"
      }
    },
    {
      "cell_type": "code",
      "source": [
        "end = input(\"Destination: \")\n",
        "point_2 = gpd.tools.geocode(end, provider=\"arcgis\")end = input(\"Destination: \")\n",
        "point_2 = gpd.tools.geocode(end, provider=\"arcgis\")"
      ],
      "metadata": {
        "id": "WcATzxYtME2J"
      },
      "execution_count": null,
      "outputs": []
    },
    {
      "cell_type": "code",
      "source": [
        "geolocator = Nominatim(user_agent=\"geoapiExercises\")\n",
        "location2 = geolocator.reverse(str(float(point_2.geometry.y))+\",\"+ str(float(point_2.geometry.x)))\n",
        "\n",
        "end_address = location2.raw['address']\n",
        "print('Arriving city: ', end_address['town'])"
      ],
      "metadata": {
        "id": "gLVESYsVMGN7"
      },
      "execution_count": null,
      "outputs": []
    },
    {
      "cell_type": "code",
      "source": [
        "point_nearest_end = ox.distance.nearest_nodes(G,Y=location2[1][0], X=location2[1][1])"
      ],
      "metadata": {
        "id": "-BWousT-MISE"
      },
      "execution_count": null,
      "outputs": []
    },
    {
      "cell_type": "code",
      "source": [
        "shortest_path_distance = ox.shortest_path(G, point_nearest_start, point_nearest_end, weight='length')\n",
        "travel_time = nx.shortest_path_length(G, point_nearest_start, point_nearest_end, weight='travel_time')\n",
        "minutes = travel_time // 60 \n",
        "seconds = round(travel_time % 60*0.6)\n",
        "\n",
        "km_distance = round(nx.shortest_path_length(G, point_nearest_start, point_nearest_end, weight='length')/1000, 3)"
      ],
      "metadata": {
        "id": "5XmroN61Mau4"
      },
      "execution_count": null,
      "outputs": []
    },
    {
      "cell_type": "code",
      "source": [
        "print('Expected Travel time: ', minutes, 'minutes and ', seconds, 'seconds')\n",
        "print('Distance: ', km_distance,'km')"
      ],
      "metadata": {
        "id": "6hEiZoncMa0a"
      },
      "execution_count": null,
      "outputs": []
    },
    {
      "cell_type": "code",
      "source": [
        "h_minute_time = round(km_distance*60//100)\n",
        "h_seconds_time = round((km_distance * 60) % 100*0.6)\n",
        "h_time= str(h_minute_time) + ' minutes, ' + str(h_seconds_time) + ' seconds '\n",
        "\n",
        "f_minute_time = round(km_distance*60//70)\n",
        "f_seconds_time = round((km_distance * 60) % 65*0.6)\n",
        "f_time= str(f_minute_time) + ' minutes, ' + str(f_seconds_time) + ' seconds '\n",
        "\n",
        "price = round(1.65/15 * km_distance,2)\n",
        "f_cost = price\n",
        "h_cost = price + round(0.09*km_distance,2)\n",
        "\n",
        "print('Car travel information:\\nHighway price = ', h_cost, '€', '; Highway time =', h_time)\n",
        "print('Freeway price = ', f_cost,'€ ; Freeway time = ', f_time)"
      ],
      "metadata": {
        "colab": {
          "base_uri": "https://localhost:8080/",
          "height": 235
        },
        "id": "vSmlqR-hMs9f",
        "outputId": "69f9bc93-7639-4e0e-decb-d201ee67fe3d"
      },
      "execution_count": null,
      "outputs": [
        {
          "output_type": "error",
          "ename": "NameError",
          "evalue": "ignored",
          "traceback": [
            "\u001b[0;31m---------------------------------------------------------------------------\u001b[0m",
            "\u001b[0;31mNameError\u001b[0m                                 Traceback (most recent call last)",
            "\u001b[0;32m<ipython-input-1-8bd7686c9a06>\u001b[0m in \u001b[0;36m<module>\u001b[0;34m\u001b[0m\n\u001b[0;32m----> 1\u001b[0;31m \u001b[0mh_minute_time\u001b[0m \u001b[0;34m=\u001b[0m \u001b[0mround\u001b[0m\u001b[0;34m(\u001b[0m\u001b[0mkm_distance\u001b[0m\u001b[0;34m*\u001b[0m\u001b[0;36m60\u001b[0m\u001b[0;34m//\u001b[0m\u001b[0;36m100\u001b[0m\u001b[0;34m)\u001b[0m\u001b[0;34m\u001b[0m\u001b[0;34m\u001b[0m\u001b[0m\n\u001b[0m\u001b[1;32m      2\u001b[0m \u001b[0mh_seconds_time\u001b[0m \u001b[0;34m=\u001b[0m \u001b[0mround\u001b[0m\u001b[0;34m(\u001b[0m\u001b[0;34m(\u001b[0m\u001b[0mkm_distance\u001b[0m \u001b[0;34m*\u001b[0m \u001b[0;36m60\u001b[0m\u001b[0;34m)\u001b[0m \u001b[0;34m%\u001b[0m \u001b[0;36m100\u001b[0m\u001b[0;34m*\u001b[0m\u001b[0;36m0.6\u001b[0m\u001b[0;34m)\u001b[0m\u001b[0;34m\u001b[0m\u001b[0;34m\u001b[0m\u001b[0m\n\u001b[1;32m      3\u001b[0m \u001b[0mh_time\u001b[0m\u001b[0;34m=\u001b[0m \u001b[0mstr\u001b[0m\u001b[0;34m(\u001b[0m\u001b[0mh_minute_time\u001b[0m\u001b[0;34m)\u001b[0m \u001b[0;34m+\u001b[0m \u001b[0;34m' minutes, '\u001b[0m \u001b[0;34m+\u001b[0m \u001b[0mstr\u001b[0m\u001b[0;34m(\u001b[0m\u001b[0mh_seconds_time\u001b[0m\u001b[0;34m)\u001b[0m \u001b[0;34m+\u001b[0m \u001b[0;34m' seconds '\u001b[0m\u001b[0;34m\u001b[0m\u001b[0;34m\u001b[0m\u001b[0m\n\u001b[1;32m      4\u001b[0m \u001b[0;34m\u001b[0m\u001b[0m\n\u001b[1;32m      5\u001b[0m \u001b[0mf_minute_time\u001b[0m \u001b[0;34m=\u001b[0m \u001b[0mround\u001b[0m\u001b[0;34m(\u001b[0m\u001b[0mkm_distance\u001b[0m\u001b[0;34m*\u001b[0m\u001b[0;36m60\u001b[0m\u001b[0;34m//\u001b[0m\u001b[0;36m70\u001b[0m\u001b[0;34m)\u001b[0m\u001b[0;34m\u001b[0m\u001b[0;34m\u001b[0m\u001b[0m\n",
            "\u001b[0;31mNameError\u001b[0m: name 'km_distance' is not defined"
          ]
        }
      ]
    },
    {
      "cell_type": "code",
      "source": [],
      "metadata": {
        "id": "0e-OIi_0NK86"
      },
      "execution_count": null,
      "outputs": []
    },
    {
      "cell_type": "markdown",
      "source": [
        "## Accomodation"
      ],
      "metadata": {
        "id": "5pfhbLR9NJGw"
      }
    },
    {
      "cell_type": "code",
      "source": [
        "if 'town' in end_address:\n",
        "  area = end_address['town'] + ', '+end_address['county'] + ', Italy'\n",
        "  city = end_address['town']\n",
        "elif 'city' in end_address:\n",
        "  area = end_address['city'] + ', '+end_address['county'] + ', Italy'\n",
        "  city = end_address['city']"
      ],
      "metadata": {
        "id": "RccK34swNaRC"
      },
      "execution_count": null,
      "outputs": []
    },
    {
      "cell_type": "code",
      "source": [
        "G = ox.graph_from_place(area, network_type='all') #Only need to be ran once."
      ],
      "metadata": {
        "id": "Bs771HhyNbKU"
      },
      "execution_count": null,
      "outputs": []
    },
    {
      "cell_type": "code",
      "source": [
        "days = int(input('How many days from today?'))\n",
        "counter = int(input('how many of you are staying?'))\n",
        "\n",
        "in_Month = datetime.now().month\n",
        "in_Year = datetime.now().year\n",
        "in_day = datetime.now().day\n",
        "\n",
        "EndDate = datetime.now() + timedelta(days=days)\n",
        "out_month =  EndDate.month\n",
        "out_Year = EndDate.year\n",
        "out_day = EndDate.day"
      ],
      "metadata": {
        "id": "iO_QNin6NM17"
      },
      "execution_count": null,
      "outputs": []
    },
    {
      "cell_type": "code",
      "source": [
        "headers = {\"User-Agent\": \"Mozilla/5.0 (Windows NT 10.0; Win64; x64) AppleWebKit/537.36 (KHTML, like Gecko) Chrome/109.0.0.0 Safari/537.36\"}\n",
        "url = \"https://www.booking.com/searchresults.it.html?checkin_month={in_month}&checkin_monthday={in_day}&checkin_year={in_year}&checkout_month={out_month}&checkout_monthday={out_day}&checkout_year={out_year}&group_adults={people}&group_children=0&order=price&ss={city}%2C%20{country}\"\\\n",
        ".format(in_month=in_Month,\n",
        "       in_day=in_day,\n",
        "       in_year = in_Year,\n",
        "       out_month=out_month,\n",
        "       out_day=out_day,\n",
        "       out_year=out_Year,\n",
        "       people=counter,\n",
        "       city=city,\n",
        "       country='Italia')"
      ],
      "metadata": {
        "id": "0VMAm2etNOG0"
      },
      "execution_count": null,
      "outputs": []
    },
    {
      "cell_type": "code",
      "source": [
        "response = requests.get(url, headers=headers)\n",
        "soup = BeautifulSoup(response.text, \"lxml\")\n"
      ],
      "metadata": {
        "id": "OT19DKY1NQkd"
      },
      "execution_count": null,
      "outputs": []
    },
    {
      "cell_type": "code",
      "source": [
        "prices = soup.find_all(\"div\", class_ =\"e6e585da68\")\n",
        "prices_list = [price.get_text().split(\"\\n\") for price in prices]\n",
        "\n",
        "prcs = []\n",
        "final_prices = dict()\n",
        "t = 1\n",
        "while t < len(prices_list):\n",
        "  if any(map(str.isdigit, prices_list[t][0])) == True:\n",
        "    prcs.append(prices_list[t][0][-4:])\n",
        "  t+=1\n",
        "for i in range(len(prcs)):\n",
        "    final_prices[i] = prcs[i].replace('$','')\n",
        "    final_prices[i] = prcs[i].replace(' ','')\n",
        "    final_prices[i] = final_prices[i].replace('S','')\n",
        "    final_prices[i] = final_prices[i].replace('.','')\n",
        "final_prices = pd.DataFrame(final_prices, index=[\"Price\"]).T\n",
        "\n",
        "IDs = [i for i in range(len(final_prices['Price']))]\n",
        "final_prices[\"ID\"] = IDs\n",
        "\n",
        "names = soup.find_all(\"div\", class_ =\"fcab3ed991 a23c043802\")\n",
        "name_list = [name.get_text().split(\"\\n\") for name in names]\n",
        "Hotels = []\n",
        "for i in name_list:\n",
        "  Hotels.append(i[0])\n",
        "\n",
        "final_prices['Hotels'] = Hotels\n",
        "h_list = [i + ', '+ city for i in final_prices.Hotels]\n",
        "Hotel_data = gpd.tools.geocode(h_list, provider=\"arcgis\")\n",
        "Hotel_data['ID'] = final_prices['ID']\n",
        "Hotel_data = Hotel_data.merge(final_prices, on ='ID')\n",
        "Hotel_data['lon'] = Hotel_data.geometry.x\n",
        "Hotel_data['lat'] = Hotel_data.geometry.y\n",
        "Hotel_data = Hotel_data.drop(['ID','geometry','address'], axis=1)\n",
        "Hotel_data['Price'] = Hotel_data['Price'].str.replace(\"\\xa0\", \"\")\n",
        "Hotel_data['Price'] = pd.to_numeric(Hotel_data['Price'])\n",
        "Hotel_data.to_csv('hotels.csv', index =False)"
      ],
      "metadata": {
        "id": "g95nuqQgNTJh"
      },
      "execution_count": null,
      "outputs": []
    },
    {
      "cell_type": "code",
      "source": [
        "print('Mean accomodation cost:', Hotel_data['Price'].mean(), '€')"
      ],
      "metadata": {
        "id": "7NTENRckNUgW"
      },
      "execution_count": null,
      "outputs": []
    },
    {
      "cell_type": "code",
      "source": [
        "highway_cost = Hotel_data['Price'].mean() + h_cost\n",
        "freeway_cost = Hotel_data['Price'].mean() + f_cost\n",
        "\n",
        "print('Estimated cost if using freeway: ', highway_cost, '€',  'for ', days,'days and', counter, 'people')\n",
        "print('Estimated cost if using highway: ', freeway_cost, '€',  'for ', days,'days and', counter, 'people')"
      ],
      "metadata": {
        "id": "cEWTRIqXN_XG"
      },
      "execution_count": null,
      "outputs": []
    },
    {
      "cell_type": "code",
      "source": [
        "overpass_url = \"http://overpass-api.de/api/interpreter\"\n",
        "overpass_query = \"\"\"\n",
        "[out:json];\n",
        "area[name={}][admin_level=8];\n",
        "  (\n",
        "node[\"tourism\"=\"hotel\"](area); \n",
        "  way[\"tourism\"=\"hotel\"](area); \n",
        "  rel[\"tourism\"=\"hotel\"](area);\n",
        "node[\"tourism\"=\"hostel\"](area);\n",
        "  way[\"tourism\"=\"hostel\"](area);\n",
        "  relation[\"tourism\"=\"hostel\"](area);\n",
        "node[\"tourism\"=\"guest house\"](area);\n",
        "  way[\"tourism\"=\"guest house\"](area);\n",
        "  relation[\"tourism\"=\"guest house\"](area);\n",
        "    );\n",
        "out center;\n",
        "\n",
        "\"\"\".format(area)\n",
        "response = requests.get(overpass_url, \n",
        "                        params={'data': overpass_query})\n",
        "data = response.json()"
      ],
      "metadata": {
        "id": "6loYdH90N5L8"
      },
      "execution_count": null,
      "outputs": []
    },
    {
      "cell_type": "code",
      "source": [
        "import matplotlib.pyplot as plt\n",
        "coords = []\n",
        "for element in data['elements']:\n",
        "  if Hotel_data['Hotels'].str.contains(element['tags']['name']).any():\n",
        "      if element['type'] == 'node':\n",
        "        lon = element['lon']\n",
        "        lat = element['lat']\n",
        "        name = element['tags']['name']\n",
        "      if 'stars' in element['tags']:\n",
        "        star = int(element['tags']['stars'])\n",
        "      else:\n",
        "        star = 0\n",
        "      coords.append((lon, lat, name, star))\n",
        "    elif 'center' in element:\n",
        "      lon = element['center']['lon']\n",
        "      lat = element['center']['lat']\n",
        "     col = element['tags']['tourism']\n",
        "      name = element['tags']['name']\n",
        "      if 'stars' in element['tags']:\n",
        "        star = int(element['tags']['stars'])\n",
        "      else:\n",
        "        star = 0\n",
        "      coords.append((lon, lat, name, star))\n",
        "# Convert coordinates into numpy array\n",
        "X = pd.DataFrame(coords, columns=['lon','lat','turism', 'name', 'stars'])\n",
        "bbox = (X.lon.min(), X.lon.max(), X.lat.max())"
      ],
      "metadata": {
        "id": "n1ATuZt1N5Rk"
      },
      "execution_count": null,
      "outputs": []
    },
    {
      "cell_type": "code",
      "source": [
        "fig, ax = ox.plot_graph(G, show=False, close=False)\n",
        "plt.scatter(X.lon, X.lat, c=X.stars, cmap ='viridis')\n",
        "plt.suptitle('Accomodations in '+ city, fontsize=15)\n",
        "plt.colorbar(label ='Star rating', shrink=0.85)\n",
        "plt.show()"
      ],
      "metadata": {
        "id": "A-B1C45EOkZK"
      },
      "execution_count": null,
      "outputs": []
    }
  ]
}