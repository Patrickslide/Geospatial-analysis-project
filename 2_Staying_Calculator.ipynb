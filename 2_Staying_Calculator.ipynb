{
  "nbformat": 4,
  "nbformat_minor": 0,
  "metadata": {
    "colab": {
      "provenance": [],
      "authorship_tag": "ABX9TyM+EvuyuTDbZImnKSQisMp+"
    },
    "kernelspec": {
      "name": "python3",
      "display_name": "Python 3"
    },
    "language_info": {
      "name": "python"
    }
  },
  "cells": [
    {
      "cell_type": "markdown",
      "source": [
        "## Setup"
      ],
      "metadata": {
        "id": "DUZIhV_NBz4x"
      }
    },
    {
      "cell_type": "code",
      "source": [
        "!pip install geopandas== 0.12\n",
        "!pip install matplotlib==3.6\n",
        "!pip install networkx==2.8\n",
        "!pip install numpy==1.23\n",
        "!pip install pandas==1.5\n",
        "!pip install pyproj==3.4\n",
        "!pip install Shapely==1.7\n",
        "!pip install osmnx\n",
        "!pip install tilemapbase"
      ],
      "metadata": {
        "colab": {
          "base_uri": "https://localhost:8080/"
        },
        "id": "QOe29KiPJyzI",
        "outputId": "6e9fba09-fab2-4408-d3c0-56d0e1d164a6"
      },
      "execution_count": null,
      "outputs": [
        {
          "output_type": "stream",
          "name": "stdout",
          "text": [
            "Looking in indexes: https://pypi.org/simple, https://us-python.pkg.dev/colab-wheels/public/simple/\n",
            "\u001b[31mERROR: Could not find a version that satisfies the requirement geopandas== (from versions: 0.1.0.dev-a7b594e, 0.1.0.dev-a91e8ab, 0.1.0.dev-abb4137, 0.1.0.dev-c770a5c, 0.1.0.dev-fea5c40, 0.1.0.dev-1edddad, 0.1.0.dev-2be7de8, 0.1.0.dev-2d642e0, 0.1.0.dev-3ebcae0, 0.1.0.dev-6c816f0, 0.1.0.dev-40ec104, 0.1.0.dev-53f669a, 0.1.0.dev-120d5ee, 0.1.0.dev-189a35c, 0.1.0.dev-7788a17, 0.1.0.dev-8144a45, 0.1.0.dev-120828c, 0.1.dev0, 0.1.0, 0.1.1, 0.2, 0.2.1, 0.3.0, 0.4.0, 0.4.1, 0.5.0, 0.5.1, 0.6.0rc1, 0.6.0, 0.6.1, 0.6.2, 0.6.3, 0.7.0, 0.8.0, 0.8.1, 0.8.2, 0.9.0, 0.10.0, 0.10.1, 0.10.2, 0.11.0, 0.11.1, 0.12.0, 0.12.1, 0.12.2)\u001b[0m\u001b[31m\n",
            "\u001b[0m\u001b[31mERROR: No matching distribution found for geopandas==\u001b[0m\u001b[31m\n",
            "\u001b[0mLooking in indexes: https://pypi.org/simple, https://us-python.pkg.dev/colab-wheels/public/simple/\n",
            "Collecting matplotlib==3.6\n",
            "  Downloading matplotlib-3.6.0-cp38-cp38-manylinux_2_12_x86_64.manylinux2010_x86_64.whl (9.4 MB)\n",
            "\u001b[2K     \u001b[90m━━━━━━━━━━━━━━━━━━━━━━━━━━━━━━━━━━━━━━━━\u001b[0m \u001b[32m9.4/9.4 MB\u001b[0m \u001b[31m26.8 MB/s\u001b[0m eta \u001b[36m0:00:00\u001b[0m\n",
            "\u001b[?25hRequirement already satisfied: numpy>=1.19 in /usr/local/lib/python3.8/dist-packages (from matplotlib==3.6) (1.21.6)\n",
            "Requirement already satisfied: pyparsing>=2.2.1 in /usr/local/lib/python3.8/dist-packages (from matplotlib==3.6) (3.0.9)\n",
            "Requirement already satisfied: kiwisolver>=1.0.1 in /usr/local/lib/python3.8/dist-packages (from matplotlib==3.6) (1.4.4)\n",
            "Requirement already satisfied: python-dateutil>=2.7 in /usr/local/lib/python3.8/dist-packages (from matplotlib==3.6) (2.8.2)\n",
            "Requirement already satisfied: packaging>=20.0 in /usr/local/lib/python3.8/dist-packages (from matplotlib==3.6) (21.3)\n",
            "Collecting contourpy>=1.0.1\n",
            "  Downloading contourpy-1.0.7-cp38-cp38-manylinux_2_17_x86_64.manylinux2014_x86_64.whl (300 kB)\n",
            "\u001b[2K     \u001b[90m━━━━━━━━━━━━━━━━━━━━━━━━━━━━━━━━━━━━━━━\u001b[0m \u001b[32m300.0/300.0 KB\u001b[0m \u001b[31m8.4 MB/s\u001b[0m eta \u001b[36m0:00:00\u001b[0m\n",
            "\u001b[?25hRequirement already satisfied: cycler>=0.10 in /usr/local/lib/python3.8/dist-packages (from matplotlib==3.6) (0.11.0)\n",
            "Collecting fonttools>=4.22.0\n",
            "  Downloading fonttools-4.38.0-py3-none-any.whl (965 kB)\n",
            "\u001b[2K     \u001b[90m━━━━━━━━━━━━━━━━━━━━━━━━━━━━━━━━━━━━━━\u001b[0m \u001b[32m965.4/965.4 KB\u001b[0m \u001b[31m29.3 MB/s\u001b[0m eta \u001b[36m0:00:00\u001b[0m\n",
            "\u001b[?25hRequirement already satisfied: pillow>=6.2.0 in /usr/local/lib/python3.8/dist-packages (from matplotlib==3.6) (7.1.2)\n",
            "Requirement already satisfied: six>=1.5 in /usr/local/lib/python3.8/dist-packages (from python-dateutil>=2.7->matplotlib==3.6) (1.15.0)\n",
            "Installing collected packages: fonttools, contourpy, matplotlib\n",
            "  Attempting uninstall: matplotlib\n",
            "    Found existing installation: matplotlib 3.2.2\n",
            "    Uninstalling matplotlib-3.2.2:\n",
            "      Successfully uninstalled matplotlib-3.2.2\n",
            "Successfully installed contourpy-1.0.7 fonttools-4.38.0 matplotlib-3.6.0\n"
          ]
        },
        {
          "output_type": "display_data",
          "data": {
            "application/vnd.colab-display-data+json": {
              "pip_warning": {
                "packages": [
                  "matplotlib",
                  "mpl_toolkits"
                ]
              }
            }
          },
          "metadata": {}
        },
        {
          "output_type": "stream",
          "name": "stdout",
          "text": [
            "Looking in indexes: https://pypi.org/simple, https://us-python.pkg.dev/colab-wheels/public/simple/\n",
            "Collecting networkx==2.8\n",
            "  Downloading networkx-2.8-py3-none-any.whl (2.0 MB)\n",
            "\u001b[2K     \u001b[90m━━━━━━━━━━━━━━━━━━━━━━━━━━━━━━━━━━━━━━━━\u001b[0m \u001b[32m2.0/2.0 MB\u001b[0m \u001b[31m24.0 MB/s\u001b[0m eta \u001b[36m0:00:00\u001b[0m\n",
            "\u001b[?25hInstalling collected packages: networkx\n",
            "  Attempting uninstall: networkx\n",
            "    Found existing installation: networkx 3.0\n",
            "    Uninstalling networkx-3.0:\n",
            "      Successfully uninstalled networkx-3.0\n",
            "Successfully installed networkx-2.8\n",
            "Looking in indexes: https://pypi.org/simple, https://us-python.pkg.dev/colab-wheels/public/simple/\n",
            "Collecting numpy==1.23\n",
            "  Downloading numpy-1.23.0-cp38-cp38-manylinux_2_17_x86_64.manylinux2014_x86_64.whl (17.1 MB)\n",
            "\u001b[2K     \u001b[90m━━━━━━━━━━━━━━━━━━━━━━━━━━━━━━━━━━━━━━━━\u001b[0m \u001b[32m17.1/17.1 MB\u001b[0m \u001b[31m68.4 MB/s\u001b[0m eta \u001b[36m0:00:00\u001b[0m\n",
            "\u001b[?25hInstalling collected packages: numpy\n",
            "  Attempting uninstall: numpy\n",
            "    Found existing installation: numpy 1.21.6\n",
            "    Uninstalling numpy-1.21.6:\n",
            "      Successfully uninstalled numpy-1.21.6\n",
            "\u001b[31mERROR: pip's dependency resolver does not currently take into account all the packages that are installed. This behaviour is the source of the following dependency conflicts.\n",
            "scipy 1.7.3 requires numpy<1.23.0,>=1.16.5, but you have numpy 1.23.0 which is incompatible.\u001b[0m\u001b[31m\n",
            "\u001b[0mSuccessfully installed numpy-1.23.0\n",
            "Looking in indexes: https://pypi.org/simple, https://us-python.pkg.dev/colab-wheels/public/simple/\n",
            "Collecting pandas==1.5\n",
            "  Downloading pandas-1.5.0-cp38-cp38-manylinux_2_17_x86_64.manylinux2014_x86_64.whl (12.2 MB)\n",
            "\u001b[2K     \u001b[90m━━━━━━━━━━━━━━━━━━━━━━━━━━━━━━━━━━━━━━━━\u001b[0m \u001b[32m12.2/12.2 MB\u001b[0m \u001b[31m74.2 MB/s\u001b[0m eta \u001b[36m0:00:00\u001b[0m\n",
            "\u001b[?25hRequirement already satisfied: pytz>=2020.1 in /usr/local/lib/python3.8/dist-packages (from pandas==1.5) (2022.7)\n",
            "Requirement already satisfied: numpy>=1.20.3 in /usr/local/lib/python3.8/dist-packages (from pandas==1.5) (1.23.0)\n",
            "Requirement already satisfied: python-dateutil>=2.8.1 in /usr/local/lib/python3.8/dist-packages (from pandas==1.5) (2.8.2)\n",
            "Requirement already satisfied: six>=1.5 in /usr/local/lib/python3.8/dist-packages (from python-dateutil>=2.8.1->pandas==1.5) (1.15.0)\n",
            "Installing collected packages: pandas\n",
            "  Attempting uninstall: pandas\n",
            "    Found existing installation: pandas 1.3.5\n",
            "    Uninstalling pandas-1.3.5:\n",
            "      Successfully uninstalled pandas-1.3.5\n",
            "Successfully installed pandas-1.5.0\n",
            "Looking in indexes: https://pypi.org/simple, https://us-python.pkg.dev/colab-wheels/public/simple/\n",
            "Collecting pyproj==3.4\n",
            "  Downloading pyproj-3.4.0-cp38-cp38-manylinux_2_17_x86_64.manylinux2014_x86_64.whl (7.8 MB)\n",
            "\u001b[2K     \u001b[90m━━━━━━━━━━━━━━━━━━━━━━━━━━━━━━━━━━━━━━━━\u001b[0m \u001b[32m7.8/7.8 MB\u001b[0m \u001b[31m20.8 MB/s\u001b[0m eta \u001b[36m0:00:00\u001b[0m\n",
            "\u001b[?25hRequirement already satisfied: certifi in /usr/local/lib/python3.8/dist-packages (from pyproj==3.4) (2022.12.7)\n",
            "Installing collected packages: pyproj\n",
            "Successfully installed pyproj-3.4.0\n",
            "Looking in indexes: https://pypi.org/simple, https://us-python.pkg.dev/colab-wheels/public/simple/\n",
            "Collecting Shapely==1.7\n",
            "  Downloading Shapely-1.7.0-cp38-cp38-manylinux1_x86_64.whl (1.8 MB)\n",
            "\u001b[2K     \u001b[90m━━━━━━━━━━━━━━━━━━━━━━━━━━━━━━━━━━━━━━━━\u001b[0m \u001b[32m1.8/1.8 MB\u001b[0m \u001b[31m22.5 MB/s\u001b[0m eta \u001b[36m0:00:00\u001b[0m\n",
            "\u001b[?25hInstalling collected packages: Shapely\n",
            "  Attempting uninstall: Shapely\n",
            "    Found existing installation: shapely 2.0.0\n",
            "    Uninstalling shapely-2.0.0:\n",
            "      Successfully uninstalled shapely-2.0.0\n",
            "Successfully installed Shapely-1.7.0\n",
            "Looking in indexes: https://pypi.org/simple, https://us-python.pkg.dev/colab-wheels/public/simple/\n",
            "Collecting osmnx\n",
            "  Downloading osmnx-1.2.2-py2.py3-none-any.whl (92 kB)\n",
            "\u001b[2K     \u001b[90m━━━━━━━━━━━━━━━━━━━━━━━━━━━━━━━━━━━━━━━━\u001b[0m \u001b[32m92.5/92.5 KB\u001b[0m \u001b[31m3.8 MB/s\u001b[0m eta \u001b[36m0:00:00\u001b[0m\n",
            "\u001b[?25hCollecting Shapely<2.0,>=1.8\n",
            "  Downloading Shapely-1.8.5.post1-cp38-cp38-manylinux_2_12_x86_64.manylinux2010_x86_64.whl (2.1 MB)\n",
            "\u001b[2K     \u001b[90m━━━━━━━━━━━━━━━━━━━━━━━━━━━━━━━━━━━━━━━━\u001b[0m \u001b[32m2.1/2.1 MB\u001b[0m \u001b[31m33.2 MB/s\u001b[0m eta \u001b[36m0:00:00\u001b[0m\n",
            "\u001b[?25hRequirement already satisfied: networkx>=2.8 in /usr/local/lib/python3.8/dist-packages (from osmnx) (2.8)\n",
            "Collecting geopandas>=0.11\n",
            "  Downloading geopandas-0.12.2-py3-none-any.whl (1.1 MB)\n",
            "\u001b[2K     \u001b[90m━━━━━━━━━━━━━━━━━━━━━━━━━━━━━━━━━━━━━━━━\u001b[0m \u001b[32m1.1/1.1 MB\u001b[0m \u001b[31m65.2 MB/s\u001b[0m eta \u001b[36m0:00:00\u001b[0m\n",
            "\u001b[?25hCollecting requests>=2.28\n",
            "  Downloading requests-2.28.2-py3-none-any.whl (62 kB)\n",
            "\u001b[2K     \u001b[90m━━━━━━━━━━━━━━━━━━━━━━━━━━━━━━━━━━━━━━━━\u001b[0m \u001b[32m62.8/62.8 KB\u001b[0m \u001b[31m7.5 MB/s\u001b[0m eta \u001b[36m0:00:00\u001b[0m\n",
            "\u001b[?25hCollecting Rtree>=1.0\n",
            "  Downloading Rtree-1.0.1-cp38-cp38-manylinux_2_17_x86_64.manylinux2014_x86_64.whl (1.0 MB)\n",
            "\u001b[2K     \u001b[90m━━━━━━━━━━━━━━━━━━━━━━━━━━━━━━━━━━━━━━━━\u001b[0m \u001b[32m1.0/1.0 MB\u001b[0m \u001b[31m48.0 MB/s\u001b[0m eta \u001b[36m0:00:00\u001b[0m\n",
            "\u001b[?25hRequirement already satisfied: pandas>=1.4 in /usr/local/lib/python3.8/dist-packages (from osmnx) (1.5.0)\n",
            "Requirement already satisfied: numpy>=1.22 in /usr/local/lib/python3.8/dist-packages (from osmnx) (1.23.0)\n",
            "Requirement already satisfied: matplotlib>=3.5 in /usr/local/lib/python3.8/dist-packages (from osmnx) (3.6.0)\n",
            "Requirement already satisfied: pyproj>=3.3 in /usr/local/lib/python3.8/dist-packages (from osmnx) (3.4.0)\n",
            "Collecting fiona>=1.8\n",
            "  Downloading Fiona-1.8.22-cp38-cp38-manylinux_2_17_x86_64.manylinux2014_x86_64.whl (16.6 MB)\n",
            "\u001b[2K     \u001b[90m━━━━━━━━━━━━━━━━━━━━━━━━━━━━━━━━━━━━━━━━\u001b[0m \u001b[32m16.6/16.6 MB\u001b[0m \u001b[31m75.6 MB/s\u001b[0m eta \u001b[36m0:00:00\u001b[0m\n",
            "\u001b[?25hRequirement already satisfied: packaging in /usr/local/lib/python3.8/dist-packages (from geopandas>=0.11->osmnx) (21.3)\n",
            "Requirement already satisfied: contourpy>=1.0.1 in /usr/local/lib/python3.8/dist-packages (from matplotlib>=3.5->osmnx) (1.0.7)\n",
            "Requirement already satisfied: kiwisolver>=1.0.1 in /usr/local/lib/python3.8/dist-packages (from matplotlib>=3.5->osmnx) (1.4.4)\n",
            "Requirement already satisfied: python-dateutil>=2.7 in /usr/local/lib/python3.8/dist-packages (from matplotlib>=3.5->osmnx) (2.8.2)\n",
            "Requirement already satisfied: cycler>=0.10 in /usr/local/lib/python3.8/dist-packages (from matplotlib>=3.5->osmnx) (0.11.0)\n",
            "Requirement already satisfied: pillow>=6.2.0 in /usr/local/lib/python3.8/dist-packages (from matplotlib>=3.5->osmnx) (7.1.2)\n",
            "Requirement already satisfied: pyparsing>=2.2.1 in /usr/local/lib/python3.8/dist-packages (from matplotlib>=3.5->osmnx) (3.0.9)\n",
            "Requirement already satisfied: fonttools>=4.22.0 in /usr/local/lib/python3.8/dist-packages (from matplotlib>=3.5->osmnx) (4.38.0)\n",
            "Requirement already satisfied: pytz>=2020.1 in /usr/local/lib/python3.8/dist-packages (from pandas>=1.4->osmnx) (2022.7)\n",
            "Requirement already satisfied: certifi in /usr/local/lib/python3.8/dist-packages (from pyproj>=3.3->osmnx) (2022.12.7)\n",
            "Requirement already satisfied: charset-normalizer<4,>=2 in /usr/local/lib/python3.8/dist-packages (from requests>=2.28->osmnx) (2.1.1)\n",
            "Requirement already satisfied: urllib3<1.27,>=1.21.1 in /usr/local/lib/python3.8/dist-packages (from requests>=2.28->osmnx) (1.24.3)\n",
            "Requirement already satisfied: idna<4,>=2.5 in /usr/local/lib/python3.8/dist-packages (from requests>=2.28->osmnx) (2.10)\n",
            "Collecting cligj>=0.5\n",
            "  Downloading cligj-0.7.2-py3-none-any.whl (7.1 kB)\n",
            "Requirement already satisfied: six>=1.7 in /usr/local/lib/python3.8/dist-packages (from fiona>=1.8->geopandas>=0.11->osmnx) (1.15.0)\n",
            "Requirement already satisfied: click>=4.0 in /usr/local/lib/python3.8/dist-packages (from fiona>=1.8->geopandas>=0.11->osmnx) (7.1.2)\n",
            "Requirement already satisfied: attrs>=17 in /usr/local/lib/python3.8/dist-packages (from fiona>=1.8->geopandas>=0.11->osmnx) (22.2.0)\n",
            "Requirement already satisfied: setuptools in /usr/local/lib/python3.8/dist-packages (from fiona>=1.8->geopandas>=0.11->osmnx) (57.4.0)\n",
            "Collecting click-plugins>=1.0\n",
            "  Downloading click_plugins-1.1.1-py2.py3-none-any.whl (7.5 kB)\n",
            "Collecting munch\n",
            "  Downloading munch-2.5.0-py2.py3-none-any.whl (10 kB)\n",
            "Installing collected packages: Shapely, Rtree, requests, munch, cligj, click-plugins, fiona, geopandas, osmnx\n",
            "  Attempting uninstall: Shapely\n",
            "    Found existing installation: Shapely 1.7.0\n",
            "    Uninstalling Shapely-1.7.0:\n",
            "      Successfully uninstalled Shapely-1.7.0\n",
            "  Attempting uninstall: requests\n",
            "    Found existing installation: requests 2.25.1\n",
            "    Uninstalling requests-2.25.1:\n",
            "      Successfully uninstalled requests-2.25.1\n",
            "Successfully installed Rtree-1.0.1 Shapely-1.8.5.post1 click-plugins-1.1.1 cligj-0.7.2 fiona-1.8.22 geopandas-0.12.2 munch-2.5.0 osmnx-1.2.2 requests-2.28.2\n",
            "Looking in indexes: https://pypi.org/simple, https://us-python.pkg.dev/colab-wheels/public/simple/\n",
            "Collecting tilemapbase\n",
            "  Downloading tilemapbase-0.4.7.tar.gz (25 kB)\n",
            "  Preparing metadata (setup.py) ... \u001b[?25l\u001b[?25hdone\n",
            "Requirement already satisfied: requests in /usr/local/lib/python3.8/dist-packages (from tilemapbase) (2.28.2)\n",
            "Requirement already satisfied: pillow in /usr/local/lib/python3.8/dist-packages (from tilemapbase) (7.1.2)\n",
            "Requirement already satisfied: certifi>=2017.4.17 in /usr/local/lib/python3.8/dist-packages (from requests->tilemapbase) (2022.12.7)\n",
            "Requirement already satisfied: urllib3<1.27,>=1.21.1 in /usr/local/lib/python3.8/dist-packages (from requests->tilemapbase) (1.24.3)\n",
            "Requirement already satisfied: idna<4,>=2.5 in /usr/local/lib/python3.8/dist-packages (from requests->tilemapbase) (2.10)\n",
            "Requirement already satisfied: charset-normalizer<4,>=2 in /usr/local/lib/python3.8/dist-packages (from requests->tilemapbase) (2.1.1)\n",
            "Building wheels for collected packages: tilemapbase\n",
            "  Building wheel for tilemapbase (setup.py) ... \u001b[?25l\u001b[?25hdone\n",
            "  Created wheel for tilemapbase: filename=tilemapbase-0.4.7-py3-none-any.whl size=25792 sha256=38899c1669a0c14f12424ae14d60f2c9f9d3643d42ae857cb4e8a89ccb336886\n",
            "  Stored in directory: /root/.cache/pip/wheels/78/88/3a/9b18d4439e669084454c2b0132fe88fc9d8244f1d7c028c2c9\n",
            "Successfully built tilemapbase\n",
            "Installing collected packages: tilemapbase\n",
            "Successfully installed tilemapbase-0.4.7\n"
          ]
        }
      ]
    },
    {
      "cell_type": "code",
      "source": [],
      "metadata": {
        "id": "ebhsGky6SzjZ"
      },
      "execution_count": null,
      "outputs": []
    },
    {
      "cell_type": "code",
      "execution_count": null,
      "metadata": {
        "id": "Qol7w6ilBtuE"
      },
      "outputs": [],
      "source": [
        "import warnings"
      ]
    },
    {
      "cell_type": "code",
      "source": [
        "try:\n",
        "    import numpy\n",
        "except ModuleNotFoundError as e:\n",
        "    !pip install numpy\n",
        "    import numpy"
      ],
      "metadata": {
        "id": "T8_5V6dpHvYm"
      },
      "execution_count": null,
      "outputs": []
    },
    {
      "cell_type": "code",
      "source": [
        "try:\n",
        "    import geopy\n",
        "except ModuleNotFoundError as e:\n",
        "    !pip install geopy==2.2.0\n",
        "    import geopy"
      ],
      "metadata": {
        "id": "JIc1dP67B5Td"
      },
      "execution_count": null,
      "outputs": []
    },
    {
      "cell_type": "code",
      "source": [
        "try:\n",
        "  import pygeos\n",
        "except ModuleNotFoundError as e:\n",
        "  %pip install pygeos==0.13 \n",
        "  import pygeos"
      ],
      "metadata": {
        "id": "X3EvpsVHB-Zw",
        "colab": {
          "base_uri": "https://localhost:8080/"
        },
        "outputId": "1b8f7978-9808-4be1-cabb-3274a7622d08"
      },
      "execution_count": null,
      "outputs": [
        {
          "output_type": "stream",
          "name": "stdout",
          "text": [
            "Looking in indexes: https://pypi.org/simple, https://us-python.pkg.dev/colab-wheels/public/simple/\n",
            "Collecting pygeos==0.13\n",
            "  Downloading pygeos-0.13-cp38-cp38-manylinux_2_17_x86_64.manylinux2014_x86_64.whl (2.2 MB)\n",
            "\u001b[2K     \u001b[90m━━━━━━━━━━━━━━━━━━━━━━━━━━━━━━━━━━━━━━━━\u001b[0m \u001b[32m2.2/2.2 MB\u001b[0m \u001b[31m26.4 MB/s\u001b[0m eta \u001b[36m0:00:00\u001b[0m\n",
            "\u001b[?25hRequirement already satisfied: numpy>=1.13 in /usr/local/lib/python3.8/dist-packages (from pygeos==0.13) (1.23.0)\n",
            "Installing collected packages: pygeos\n",
            "Successfully installed pygeos-0.13\n"
          ]
        }
      ]
    },
    {
      "cell_type": "code",
      "source": [
        "try:\n",
        "  import geopandas as gpd\n",
        "except ModuleNotFoundError as e:\n",
        "  %pip install geopandas\n",
        "  import geopandas as gpd"
      ],
      "metadata": {
        "id": "584Zh1m_B8tH"
      },
      "execution_count": null,
      "outputs": []
    },
    {
      "cell_type": "code",
      "source": [
        "try:\n",
        "  import igraph\n",
        "except ModuleNotFoundError as e:\n",
        "  %pip install igraph\n",
        "  import igraph"
      ],
      "metadata": {
        "id": "phrOUDnxCCJX",
        "colab": {
          "base_uri": "https://localhost:8080/"
        },
        "outputId": "c740b0f0-60b8-44ba-fda3-8d8a7625dc38"
      },
      "execution_count": null,
      "outputs": [
        {
          "output_type": "stream",
          "name": "stdout",
          "text": [
            "Looking in indexes: https://pypi.org/simple, https://us-python.pkg.dev/colab-wheels/public/simple/\n",
            "Collecting igraph\n",
            "  Downloading igraph-0.10.3-cp38-cp38-manylinux_2_17_x86_64.manylinux2014_x86_64.whl (3.3 MB)\n",
            "\u001b[2K     \u001b[90m━━━━━━━━━━━━━━━━━━━━━━━━━━━━━━━━━━━━━━━━\u001b[0m \u001b[32m3.3/3.3 MB\u001b[0m \u001b[31m34.8 MB/s\u001b[0m eta \u001b[36m0:00:00\u001b[0m\n",
            "\u001b[?25hCollecting texttable>=1.6.2\n",
            "  Downloading texttable-1.6.7-py2.py3-none-any.whl (10 kB)\n",
            "Installing collected packages: texttable, igraph\n",
            "Successfully installed igraph-0.10.3 texttable-1.6.7\n"
          ]
        }
      ]
    },
    {
      "cell_type": "code",
      "source": [
        "try:\n",
        "  import pyrosm\n",
        "except ModuleNotFoundError as e:\n",
        "  %pip install pyrosm\n",
        "  import pyrosm"
      ],
      "metadata": {
        "id": "FCkRjKXZCDKn",
        "colab": {
          "base_uri": "https://localhost:8080/"
        },
        "outputId": "1a211594-0aa8-408c-f7e2-4933790aa0e0"
      },
      "execution_count": null,
      "outputs": [
        {
          "output_type": "stream",
          "name": "stdout",
          "text": [
            "Looking in indexes: https://pypi.org/simple, https://us-python.pkg.dev/colab-wheels/public/simple/\n",
            "Collecting pyrosm\n",
            "  Downloading pyrosm-0.6.1.tar.gz (2.1 MB)\n",
            "\u001b[2K     \u001b[90m━━━━━━━━━━━━━━━━━━━━━━━━━━━━━━━━━━━━━━━━\u001b[0m \u001b[32m2.1/2.1 MB\u001b[0m \u001b[31m26.7 MB/s\u001b[0m eta \u001b[36m0:00:00\u001b[0m\n",
            "\u001b[?25h  Installing build dependencies ... \u001b[?25l\u001b[?25hdone\n",
            "  Getting requirements to build wheel ... \u001b[?25l\u001b[?25hdone\n",
            "  Preparing metadata (pyproject.toml) ... \u001b[?25l\u001b[?25hdone\n",
            "Requirement already satisfied: setuptools>=18.0 in /usr/local/lib/python3.8/dist-packages (from pyrosm) (57.4.0)\n",
            "Requirement already satisfied: pygeos in /usr/local/lib/python3.8/dist-packages (from pyrosm) (0.13)\n",
            "Collecting pyrobuf\n",
            "  Using cached pyrobuf-0.9.3-cp38-cp38-linux_x86_64.whl\n",
            "Requirement already satisfied: geopandas>=0.8.0 in /usr/local/lib/python3.8/dist-packages (from pyrosm) (0.12.2)\n",
            "Collecting cykhash\n",
            "  Using cached cykhash-2.0.0-cp38-cp38-linux_x86_64.whl\n",
            "Collecting python-rapidjson\n",
            "  Downloading python_rapidjson-1.9-cp38-cp38-manylinux_2_17_x86_64.manylinux2014_x86_64.whl (1.6 MB)\n",
            "\u001b[2K     \u001b[90m━━━━━━━━━━━━━━━━━━━━━━━━━━━━━━━━━━━━━━━━\u001b[0m \u001b[32m1.6/1.6 MB\u001b[0m \u001b[31m71.8 MB/s\u001b[0m eta \u001b[36m0:00:00\u001b[0m\n",
            "\u001b[?25hRequirement already satisfied: fiona>=1.8 in /usr/local/lib/python3.8/dist-packages (from geopandas>=0.8.0->pyrosm) (1.8.22)\n",
            "Requirement already satisfied: pyproj>=2.6.1.post1 in /usr/local/lib/python3.8/dist-packages (from geopandas>=0.8.0->pyrosm) (3.4.0)\n",
            "Requirement already satisfied: packaging in /usr/local/lib/python3.8/dist-packages (from geopandas>=0.8.0->pyrosm) (21.3)\n",
            "Requirement already satisfied: pandas>=1.0.0 in /usr/local/lib/python3.8/dist-packages (from geopandas>=0.8.0->pyrosm) (1.5.0)\n",
            "Requirement already satisfied: shapely>=1.7 in /usr/local/lib/python3.8/dist-packages (from geopandas>=0.8.0->pyrosm) (1.8.5.post1)\n",
            "Requirement already satisfied: numpy>=1.13 in /usr/local/lib/python3.8/dist-packages (from pygeos->pyrosm) (1.23.0)\n",
            "Requirement already satisfied: cython>=0.23 in /usr/local/lib/python3.8/dist-packages (from pyrobuf->pyrosm) (0.29.33)\n",
            "Requirement already satisfied: jinja2>=2.8 in /usr/local/lib/python3.8/dist-packages (from pyrobuf->pyrosm) (2.11.3)\n",
            "Requirement already satisfied: attrs>=17 in /usr/local/lib/python3.8/dist-packages (from fiona>=1.8->geopandas>=0.8.0->pyrosm) (22.2.0)\n",
            "Requirement already satisfied: six>=1.7 in /usr/local/lib/python3.8/dist-packages (from fiona>=1.8->geopandas>=0.8.0->pyrosm) (1.15.0)\n",
            "Requirement already satisfied: click>=4.0 in /usr/local/lib/python3.8/dist-packages (from fiona>=1.8->geopandas>=0.8.0->pyrosm) (7.1.2)\n",
            "Requirement already satisfied: munch in /usr/local/lib/python3.8/dist-packages (from fiona>=1.8->geopandas>=0.8.0->pyrosm) (2.5.0)\n",
            "Requirement already satisfied: cligj>=0.5 in /usr/local/lib/python3.8/dist-packages (from fiona>=1.8->geopandas>=0.8.0->pyrosm) (0.7.2)\n",
            "Requirement already satisfied: click-plugins>=1.0 in /usr/local/lib/python3.8/dist-packages (from fiona>=1.8->geopandas>=0.8.0->pyrosm) (1.1.1)\n",
            "Requirement already satisfied: certifi in /usr/local/lib/python3.8/dist-packages (from fiona>=1.8->geopandas>=0.8.0->pyrosm) (2022.12.7)\n",
            "Requirement already satisfied: MarkupSafe>=0.23 in /usr/local/lib/python3.8/dist-packages (from jinja2>=2.8->pyrobuf->pyrosm) (2.0.1)\n",
            "Requirement already satisfied: pytz>=2020.1 in /usr/local/lib/python3.8/dist-packages (from pandas>=1.0.0->geopandas>=0.8.0->pyrosm) (2022.7)\n",
            "Requirement already satisfied: python-dateutil>=2.8.1 in /usr/local/lib/python3.8/dist-packages (from pandas>=1.0.0->geopandas>=0.8.0->pyrosm) (2.8.2)\n",
            "Requirement already satisfied: pyparsing!=3.0.5,>=2.0.2 in /usr/local/lib/python3.8/dist-packages (from packaging->geopandas>=0.8.0->pyrosm) (3.0.9)\n",
            "Building wheels for collected packages: pyrosm\n",
            "  Building wheel for pyrosm (pyproject.toml) ... \u001b[?25l\u001b[?25hdone\n",
            "  Created wheel for pyrosm: filename=pyrosm-0.6.1-cp38-cp38-linux_x86_64.whl size=8137959 sha256=2f77f6ada2947f34f9f090de037c2bce35c06b75fd80b083908d40f7d51d61d5\n",
            "  Stored in directory: /root/.cache/pip/wheels/58/60/9e/fa165b40f8ffb22b391c38e3e4bded072fcd75c6a3e811ee6e\n",
            "Successfully built pyrosm\n",
            "Installing collected packages: cykhash, python-rapidjson, pyrobuf, pyrosm\n",
            "Successfully installed cykhash-2.0.0 pyrobuf-0.9.3 pyrosm-0.6.1 python-rapidjson-1.9\n"
          ]
        }
      ]
    },
    {
      "cell_type": "code",
      "source": [
        "# !apt install libspatialindex-dex (in case it doensn't work.)\n",
        "\n",
        "# !pip install osmnx"
      ],
      "metadata": {
        "id": "vo8Tiu9UJXLU"
      },
      "execution_count": null,
      "outputs": []
    },
    {
      "cell_type": "code",
      "source": [
        "import osmnx as ox"
      ],
      "metadata": {
        "id": "cwRkE_sNIX27"
      },
      "execution_count": null,
      "outputs": []
    },
    {
      "cell_type": "code",
      "source": [
        "import requests\n",
        "import json\n",
        "import geopandas as gpd\n",
        "import fiona\n",
        "import urllib\n",
        "import os\n",
        "import zipfile, io\n",
        "import urllib3\n",
        "import ssl\n",
        "import shutil\n",
        "from matplotlib import pyplot as plt\n",
        "import networkx as nx\n",
        "from datetime import datetime\n",
        "from geopy.geocoders import Nominatim\n",
        "import pandas as pd\n",
        "from bs4 import BeautifulSoup\n",
        "from datetime import datetime, timedelta, date\n",
        "from geopandas import GeoDataFrame\n",
        "from shapely.geometry import Point\n",
        "import tilemapbase\n",
        "from pyrosm import OSM\n",
        "from pyrosm import get_data"
      ],
      "metadata": {
        "id": "uy3aGzq0CERf"
      },
      "execution_count": null,
      "outputs": []
    },
    {
      "cell_type": "code",
      "source": [
        "def get_network_custom(place,filter_type):\n",
        "    \n",
        "    \"\"\"\n",
        "    place: string \n",
        "        #name of the pbf to be downloaded \n",
        "        \n",
        "    filter_type: string\n",
        "        #'driving', 'all' only for now\n",
        "    \"\"\"\n",
        "    # connect to the data\n",
        "    osm = OSM(get_data(place))"
      ],
      "metadata": {
        "id": "ROap5Iq4X3Y6"
      },
      "execution_count": null,
      "outputs": []
    },
    {
      "cell_type": "markdown",
      "source": [
        "## 1 - Arrival area"
      ],
      "metadata": {
        "id": "kQ6EAjK-CJ-D"
      }
    },
    {
      "cell_type": "markdown",
      "source": [
        "Now that we know the destination, we'll look at the average accomodation price for staying in that area.\n",
        "For now I'm using a booking web scraper as data.\n",
        "\n",
        "Remember to consider either town or city, as some only have one of the two!!"
      ],
      "metadata": {
        "id": "Z4OzVIFECMwO"
      }
    },
    {
      "cell_type": "code",
      "source": [
        "# Example to test\n",
        "end = input(\"Destination: \")\n",
        "point_2 = gpd.tools.geocode(end, provider=\"arcgis\")"
      ],
      "metadata": {
        "id": "K5wwVsYyCVZM",
        "colab": {
          "base_uri": "https://localhost:8080/"
        },
        "outputId": "eb01970b-de60-4ef6-8930-edde229dce4b"
      },
      "execution_count": null,
      "outputs": [
        {
          "name": "stdout",
          "output_type": "stream",
          "text": [
            "Destination: Modena\n"
          ]
        }
      ]
    },
    {
      "cell_type": "code",
      "source": [
        "geolocator = Nominatim(user_agent=\"test\")\n",
        "location2 = geolocator.reverse(str(float(point_2.geometry.y))+\",\"+ str(float(point_2.geometry.x)))\n",
        "\n",
        "end_address = location2.raw['address']\n",
        "if 'town' in end_address:\n",
        "  area = end_address['town'] + ', '+end_address['town'] + ', Italy'\n",
        "elif 'city' in end_address:\n",
        "  area=end_address['city'] + ', '+end_address['city'] + ', Italy'"
      ],
      "metadata": {
        "id": "JacfCj7hCfwN"
      },
      "execution_count": null,
      "outputs": []
    },
    {
      "cell_type": "code",
      "source": [
        "area"
      ],
      "metadata": {
        "colab": {
          "base_uri": "https://localhost:8080/",
          "height": 35
        },
        "id": "m8pOCzFvaX7T",
        "outputId": "3e23ecd9-69e2-4afb-dc9b-9aa2a977bc85"
      },
      "execution_count": null,
      "outputs": [
        {
          "output_type": "execute_result",
          "data": {
            "text/plain": [
              "'Modena, Modena, Italy'"
            ],
            "application/vnd.google.colaboratory.intrinsic+json": {
              "type": "string"
            }
          },
          "metadata": {},
          "execution_count": 15
        }
      ]
    },
    {
      "cell_type": "code",
      "source": [
        "G = ox.graph_from_place(area, network_type='all') #Only need to be ran once."
      ],
      "metadata": {
        "id": "K8qGKgE9CShr"
      },
      "execution_count": null,
      "outputs": []
    },
    {
      "cell_type": "code",
      "source": [
        "# url_download_province_pbf = 'https://osmit-estratti-test.wmcloud.org/dati/poly/regioni/pbf/' + region_list[start_address['state']]\n",
        "# urllib.request.urlretrieve(url_download_region_pbf ,\"region_osm.pbf\")\n",
        "\n",
        "# osm = pyrosm.OSM(\"region_osm.pbf\") "
      ],
      "metadata": {
        "id": "0LmNWEHsCFPC"
      },
      "execution_count": null,
      "outputs": []
    },
    {
      "cell_type": "markdown",
      "source": [
        "We'll use the current date to estimate the average prices."
      ],
      "metadata": {
        "id": "MMWIBdazHZZL"
      }
    },
    {
      "cell_type": "code",
      "source": [
        "# area = area.replace(' ', '%20')\n",
        "\n",
        "days = int(input('How many days from today?'))\n",
        "counter = int(input('how many of you are staying?'))\n",
        "\n",
        "in_Month = datetime.now().month\n",
        "in_Year = datetime.now().year\n",
        "in_day = datetime.now().day\n",
        "\n",
        "EndDate = datetime.now() + timedelta(days=days)\n",
        "out_month =  EndDate.month\n",
        "out_Year = EndDate.year\n",
        "out_day = EndDate.day"
      ],
      "metadata": {
        "id": "f9y7JtxaHW2c",
        "colab": {
          "base_uri": "https://localhost:8080/"
        },
        "outputId": "0155efa6-ff42-4d39-c5e1-399f01b5673c"
      },
      "execution_count": null,
      "outputs": [
        {
          "name": "stdout",
          "output_type": "stream",
          "text": [
            "How many days from today?2\n",
            "how many of you are staying?2\n"
          ]
        }
      ]
    },
    {
      "cell_type": "code",
      "source": [
        "headers = {\"User-Agent\": \"Mozilla/5.0 (Windows NT 10.0; Win64; x64) AppleWebKit/537.36 (KHTML, like Gecko) Chrome/109.0.0.0 Safari/537.36\"}\n",
        "url = \"https://www.booking.com/searchresults.it.html?checkin_month={in_month}&checkin_monthday={in_day}&checkin_year={in_year}&checkout_month={out_month}&checkout_monthday={out_day}&checkout_year={out_year}&group_adults={people}&group_children=0&order=price&ss={city}%2C%20{country}\"\\\n",
        ".format(in_month=in_Month,\n",
        "       in_day=in_day,\n",
        "       in_year = in_Year,\n",
        "       out_month=out_month,\n",
        "       out_day=out_day,\n",
        "       out_year=out_Year,\n",
        "       people=counter,\n",
        "       city=area,\n",
        "       country='Italia')"
      ],
      "metadata": {
        "id": "WnWdK2oIC4BW"
      },
      "execution_count": null,
      "outputs": []
    },
    {
      "cell_type": "code",
      "source": [
        "response = requests.get(url, headers=headers)\n",
        "soup = BeautifulSoup(response.text, \"lxml\")\n",
        "#print(response.status_code) (should always be 200)"
      ],
      "metadata": {
        "id": "jQH4em4bCR4E"
      },
      "execution_count": null,
      "outputs": []
    },
    {
      "cell_type": "code",
      "source": [
        "prices = soup.find_all(\"div\", class_ =\"e6e585da68\")\n",
        "prices_list = [price.get_text().split(\"\\n\") for price in prices]\n",
        "\n",
        "prcs = []\n",
        "final_prices = dict()\n",
        "t = 1\n",
        "while t <= len(prices_list):\n",
        "    prcs.append(prices_list[t][0][-4:])\n",
        "    t+=2\n",
        "for i in range(len(prcs)):\n",
        "    final_prices[i] = prcs[i].replace('$','')\n",
        "    final_prices[i] = final_prices[i].replace('S','')\n",
        "    final_prices[i] = final_prices[i].replace('.','')\n",
        "final_prices = pd.DataFrame(final_prices, index=[\"Price (€)\"]).T\n",
        "\n",
        "IDs = [i for i in range(len(final_prices['Price (€)']))]\n",
        "final_prices[\"ID\"] = IDs"
      ],
      "metadata": {
        "id": "c8uulItxDU7a"
      },
      "execution_count": null,
      "outputs": []
    },
    {
      "cell_type": "code",
      "source": [
        "links = soup.find_all(\"a\", class_=\"e13098a59f\")\n",
        "links_list = [str(link.get(\"href\").replace(\"\\n\", \"\")) for link in links]\n",
        "final_links = pd.DataFrame(links_list, columns=[\"Link\"])\n",
        "final_links[\"ID\"] = IDs\n",
        "\n",
        "df = final_prices.merge(final_links, on=\"ID\")\n",
        "df['Price (€)'] = pd.to_numeric(df['Price (€)']) \n",
        "\n",
        "names = soup.find_all(\"div\", class_=\"fcab3ed991 a23c043802\")\n",
        "names_list = [name.get_text() for name in names]\n",
        "\n",
        "names_list\n",
        "for i in range(len(df['Price (€)'])):\n",
        "     names_list[i] = names_list[i].replace(\"\\n\", \"\")\n",
        "hotels = pd.DataFrame(names_list, columns=[\"Hotels\"])\n",
        "hotels[\"ID\"] =  IDs\n",
        "df = hotels.merge(df, on=\"ID\")\n",
        "\n",
        "h_list = [i + area for i in df.Hotels]\n",
        "Hotel_data = gpd.tools.geocode(h_list, provider=\"arcgis\")\n",
        "Hotel_data['ID'] = final_prices['ID']\n",
        "Hotel_data = Hotel_data.merge(df, on ='ID')\n",
        "Hotel_data = Hotel_data.drop(['address','ID'], axis=1)"
      ],
      "metadata": {
        "id": "Bn-aje24DZOA"
      },
      "execution_count": null,
      "outputs": []
    },
    {
      "cell_type": "markdown",
      "source": [
        "Now, we always have our data available; I am mainly using this to perform a statistical analysis on spatial relationships, as shown on the R part 3 of the script."
      ],
      "metadata": {
        "id": "7dr5uu0w3MR7"
      }
    },
    {
      "cell_type": "code",
      "source": [
        "Hotel_data.to_csv('hotels.csv', index=False)"
      ],
      "metadata": {
        "id": "J6EEbmZ9xCHf"
      },
      "execution_count": null,
      "outputs": []
    },
    {
      "cell_type": "code",
      "source": [
        "Hotel_data"
      ],
      "metadata": {
        "colab": {
          "base_uri": "https://localhost:8080/",
          "height": 833
        },
        "id": "mK6tg9SWwdhb",
        "outputId": "4bae520d-1f4b-4ce0-fd51-af91ca7003db"
      },
      "execution_count": null,
      "outputs": [
        {
          "output_type": "execute_result",
          "data": {
            "text/plain": [
              "                     geometry  \\\n",
              "0   POINT (10.81121 44.63871)   \n",
              "1   POINT (11.04856 44.68881)   \n",
              "2   POINT (10.93381 44.64323)   \n",
              "3   POINT (11.66244 46.37583)   \n",
              "4   POINT (10.93381 44.64323)   \n",
              "5   POINT (10.87706 44.63738)   \n",
              "6   POINT (10.93381 44.64323)   \n",
              "7   POINT (10.93381 44.64323)   \n",
              "8   POINT (10.90925 44.62201)   \n",
              "9   POINT (10.93381 44.64323)   \n",
              "10  POINT (10.93381 44.64323)   \n",
              "11  POINT (10.92000 44.64770)   \n",
              "12  POINT (10.59010 44.33125)   \n",
              "13  POINT (11.65935 46.37708)   \n",
              "14  POINT (10.93381 44.64323)   \n",
              "15  POINT (10.93381 44.64323)   \n",
              "16  POINT (10.93381 44.64323)   \n",
              "17  POINT (10.93381 44.64323)   \n",
              "18  POINT (10.93381 44.64323)   \n",
              "19  POINT (10.95412 44.62028)   \n",
              "20  POINT (10.86826 44.65076)   \n",
              "21  POINT (10.69958 44.46234)   \n",
              "22  POINT (10.84166 44.64635)   \n",
              "23  POINT (10.93381 44.64323)   \n",
              "24  POINT (10.92948 44.64480)   \n",
              "\n",
              "                                              Hotels  Price (€)  \\\n",
              "0                   Agriturismo Fattoria Corte Roeli        151   \n",
              "1                               La Casetta di Badolo        151   \n",
              "2                     Il Leprotto - Room & Breakfast        154   \n",
              "3                                       Hotel Garden        138   \n",
              "4                                  B&B Hotel Bologna        141   \n",
              "5                                     Hotel Paradiso        162   \n",
              "6                                       Hotel Parigi        162   \n",
              "7   Saffi Huge Apartment a pochi passi dall'Ospedale        164   \n",
              "8                                      Combo Bologna        165   \n",
              "9                                             Sophia        151   \n",
              "10                                  Hotel San Vitale        151   \n",
              "11                                        Park Hotel        151   \n",
              "12                                     Hotel Caselle        151   \n",
              "13                                    Albergo Aurora        173   \n",
              "14                                        Home Story        173   \n",
              "15                         Agriturismo Podere Casino        155   \n",
              "16                                         Terantiga        158   \n",
              "17                             Hotel Elefante Bianco        183   \n",
              "18                                         il leccio        183   \n",
              "19                        La Barchessa Country House        164   \n",
              "20                                  Phi Hotel Emilia        189   \n",
              "21                                       Antico Noce        190   \n",
              "22                                    La Colombarola        190   \n",
              "23                         Agriturismo La Riccardina        167   \n",
              "24                                     Albergo Elena        194   \n",
              "\n",
              "                                                 Link  \n",
              "0   https://www.booking.com/hotel/it/agriturismo-f...  \n",
              "1   https://www.booking.com/hotel/it/la-casetta-di...  \n",
              "2   https://www.booking.com/hotel/it/il-leprotto-r...  \n",
              "3   https://www.booking.com/hotel/it/garden-altedo...  \n",
              "4   https://www.booking.com/hotel/it/nettunobologn...  \n",
              "5   https://www.booking.com/hotel/it/paradiso-cast...  \n",
              "6   https://www.booking.com/hotel/it/parigi-castel...  \n",
              "7   https://www.booking.com/hotel/it/saffi-huge-ap...  \n",
              "8   https://www.booking.com/hotel/it/we-bologna.it...  \n",
              "9   https://www.booking.com/hotel/it/sophia-bologn...  \n",
              "10  https://www.booking.com/hotel/it/san-vitale.it...  \n",
              "11  https://www.booking.com/hotel/it/park-castel-s...  \n",
              "12  https://www.booking.com/hotel/it/caselle.it.ht...  \n",
              "13  https://www.booking.com/hotel/it/albergo-auror...  \n",
              "14  https://www.booking.com/hotel/it/home-story.it...  \n",
              "15  https://www.booking.com/hotel/it/agriturismo-p...  \n",
              "16  https://www.booking.com/hotel/it/terantiga.it....  \n",
              "17  https://www.booking.com/hotel/it/elefante-bian...  \n",
              "18  https://www.booking.com/hotel/it/il-leccio-san...  \n",
              "19  https://www.booking.com/hotel/it/la-barchessa-...  \n",
              "20  https://www.booking.com/hotel/it/eurogardenhot...  \n",
              "21  https://www.booking.com/hotel/it/agriturismo-a...  \n",
              "22  https://www.booking.com/hotel/it/la-colombarol...  \n",
              "23  https://www.booking.com/hotel/it/agriturismo-l...  \n",
              "24  https://www.booking.com/hotel/it/albergo-elena...  "
            ],
            "text/html": [
              "\n",
              "  <div id=\"df-dc1ceb58-d642-4f96-901b-4f43a548e609\">\n",
              "    <div class=\"colab-df-container\">\n",
              "      <div>\n",
              "<style scoped>\n",
              "    .dataframe tbody tr th:only-of-type {\n",
              "        vertical-align: middle;\n",
              "    }\n",
              "\n",
              "    .dataframe tbody tr th {\n",
              "        vertical-align: top;\n",
              "    }\n",
              "\n",
              "    .dataframe thead th {\n",
              "        text-align: right;\n",
              "    }\n",
              "</style>\n",
              "<table border=\"1\" class=\"dataframe\">\n",
              "  <thead>\n",
              "    <tr style=\"text-align: right;\">\n",
              "      <th></th>\n",
              "      <th>geometry</th>\n",
              "      <th>Hotels</th>\n",
              "      <th>Price (€)</th>\n",
              "      <th>Link</th>\n",
              "    </tr>\n",
              "  </thead>\n",
              "  <tbody>\n",
              "    <tr>\n",
              "      <th>0</th>\n",
              "      <td>POINT (10.81121 44.63871)</td>\n",
              "      <td>Agriturismo Fattoria Corte Roeli</td>\n",
              "      <td>151</td>\n",
              "      <td>https://www.booking.com/hotel/it/agriturismo-f...</td>\n",
              "    </tr>\n",
              "    <tr>\n",
              "      <th>1</th>\n",
              "      <td>POINT (11.04856 44.68881)</td>\n",
              "      <td>La Casetta di Badolo</td>\n",
              "      <td>151</td>\n",
              "      <td>https://www.booking.com/hotel/it/la-casetta-di...</td>\n",
              "    </tr>\n",
              "    <tr>\n",
              "      <th>2</th>\n",
              "      <td>POINT (10.93381 44.64323)</td>\n",
              "      <td>Il Leprotto - Room &amp; Breakfast</td>\n",
              "      <td>154</td>\n",
              "      <td>https://www.booking.com/hotel/it/il-leprotto-r...</td>\n",
              "    </tr>\n",
              "    <tr>\n",
              "      <th>3</th>\n",
              "      <td>POINT (11.66244 46.37583)</td>\n",
              "      <td>Hotel Garden</td>\n",
              "      <td>138</td>\n",
              "      <td>https://www.booking.com/hotel/it/garden-altedo...</td>\n",
              "    </tr>\n",
              "    <tr>\n",
              "      <th>4</th>\n",
              "      <td>POINT (10.93381 44.64323)</td>\n",
              "      <td>B&amp;B Hotel Bologna</td>\n",
              "      <td>141</td>\n",
              "      <td>https://www.booking.com/hotel/it/nettunobologn...</td>\n",
              "    </tr>\n",
              "    <tr>\n",
              "      <th>5</th>\n",
              "      <td>POINT (10.87706 44.63738)</td>\n",
              "      <td>Hotel Paradiso</td>\n",
              "      <td>162</td>\n",
              "      <td>https://www.booking.com/hotel/it/paradiso-cast...</td>\n",
              "    </tr>\n",
              "    <tr>\n",
              "      <th>6</th>\n",
              "      <td>POINT (10.93381 44.64323)</td>\n",
              "      <td>Hotel Parigi</td>\n",
              "      <td>162</td>\n",
              "      <td>https://www.booking.com/hotel/it/parigi-castel...</td>\n",
              "    </tr>\n",
              "    <tr>\n",
              "      <th>7</th>\n",
              "      <td>POINT (10.93381 44.64323)</td>\n",
              "      <td>Saffi Huge Apartment a pochi passi dall'Ospedale</td>\n",
              "      <td>164</td>\n",
              "      <td>https://www.booking.com/hotel/it/saffi-huge-ap...</td>\n",
              "    </tr>\n",
              "    <tr>\n",
              "      <th>8</th>\n",
              "      <td>POINT (10.90925 44.62201)</td>\n",
              "      <td>Combo Bologna</td>\n",
              "      <td>165</td>\n",
              "      <td>https://www.booking.com/hotel/it/we-bologna.it...</td>\n",
              "    </tr>\n",
              "    <tr>\n",
              "      <th>9</th>\n",
              "      <td>POINT (10.93381 44.64323)</td>\n",
              "      <td>Sophia</td>\n",
              "      <td>151</td>\n",
              "      <td>https://www.booking.com/hotel/it/sophia-bologn...</td>\n",
              "    </tr>\n",
              "    <tr>\n",
              "      <th>10</th>\n",
              "      <td>POINT (10.93381 44.64323)</td>\n",
              "      <td>Hotel San Vitale</td>\n",
              "      <td>151</td>\n",
              "      <td>https://www.booking.com/hotel/it/san-vitale.it...</td>\n",
              "    </tr>\n",
              "    <tr>\n",
              "      <th>11</th>\n",
              "      <td>POINT (10.92000 44.64770)</td>\n",
              "      <td>Park Hotel</td>\n",
              "      <td>151</td>\n",
              "      <td>https://www.booking.com/hotel/it/park-castel-s...</td>\n",
              "    </tr>\n",
              "    <tr>\n",
              "      <th>12</th>\n",
              "      <td>POINT (10.59010 44.33125)</td>\n",
              "      <td>Hotel Caselle</td>\n",
              "      <td>151</td>\n",
              "      <td>https://www.booking.com/hotel/it/caselle.it.ht...</td>\n",
              "    </tr>\n",
              "    <tr>\n",
              "      <th>13</th>\n",
              "      <td>POINT (11.65935 46.37708)</td>\n",
              "      <td>Albergo Aurora</td>\n",
              "      <td>173</td>\n",
              "      <td>https://www.booking.com/hotel/it/albergo-auror...</td>\n",
              "    </tr>\n",
              "    <tr>\n",
              "      <th>14</th>\n",
              "      <td>POINT (10.93381 44.64323)</td>\n",
              "      <td>Home Story</td>\n",
              "      <td>173</td>\n",
              "      <td>https://www.booking.com/hotel/it/home-story.it...</td>\n",
              "    </tr>\n",
              "    <tr>\n",
              "      <th>15</th>\n",
              "      <td>POINT (10.93381 44.64323)</td>\n",
              "      <td>Agriturismo Podere Casino</td>\n",
              "      <td>155</td>\n",
              "      <td>https://www.booking.com/hotel/it/agriturismo-p...</td>\n",
              "    </tr>\n",
              "    <tr>\n",
              "      <th>16</th>\n",
              "      <td>POINT (10.93381 44.64323)</td>\n",
              "      <td>Terantiga</td>\n",
              "      <td>158</td>\n",
              "      <td>https://www.booking.com/hotel/it/terantiga.it....</td>\n",
              "    </tr>\n",
              "    <tr>\n",
              "      <th>17</th>\n",
              "      <td>POINT (10.93381 44.64323)</td>\n",
              "      <td>Hotel Elefante Bianco</td>\n",
              "      <td>183</td>\n",
              "      <td>https://www.booking.com/hotel/it/elefante-bian...</td>\n",
              "    </tr>\n",
              "    <tr>\n",
              "      <th>18</th>\n",
              "      <td>POINT (10.93381 44.64323)</td>\n",
              "      <td>il leccio</td>\n",
              "      <td>183</td>\n",
              "      <td>https://www.booking.com/hotel/it/il-leccio-san...</td>\n",
              "    </tr>\n",
              "    <tr>\n",
              "      <th>19</th>\n",
              "      <td>POINT (10.95412 44.62028)</td>\n",
              "      <td>La Barchessa Country House</td>\n",
              "      <td>164</td>\n",
              "      <td>https://www.booking.com/hotel/it/la-barchessa-...</td>\n",
              "    </tr>\n",
              "    <tr>\n",
              "      <th>20</th>\n",
              "      <td>POINT (10.86826 44.65076)</td>\n",
              "      <td>Phi Hotel Emilia</td>\n",
              "      <td>189</td>\n",
              "      <td>https://www.booking.com/hotel/it/eurogardenhot...</td>\n",
              "    </tr>\n",
              "    <tr>\n",
              "      <th>21</th>\n",
              "      <td>POINT (10.69958 44.46234)</td>\n",
              "      <td>Antico Noce</td>\n",
              "      <td>190</td>\n",
              "      <td>https://www.booking.com/hotel/it/agriturismo-a...</td>\n",
              "    </tr>\n",
              "    <tr>\n",
              "      <th>22</th>\n",
              "      <td>POINT (10.84166 44.64635)</td>\n",
              "      <td>La Colombarola</td>\n",
              "      <td>190</td>\n",
              "      <td>https://www.booking.com/hotel/it/la-colombarol...</td>\n",
              "    </tr>\n",
              "    <tr>\n",
              "      <th>23</th>\n",
              "      <td>POINT (10.93381 44.64323)</td>\n",
              "      <td>Agriturismo La Riccardina</td>\n",
              "      <td>167</td>\n",
              "      <td>https://www.booking.com/hotel/it/agriturismo-l...</td>\n",
              "    </tr>\n",
              "    <tr>\n",
              "      <th>24</th>\n",
              "      <td>POINT (10.92948 44.64480)</td>\n",
              "      <td>Albergo Elena</td>\n",
              "      <td>194</td>\n",
              "      <td>https://www.booking.com/hotel/it/albergo-elena...</td>\n",
              "    </tr>\n",
              "  </tbody>\n",
              "</table>\n",
              "</div>\n",
              "      <button class=\"colab-df-convert\" onclick=\"convertToInteractive('df-dc1ceb58-d642-4f96-901b-4f43a548e609')\"\n",
              "              title=\"Convert this dataframe to an interactive table.\"\n",
              "              style=\"display:none;\">\n",
              "        \n",
              "  <svg xmlns=\"http://www.w3.org/2000/svg\" height=\"24px\"viewBox=\"0 0 24 24\"\n",
              "       width=\"24px\">\n",
              "    <path d=\"M0 0h24v24H0V0z\" fill=\"none\"/>\n",
              "    <path d=\"M18.56 5.44l.94 2.06.94-2.06 2.06-.94-2.06-.94-.94-2.06-.94 2.06-2.06.94zm-11 1L8.5 8.5l.94-2.06 2.06-.94-2.06-.94L8.5 2.5l-.94 2.06-2.06.94zm10 10l.94 2.06.94-2.06 2.06-.94-2.06-.94-.94-2.06-.94 2.06-2.06.94z\"/><path d=\"M17.41 7.96l-1.37-1.37c-.4-.4-.92-.59-1.43-.59-.52 0-1.04.2-1.43.59L10.3 9.45l-7.72 7.72c-.78.78-.78 2.05 0 2.83L4 21.41c.39.39.9.59 1.41.59.51 0 1.02-.2 1.41-.59l7.78-7.78 2.81-2.81c.8-.78.8-2.07 0-2.86zM5.41 20L4 18.59l7.72-7.72 1.47 1.35L5.41 20z\"/>\n",
              "  </svg>\n",
              "      </button>\n",
              "      \n",
              "  <style>\n",
              "    .colab-df-container {\n",
              "      display:flex;\n",
              "      flex-wrap:wrap;\n",
              "      gap: 12px;\n",
              "    }\n",
              "\n",
              "    .colab-df-convert {\n",
              "      background-color: #E8F0FE;\n",
              "      border: none;\n",
              "      border-radius: 50%;\n",
              "      cursor: pointer;\n",
              "      display: none;\n",
              "      fill: #1967D2;\n",
              "      height: 32px;\n",
              "      padding: 0 0 0 0;\n",
              "      width: 32px;\n",
              "    }\n",
              "\n",
              "    .colab-df-convert:hover {\n",
              "      background-color: #E2EBFA;\n",
              "      box-shadow: 0px 1px 2px rgba(60, 64, 67, 0.3), 0px 1px 3px 1px rgba(60, 64, 67, 0.15);\n",
              "      fill: #174EA6;\n",
              "    }\n",
              "\n",
              "    [theme=dark] .colab-df-convert {\n",
              "      background-color: #3B4455;\n",
              "      fill: #D2E3FC;\n",
              "    }\n",
              "\n",
              "    [theme=dark] .colab-df-convert:hover {\n",
              "      background-color: #434B5C;\n",
              "      box-shadow: 0px 1px 3px 1px rgba(0, 0, 0, 0.15);\n",
              "      filter: drop-shadow(0px 1px 2px rgba(0, 0, 0, 0.3));\n",
              "      fill: #FFFFFF;\n",
              "    }\n",
              "  </style>\n",
              "\n",
              "      <script>\n",
              "        const buttonEl =\n",
              "          document.querySelector('#df-dc1ceb58-d642-4f96-901b-4f43a548e609 button.colab-df-convert');\n",
              "        buttonEl.style.display =\n",
              "          google.colab.kernel.accessAllowed ? 'block' : 'none';\n",
              "\n",
              "        async function convertToInteractive(key) {\n",
              "          const element = document.querySelector('#df-dc1ceb58-d642-4f96-901b-4f43a548e609');\n",
              "          const dataTable =\n",
              "            await google.colab.kernel.invokeFunction('convertToInteractive',\n",
              "                                                     [key], {});\n",
              "          if (!dataTable) return;\n",
              "\n",
              "          const docLinkHtml = 'Like what you see? Visit the ' +\n",
              "            '<a target=\"_blank\" href=https://colab.research.google.com/notebooks/data_table.ipynb>data table notebook</a>'\n",
              "            + ' to learn more about interactive tables.';\n",
              "          element.innerHTML = '';\n",
              "          dataTable['output_type'] = 'display_data';\n",
              "          await google.colab.output.renderOutput(dataTable, element);\n",
              "          const docLink = document.createElement('div');\n",
              "          docLink.innerHTML = docLinkHtml;\n",
              "          element.appendChild(docLink);\n",
              "        }\n",
              "      </script>\n",
              "    </div>\n",
              "  </div>\n",
              "  "
            ]
          },
          "metadata": {},
          "execution_count": 116
        }
      ]
    },
    {
      "cell_type": "code",
      "source": [
        "print('Mean accomodation cost:', df['Price (€)'].mean())"
      ],
      "metadata": {
        "id": "tbUPgfCnDhMC",
        "colab": {
          "base_uri": "https://localhost:8080/"
        },
        "outputId": "b920eb2c-1c6d-41db-f7e0-59c72c819e46"
      },
      "execution_count": null,
      "outputs": [
        {
          "output_type": "stream",
          "name": "stdout",
          "text": [
            "Mean accomodation cost: 164.44\n"
          ]
        }
      ]
    },
    {
      "cell_type": "markdown",
      "source": [
        "You can also gather data using overpass API.\n",
        "Since both worked, I kept them, as one is more geographically accurate (overpass API) but does not provide informations on price, and the other (made using a Booking scraper)  will be mainly used for statistical analysis."
      ],
      "metadata": {
        "id": "4tB_cO2hGgZk"
      }
    },
    {
      "cell_type": "code",
      "source": [
        "overpass_url = \"http://overpass-api.de/api/interpreter\"\n",
        "overpass_query = \"\"\"\n",
        "[out:json];\n",
        "area[name={}][admin_level=8];\n",
        "  (\n",
        "node[\"tourism\"=\"hotel\"](area); \n",
        "  way[\"tourism\"=\"hotel\"](area); \n",
        "  rel[\"tourism\"=\"hotel\"](area);\n",
        "node[\"tourism\"=\"hostel\"](area);\n",
        "  way[\"tourism\"=\"hostel\"](area);\n",
        "  relation[\"tourism\"=\"hostel\"](area);\n",
        "node[\"tourism\"=\"guest house\"](area);\n",
        "  way[\"tourism\"=\"guest house\"](area);\n",
        "  relation[\"tourism\"=\"guest house\"](area);\n",
        "    );\n",
        "out center;\n",
        "\n",
        "\"\"\".format(area)\n",
        "response = requests.get(overpass_url, \n",
        "                        params={'data': overpass_query})\n",
        "data = response.json()"
      ],
      "metadata": {
        "id": "ouoje8pEF5Xh"
      },
      "execution_count": null,
      "outputs": []
    },
    {
      "cell_type": "code",
      "source": [
        "overpass_2_query = \"\"\"\n",
        "[out:json];\n",
        "area[name={}][admin_level=8];\n",
        "  (\n",
        "node[\"tourism\"=\"hotel\"](area); \n",
        "  way[\"tourism\"=\"hotel\"](area); \n",
        "  rel[\"tourism\"=\"hotel\"](area);\n",
        "node[\"tourism\"=\"hostel\"](area);\n",
        "  way[\"tourism\"=\"hostel\"](area);\n",
        "  relation[\"tourism\"=\"hostel\"](area);\n",
        "node[\"tourism\"=\"guest house\"](area);\n",
        "  way[\"tourism\"=\"guest house\"](area);\n",
        "  relation[\"tourism\"=\"guest house\"](area);\n",
        "    );\n",
        "out center;\n",
        "\n",
        "\"\"\".format(area)\n",
        "response = requests.get(overpass_url, \n",
        "                        params={'data': overpass_query})\n",
        "data = response.json()"
      ],
      "metadata": {
        "id": "2vtFRAQlWvcp"
      },
      "execution_count": null,
      "outputs": []
    },
    {
      "cell_type": "code",
      "source": [
        "data"
      ],
      "metadata": {
        "colab": {
          "base_uri": "https://localhost:8080/"
        },
        "id": "HsPEzjG0fVky",
        "outputId": "7703eedc-76c6-4fb4-cdc0-fe8bbb3a1754"
      },
      "execution_count": null,
      "outputs": [
        {
          "output_type": "execute_result",
          "data": {
            "text/plain": [
              "{'version': 0.6,\n",
              " 'generator': 'Overpass API 0.7.59 e21c39fe',\n",
              " 'osm3s': {'timestamp_osm_base': '2023-01-19T13:22:39Z',\n",
              "  'timestamp_areas_base': '2023-01-19T11:46:55Z',\n",
              "  'copyright': 'The data included in this document is from www.openstreetmap.org. The data is made available under ODbL.'},\n",
              " 'elements': [{'type': 'node',\n",
              "   'id': 391024976,\n",
              "   'lat': 44.6508625,\n",
              "   'lon': 10.9313155,\n",
              "   'tags': {'addr:city': 'Modena',\n",
              "    'addr:country': 'IT',\n",
              "    'addr:housenumber': '52',\n",
              "    'addr:postcode': '41121',\n",
              "    'addr:street': 'Corso Vittorio Emanuele Secondo',\n",
              "    'internet_access': 'yes',\n",
              "    'internet_access:fee': 'no',\n",
              "    'name': 'Europa',\n",
              "    'stars': '3',\n",
              "    'tourism': 'hotel',\n",
              "    'website': 'http://www.hoteleuropa.it/'}},\n",
              "  {'type': 'node',\n",
              "   'id': 1109618961,\n",
              "   'lat': 44.6379839,\n",
              "   'lon': 10.8921067,\n",
              "   'tags': {'name': 'UNA', 'tourism': 'hotel'}},\n",
              "  {'type': 'node',\n",
              "   'id': 1117629064,\n",
              "   'lat': 44.6139802,\n",
              "   'lon': 10.8754608,\n",
              "   'tags': {'name': 'Le Ville Mini Hotel', 'tourism': 'hotel'}},\n",
              "  {'type': 'node',\n",
              "   'id': 1149348629,\n",
              "   'lat': 44.6065591,\n",
              "   'lon': 10.8676059,\n",
              "   'tags': {'name': 'Una Hotel', 'tourism': 'hotel'}},\n",
              "  {'type': 'node',\n",
              "   'id': 1320140145,\n",
              "   'lat': 44.6394313,\n",
              "   'lon': 10.9068498,\n",
              "   'tags': {'addr:city': 'Modena',\n",
              "    'addr:country': 'IT',\n",
              "    'addr:housenumber': '402',\n",
              "    'addr:postcode': '41124',\n",
              "    'addr:street': 'Via Pietro Giardini',\n",
              "    'email': 'direzione@donatellomodena.it',\n",
              "    'fax': '+39 059 342803',\n",
              "    'internet_access': 'wlan',\n",
              "    'internet_access:fee': 'no',\n",
              "    'name': 'Hotel Donatello',\n",
              "    'payment:american_express': 'yes',\n",
              "    'payment:mastercard': 'yes',\n",
              "    'payment:visa': 'yes',\n",
              "    'phone': '+39 059 344550',\n",
              "    'stars': '3',\n",
              "    'tourism': 'hotel',\n",
              "    'website': 'http://www.donatellomodena.it/'}},\n",
              "  {'type': 'node',\n",
              "   'id': 1785223082,\n",
              "   'lat': 44.6495195,\n",
              "   'lon': 10.9211476,\n",
              "   'tags': {'addr:city': 'Modena',\n",
              "    'addr:country': 'IT',\n",
              "    'addr:housenumber': '11',\n",
              "    'addr:postcode': '41121',\n",
              "    'addr:street': 'Via Jacopo Berengario',\n",
              "    'internet_access': 'yes',\n",
              "    'internet_access:fee': 'no',\n",
              "    'name': 'Hotel Estense',\n",
              "    'phone': '+39 059 21 90 57',\n",
              "    'smoking': 'outside',\n",
              "    'stars': '3',\n",
              "    'tourism': 'hotel',\n",
              "    'website': 'http://www.hotelestense.com/'}},\n",
              "  {'type': 'node',\n",
              "   'id': 3256355559,\n",
              "   'lat': 44.6454764,\n",
              "   'lon': 10.9245969,\n",
              "   'tags': {'name': 'Hotel Cervetta', 'source': 'Bing', 'tourism': 'hotel'}},\n",
              "  {'type': 'node',\n",
              "   'id': 3686844654,\n",
              "   'lat': 44.6527359,\n",
              "   'lon': 10.9335768,\n",
              "   'tags': {'addr:city': 'Modena',\n",
              "    'addr:country': 'IT',\n",
              "    'addr:housenumber': '3',\n",
              "    'addr:postcode': '41121',\n",
              "    'addr:street': 'Via Paolo Ferrari',\n",
              "    'name': \"Hotel La Stella d'Italia\",\n",
              "    'tourism': 'hotel'}},\n",
              "  {'type': 'node',\n",
              "   'id': 3980752139,\n",
              "   'lat': 44.651109,\n",
              "   'lon': 10.931574,\n",
              "   'tags': {'addr:city': 'Modena',\n",
              "    'addr:country': 'IT',\n",
              "    'addr:housenumber': '68',\n",
              "    'addr:postcode': '41121',\n",
              "    'addr:street': 'Corso Vittorio Emanuele Secondo',\n",
              "    'internet_access': 'yes',\n",
              "    'internet_access:fee': 'no',\n",
              "    'name': 'Milano Palace Hotel',\n",
              "    'operator': 'Best Western',\n",
              "    'smoking': 'outside',\n",
              "    'stars': '4',\n",
              "    'tourism': 'hotel',\n",
              "    'website': 'http://www.milanopalacehotel.it'}},\n",
              "  {'type': 'node',\n",
              "   'id': 4166011091,\n",
              "   'lat': 44.6476742,\n",
              "   'lon': 10.9142856,\n",
              "   'tags': {'addr:city': 'Modena',\n",
              "    'addr:country': 'IT',\n",
              "    'addr:housenumber': '108',\n",
              "    'addr:postcode': '41124',\n",
              "    'addr:street': 'Via Elia Rainusso',\n",
              "    'internet_access': 'wlan',\n",
              "    'internet_access:fee': 'no',\n",
              "    'name': 'Hotel tiby Ritz',\n",
              "    'phone': '+39 059 820101',\n",
              "    'stars': '3',\n",
              "    'tourism': 'hotel',\n",
              "    'website': 'tibyritzhotel.it'}},\n",
              "  {'type': 'node',\n",
              "   'id': 4205080092,\n",
              "   'lat': 44.640878,\n",
              "   'lon': 10.9329584,\n",
              "   'tags': {'addr:city': 'Modena',\n",
              "    'addr:country': 'IT',\n",
              "    'addr:housenumber': '41',\n",
              "    'addr:postcode': '41124',\n",
              "    'addr:street': 'Viale Gaetano Moreali',\n",
              "    'addr:suburb': 'Buon Pastore - Sant’Agnese - San Damaso',\n",
              "    'name': 'Hotel San Geminiano',\n",
              "    'tourism': 'hotel'}},\n",
              "  {'type': 'node',\n",
              "   'id': 4207865645,\n",
              "   'lat': 44.6391815,\n",
              "   'lon': 10.9436461,\n",
              "   'tags': {'addr:city': 'Modena',\n",
              "    'addr:country': 'IT',\n",
              "    'addr:housenumber': '441',\n",
              "    'addr:postcode': '41100',\n",
              "    'addr:street': 'Via Emilia Est',\n",
              "    'internet_access': 'yes',\n",
              "    'internet_access:fee': 'no',\n",
              "    'name': 'Hotel Real Fini Via Emilia',\n",
              "    'phone': '+39 59 2051511',\n",
              "    'stars': '4',\n",
              "    'tourism': 'hotel',\n",
              "    'website': 'http://www.hotelviaemilia.it/',\n",
              "    'wheelchair': 'yes'}},\n",
              "  {'type': 'node',\n",
              "   'id': 4288677081,\n",
              "   'lat': 44.6390012,\n",
              "   'lon': 10.8857847,\n",
              "   'tags': {'name': 'Lux', 'tourism': 'hotel'}},\n",
              "  {'type': 'node',\n",
              "   'id': 4482898479,\n",
              "   'lat': 44.6519845,\n",
              "   'lon': 10.9348268,\n",
              "   'tags': {'addr:city': 'Modena',\n",
              "    'addr:country': 'IT',\n",
              "    'addr:housenumber': '47',\n",
              "    'addr:postcode': '41121',\n",
              "    'addr:street': 'Via Paolo Ferrari',\n",
              "    'email': 'info@hotellapacemodena.it',\n",
              "    'name': 'Hotel la pace',\n",
              "    'stars': '3',\n",
              "    'tourism': 'hotel',\n",
              "    'website': 'http://www.hotellapacemodena.it'}},\n",
              "  {'type': 'node',\n",
              "   'id': 4482945189,\n",
              "   'lat': 44.6432856,\n",
              "   'lon': 10.9275126,\n",
              "   'tags': {'addr:city': 'Modena',\n",
              "    'addr:country': 'IT',\n",
              "    'addr:housenumber': '6',\n",
              "    'addr:postcode': '41121',\n",
              "    'addr:street': 'Corso Canalgrande',\n",
              "    'internet_access': 'yes',\n",
              "    'internet_access:fee': 'no',\n",
              "    'name': 'Canalgrande Hotel',\n",
              "    'stars': '4',\n",
              "    'tourism': 'hotel',\n",
              "    'website': 'http://www.canalgrandehotel.it/',\n",
              "    'wheelchair': 'no'}},\n",
              "  {'type': 'node',\n",
              "   'id': 4501293249,\n",
              "   'lat': 44.6518231,\n",
              "   'lon': 10.932464,\n",
              "   'tags': {'addr:city': 'Modena',\n",
              "    'addr:country': 'IT',\n",
              "    'addr:housenumber': '94',\n",
              "    'addr:postcode': '41121',\n",
              "    'addr:street': 'Corso Vittorio Emanuele Secondo',\n",
              "    'internet_access': 'yes',\n",
              "    'internet_access:fee': 'no',\n",
              "    'name': 'Hotel Principe',\n",
              "    'stars': '3',\n",
              "    'tourism': 'hotel',\n",
              "    'website': 'http://www.hotelprincipemodena.it/'}}]}"
            ]
          },
          "metadata": {},
          "execution_count": 122
        }
      ]
    },
    {
      "cell_type": "markdown",
      "source": [
        "Now, we could plot all results found in both."
      ],
      "metadata": {
        "id": "hIPDdDODTBs2"
      }
    },
    {
      "cell_type": "code",
      "source": [
        "if "
      ],
      "metadata": {
        "id": "Z1kFd43TultA"
      },
      "execution_count": null,
      "outputs": []
    },
    {
      "cell_type": "code",
      "source": [
        "import numpy as np\n",
        "import matplotlib.pyplot as plt\n",
        "# Collect coords into list\n",
        "coords = []\n",
        "for element in data['elements']:\n",
        "  if df['hotels'].str.contains(element['tags']['name']).any():\n",
        "      if element['type'] == 'node':\n",
        "        lon = element['lon']\n",
        "        lat = element['lat']\n",
        "        name = element['tags']['name']\n",
        "      if 'stars' in element['tags']:\n",
        "        star = int(element['tags']['stars'])\n",
        "      else:\n",
        "        star = 0\n",
        "      coords.append((lon, lat, name, star))\n",
        "    elif 'center' in element:\n",
        "      lon = element['center']['lon']\n",
        "      lat = element['center']['lat']\n",
        "     col = element['tags']['tourism']\n",
        "      name = element['tags']['name']\n",
        "      if 'stars' in element['tags']:\n",
        "        star = int(element['tags']['stars'])\n",
        "      else:\n",
        "        star = 0\n",
        "      coords.append((lon, lat, name, star))\n",
        "# Convert coordinates into numpy array\n",
        "X = pd.DataFrame(coords, columns=['lon','lat','turism', 'name', 'stars'])\n",
        "bbox = (X.lon.min(), X.lon.max(), X.lat.max())"
      ],
      "metadata": {
        "id": "LEtQE-hrTExs"
      },
      "execution_count": null,
      "outputs": []
    },
    {
      "cell_type": "code",
      "source": [
        "fig, ax = ox.plot_graph(G, show=False, close=False)\n",
        "plt.scatter(X.lon, X.lat, c=X.stars, cmap ='viridis')\n",
        "plt.suptitle('Accomodations in '+ area, fontsize=15)\n",
        "plt.colorbar(label ='Star rating', shrink=0.85)\n",
        "plt.show()"
      ],
      "metadata": {
        "colab": {
          "base_uri": "https://localhost:8080/",
          "height": 497
        },
        "id": "TuxVVDJekKtu",
        "outputId": "8f27b12e-f834-4c72-d2cc-431dbd1d79e3"
      },
      "execution_count": null,
      "outputs": [
        {
          "output_type": "display_data",
          "data": {
            "text/plain": [
              "<Figure size 576x576 with 2 Axes>"
            ],
            "image/png": "[encoded data removed]"
          },
          "metadata": {}
        }
      ]
    }
  ]
}